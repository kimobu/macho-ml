{
 "cells": [
  {
   "cell_type": "code",
   "execution_count": 18,
   "id": "4b981256",
   "metadata": {},
   "outputs": [],
   "source": [
    "import json\n",
    "import argparse\n",
    "import os\n",
    "import pandas as pd\n",
    "from tqdm import tqdm\n",
    "\n",
    "\"\"\"\n",
    "parser = argparse.ArgumentParser(\n",
    "    description=\"Opens JSON files of Mach-O data and aggregates into a single pandas dataframe, saving as a CSV.\"\n",
    ")\n",
    "parser.add_argument(\n",
    "    \"--path\",\n",
    "    default=\"./json_data\",\n",
    "    type=str,\n",
    "    help=\"Where to look for parsed JSON files.\",\n",
    ")\n",
    "parser.add_argument(\n",
    "    \"--outdir\",\n",
    "    default=\"/tmp/json_data\",\n",
    "    type=str,\n",
    "    help=\"Where to output the CSV.\",\n",
    ")\n",
    "parser.add_argument(\n",
    "    \"--outfile\",\n",
    "    default=\"macho_feature_vector.csv\",\n",
    "    type=str,\n",
    "    help=\"What to call the CSV file.\",\n",
    ")\n",
    "args = parser.parse_args()\n",
    "\"\"\"\n",
    "\n",
    "def load_json(filename: str) -> str:\n",
    "    with open(filename, \"r\") as f:\n",
    "        data = json.loads(f.read())\n",
    "    return data\n",
    "\n",
    "\n",
    "def get_files(path: str) -> list:\n",
    "    filelist = []\n",
    "    for root, dirs, files in os.walk(path):\n",
    "        for filename in files:\n",
    "            fullpath = os.path.join(root, filename)\n",
    "            filelist.append(fullpath)\n",
    "    return filelist\n",
    "\n",
    "\n",
    "def parse_segment(load_command: object):\n",
    "    segment = {}\n",
    "    lname = load_command[\"name\"]\n",
    "    segment[\"name\"] = lname\n",
    "    segment[f\"segment_{lname}_vmsize\"] = load_command[\"vmsize\"]\n",
    "    segment[f\"segment_{lname}_size\"] = load_command[\"size\"]\n",
    "    segment[f\"segment_{lname}_initprot\"] = load_command[\"initprot\"]\n",
    "    segment[f\"segment_{lname}_maxprot\"] = load_command[\"maxprot\"]\n",
    "    segment[f\"segment_{lname}_nsects\"] = load_command[\"nsects\"]\n",
    "    segment[f\"segment_{lname}_entropy\"] = load_command[\"entropy\"]\n",
    "    for sect in load_command[\"sects\"]:\n",
    "        sectname = sect[\"name\"]\n",
    "        segment[f\"segment_{lname}_{sectname}\"] = sect\n",
    "    return segment\n",
    "\n",
    "\n",
    "def parse_loaddylib(load_command: object, mach: object):\n",
    "    dylib = {}\n",
    "    dname = load_command[\"name\"]\n",
    "    dylib[\"name\"] = dname\n",
    "    if \"imports\" in mach[\"macho\"].keys():\n",
    "        for imp in mach[\"macho\"][\"imports\"]:\n",
    "            if imp[1] == dname:\n",
    "                impfunc = imp[0]\n",
    "                dylib[f\"dylib_{dname}_{impfunc}\"] = 1            \n",
    "\n",
    "    dylib[f\"dylib_{dname}_cmdsize\"] = load_command[\"cmd_size\"]\n",
    "    dylib[f\"dylib_{dname}_version\"] = load_command[\"current_version\"]\n",
    "    dylib[f\"dylib_{dname}_timestamp\"] = load_command[\"timestamp\"]\n",
    "    return dylib\n",
    "\n",
    "\n",
    "def parse_json(data: object, filename: str):\n",
    "    mach = {}\n",
    "    mach[\"name\"] = data[\"name\"]\n",
    "    \n",
    "    mach[\"size\"] = data[\"size\"]\n",
    "    mach[\"entropy\"] = data[\"entropy\"]\n",
    "    mach[\"nlcs\"] = data[\"macho\"][\"nlcs\"]\n",
    "    mach[\"slcs\"] = data[\"macho\"][\"slcs\"]\n",
    " \n",
    "    for flag in data[\"macho\"][\"flags\"]:\n",
    "        fname = f\"flag_{flag}\"\n",
    "        mach[fname] = 1\n",
    "    if \"packed\" in filename:\n",
    "        mach[\"packed\"] = 1\n",
    "    else:\n",
    "        mach[\"packed\"] = 0\n",
    "    if data[\"malware\"] == 1:\n",
    "        mach[\"malware\"] = 1\n",
    "    else:\n",
    "        mach[\"malware\"] = 0\n",
    "    \n",
    "    for load_command in data[\"macho\"][\"lcs\"]:\n",
    "        lc_type = load_command[\"cmd\"]\n",
    "        if lc_type == \"SEGMENT\" or lc_type == \"SEGMENT_64\":\n",
    "            segment = parse_segment(load_command)\n",
    "            sname = segment[\"name\"]\n",
    "            mach[f\"segment_{sname}\"] = 1\n",
    "            for k,v in segment.items():\n",
    "                mach[f\"segment_{k}\"] = v\n",
    "        if lc_type == \"LOAD_DYLIB\":\n",
    "            dylib = parse_loaddylib(load_command, data)\n",
    "            dname = dylib[\"name\"]\n",
    "            mach[f\"dylib_{dname}\"] = 1\n",
    "            for k,v in dylib.items():\n",
    "                mach[f\"dylib_{k}\"] = v\n",
    "    \n",
    "    return mach"
   ]
  },
  {
   "cell_type": "code",
   "execution_count": 19,
   "id": "f3929671",
   "metadata": {},
   "outputs": [],
   "source": [
    "def call_parse(files, malware=0):\n",
    "    global machos \n",
    "    global max_len \n",
    "    global keys \n",
    "\n",
    "    for file in files:\n",
    "        toparse = []\n",
    "        with open(file, \"r\") as f:\n",
    "            jsondata = json.loads(f.read())\n",
    "            if \"universal\" in jsondata.keys():\n",
    "                for arch in jsondata[\"universal\"][\"machos\"]:\n",
    "                    jsondata[\"macho\"] = arch\n",
    "                    jsondata['malware'] = malware\n",
    "                    #print(jsondata)\n",
    "                    toparse.append(jsondata)\n",
    "            else:\n",
    "                jsondata['malware'] = malware\n",
    "                toparse.append(jsondata)\n",
    "        for macho in toparse:\n",
    "            mach = parse_json(macho, file)\n",
    "            if not mach:\n",
    "                print(f\"failed {file}\")\n",
    "                continue\n",
    "            machos.append(mach)\n",
    "            [keys.append(x) for x in mach.keys()]\n",
    "            cur_len = len(mach)\n",
    "            if cur_len > max_len:\n",
    "                max_len = cur_len\n",
    "\n",
    "machos = []\n",
    "max_len = 0\n",
    "keys = []\n",
    "\n",
    "files = get_files(\"json_benign\")\n",
    "call_parse(files)\n",
    "# Repeat, but with malware. Mark malware in JSON\n",
    "files = get_files(\"json_malware\")\n",
    "call_parse(files, malware=1)\n"
   ]
  },
  {
   "cell_type": "code",
   "execution_count": 20,
   "id": "c8109ec8",
   "metadata": {},
   "outputs": [
    {
     "name": "stderr",
     "output_type": "stream",
     "text": [
      "  0%|          "
     ]
    },
    {
     "name": "stdout",
     "output_type": "stream",
     "text": [
      "6f66fa15db660d367b2f62d739848d97e1ea2487a8c8d07886a6aa676e145485.packed\n",
      "MacBlockTrackersExtension\n"
     ]
    },
    {
     "name": "stderr",
     "output_type": "stream",
     "text": [
      "  0%|          "
     ]
    },
    {
     "name": "stdout",
     "output_type": "stream",
     "text": [
      "MacBlockTrackersExtension\n",
      "b59a27adeda34d36b427b81188abccdc451367550a1d171796513aef6d713180.packed\n"
     ]
    },
    {
     "name": "stderr",
     "output_type": "stream",
     "text": [
      "  0%|          "
     ]
    },
    {
     "name": "stdout",
     "output_type": "stream",
     "text": [
      "libplc4.dylib\n",
      "libswiftCore.dylib\n"
     ]
    },
    {
     "name": "stderr",
     "output_type": "stream",
     "text": [
      "  0%|          "
     ]
    },
    {
     "name": "stdout",
     "output_type": "stream",
     "text": [
      "Coin Wallet Login Helper\n",
      "libgobject-2.0.0.dylib\n"
     ]
    },
    {
     "name": "stderr",
     "output_type": "stream",
     "text": [
      "  0%|          "
     ]
    },
    {
     "name": "stdout",
     "output_type": "stream",
     "text": [
      "logi_crashpad_handler\n",
      "libnspr4.dylib\n"
     ]
    },
    {
     "name": "stderr",
     "output_type": "stream",
     "text": [
      "  0%|          "
     ]
    },
    {
     "name": "stdout",
     "output_type": "stream",
     "text": [
      "3290a937d406a88069ad6a29705ff00b9ff105bfd795ff12e221f90b06af3eff.packed\n",
      "libswiftDispatch.dylib\n"
     ]
    },
    {
     "name": "stderr",
     "output_type": "stream",
     "text": [
      "  0%|          "
     ]
    },
    {
     "name": "stdout",
     "output_type": "stream",
     "text": [
      "libswiftDispatch.dylib\n",
      "BlockBlock\n"
     ]
    },
    {
     "name": "stderr",
     "output_type": "stream",
     "text": [
      "  0%|          "
     ]
    },
    {
     "name": "stdout",
     "output_type": "stream",
     "text": [
      "BlockBlock\n",
      "G App Launcher\n"
     ]
    },
    {
     "name": "stderr",
     "output_type": "stream",
     "text": [
      "  0%|          "
     ]
    },
    {
     "name": "stdout",
     "output_type": "stream",
     "text": [
      "G App Launcher\n",
      "94b35aca8f74fdfaaa903d378190fc68df1350a4045c934d818e8fb67e07e04b.packed\n"
     ]
    },
    {
     "name": "stderr",
     "output_type": "stream",
     "text": [
      "  0%|          "
     ]
    },
    {
     "name": "stdout",
     "output_type": "stream",
     "text": [
      "Friendly Streaming\n"
     ]
    },
    {
     "name": "stderr",
     "output_type": "stream",
     "text": [
      "  1%|          "
     ]
    },
    {
     "name": "stdout",
     "output_type": "stream",
     "text": [
      "Friendly Streaming\n",
      "SpeedTestHelper\n"
     ]
    },
    {
     "name": "stderr",
     "output_type": "stream",
     "text": [
      "  1%|          "
     ]
    },
    {
     "name": "stdout",
     "output_type": "stream",
     "text": [
      "SpeedTestHelper\n",
      "1197a4a5c0aa07d7d259de4cd31c9cf53896de935e643b03613dc71be5f14e38.packed\n"
     ]
    },
    {
     "name": "stderr",
     "output_type": "stream",
     "text": [
      "  1%|          "
     ]
    },
    {
     "name": "stdout",
     "output_type": "stream",
     "text": [
      "1197a4a5c0aa07d7d259de4cd31c9cf53896de935e643b03613dc71be5f14e38.packed\n",
      "2b0ba0e57a1330131900ab703d31192910a0f6c92fc3e3854eb8e2714e72b976.packed\n"
     ]
    },
    {
     "name": "stderr",
     "output_type": "stream",
     "text": [
      "  1%|          "
     ]
    },
    {
     "name": "stdout",
     "output_type": "stream",
     "text": [
      "Betternet VPN\n",
      "2c4e20186f9f5d2dafd05beff70b9f0e8a300af50ace5dd58a1df7ff168d8e89.packed\n"
     ]
    },
    {
     "name": "stderr",
     "output_type": "stream",
     "text": [
      "  1%|          "
     ]
    },
    {
     "name": "stdout",
     "output_type": "stream",
     "text": [
      "OOPDebayerService\n",
      "OOPDebayerService\n"
     ]
    },
    {
     "name": "stderr",
     "output_type": "stream",
     "text": [
      "  1%|          "
     ]
    },
    {
     "name": "stdout",
     "output_type": "stream",
     "text": [
      "fileop\n",
      "fileop\n"
     ]
    },
    {
     "name": "stderr",
     "output_type": "stream",
     "text": [
      "  1%|          "
     ]
    },
    {
     "name": "stdout",
     "output_type": "stream",
     "text": [
      "0420c630d7108a455320d4f273d21f7e41e0131cf7c10e0644efca714ad44075.packed\n",
      "4d3a45c9886cf73ef5a6ee5ac5088a5f3245ee50e8352b024ff70321e30ed5fc.packed\n"
     ]
    },
    {
     "name": "stderr",
     "output_type": "stream",
     "text": [
      "  1%|          "
     ]
    },
    {
     "name": "stdout",
     "output_type": "stream",
     "text": [
      "libswiftDispatch.dylib\n",
      "iRightMenuPlugin\n"
     ]
    },
    {
     "name": "stderr",
     "output_type": "stream",
     "text": [
      "  1%|          "
     ]
    },
    {
     "name": "stdout",
     "output_type": "stream",
     "text": [
      "iRightMenuPlugin\n",
      "Instapaper Save Extension\n"
     ]
    },
    {
     "name": "stderr",
     "output_type": "stream",
     "text": [
      "  1%|          "
     ]
    },
    {
     "name": "stdout",
     "output_type": "stream",
     "text": [
      "Instapaper Save Extension\n",
      "533d9d3054c2626043652bda4c6ac31a6a17c13fef567a5b54cc4c38e7bc58f6.packed\n"
     ]
    },
    {
     "name": "stderr",
     "output_type": "stream",
     "text": [
      "  1%|          "
     ]
    },
    {
     "name": "stdout",
     "output_type": "stream",
     "text": [
      "e609209445e1c040732895efc219237728882d4c44373d7a217fed6f640d388f.packed\n"
     ]
    },
    {
     "name": "stderr",
     "output_type": "stream",
     "text": [
      "  1%|          "
     ]
    },
    {
     "name": "stdout",
     "output_type": "stream",
     "text": [
      "4c067e5fc7431356f4f49933f1e06e9b4eaa8e441816d2e0bcd695489b1b5b9a.packed\n"
     ]
    },
    {
     "name": "stderr",
     "output_type": "stream",
     "text": [
      "  1%|          "
     ]
    },
    {
     "name": "stdout",
     "output_type": "stream",
     "text": [
      "libswiftDispatch.dylib\n"
     ]
    },
    {
     "name": "stderr",
     "output_type": "stream",
     "text": [
      "  1%|          "
     ]
    },
    {
     "name": "stdout",
     "output_type": "stream",
     "text": [
      "8bd4f9aa3a1fb0f236ece4db18102c2a1a5b431cde6201853fb8fbde1c21fb79.packed\n"
     ]
    },
    {
     "name": "stderr",
     "output_type": "stream",
     "text": [
      "  1%|          "
     ]
    },
    {
     "name": "stdout",
     "output_type": "stream",
     "text": [
      "SwiftyXMLParser\n"
     ]
    },
    {
     "name": "stderr",
     "output_type": "stream",
     "text": [
      "  1%|          "
     ]
    },
    {
     "name": "stdout",
     "output_type": "stream",
     "text": [
      "1b873e62620a89908a40d836ee11497ede44b03c42cc54d5115d0601f52a795a.packed\n"
     ]
    },
    {
     "name": "stderr",
     "output_type": "stream",
     "text": [
      "  1%|          "
     ]
    },
    {
     "name": "stdout",
     "output_type": "stream",
     "text": [
      "863098377c6b7e04e49594a2014d36db58317c6698527375b3c000f615e5cd97.packed\n"
     ]
    },
    {
     "name": "stderr",
     "output_type": "stream",
     "text": [
      "  1%|▏         "
     ]
    },
    {
     "name": "stdout",
     "output_type": "stream",
     "text": [
      "f88b478c62e3fa0e35b1be37482a9995dc7abc4a9ce005a69a30b33c46c3fd94.packed\n"
     ]
    },
    {
     "name": "stderr",
     "output_type": "stream",
     "text": [
      "  1%|▏         "
     ]
    },
    {
     "name": "stdout",
     "output_type": "stream",
     "text": [
      "libswiftDispatch.dylib\n"
     ]
    },
    {
     "name": "stderr",
     "output_type": "stream",
     "text": [
      "  1%|▏         "
     ]
    },
    {
     "name": "stdout",
     "output_type": "stream",
     "text": [
      "Save to Downloads\n"
     ]
    },
    {
     "name": "stderr",
     "output_type": "stream",
     "text": [
      "  1%|▏         "
     ]
    },
    {
     "name": "stdout",
     "output_type": "stream",
     "text": [
      "Save to Downloads\n"
     ]
    },
    {
     "name": "stderr",
     "output_type": "stream",
     "text": [
      "  1%|▏         "
     ]
    },
    {
     "name": "stdout",
     "output_type": "stream",
     "text": [
      "fileop\n"
     ]
    },
    {
     "name": "stderr",
     "output_type": "stream",
     "text": [
      "  1%|▏         "
     ]
    },
    {
     "name": "stdout",
     "output_type": "stream",
     "text": [
      "0063de7cfedf3318e7e893bfbbdc67c546b99b31048e504d0a7557dcf13aabf1.packed\n"
     ]
    },
    {
     "name": "stderr",
     "output_type": "stream",
     "text": [
      "  1%|▏         "
     ]
    },
    {
     "name": "stdout",
     "output_type": "stream",
     "text": [
      "de00943de284d755c497a817ba9c5af78a96f136583d5594d37022b459fc6d6c.packed\n"
     ]
    },
    {
     "name": "stderr",
     "output_type": "stream",
     "text": [
      "  1%|▏         "
     ]
    },
    {
     "name": "stdout",
     "output_type": "stream",
     "text": [
      "United Airlines - Saved Trips\n"
     ]
    },
    {
     "name": "stderr",
     "output_type": "stream",
     "text": [
      "  1%|▏         "
     ]
    },
    {
     "name": "stdout",
     "output_type": "stream",
     "text": [
      "dcmdump\n"
     ]
    },
    {
     "name": "stderr",
     "output_type": "stream",
     "text": [
      "  2%|▏         "
     ]
    },
    {
     "name": "stdout",
     "output_type": "stream",
     "text": [
      "f65bfae1806129b366c685d78fc0c2812fa2cc0bd17e5180447f9d831abbff0b.packed\n"
     ]
    },
    {
     "name": "stderr",
     "output_type": "stream",
     "text": [
      "  2%|▏         "
     ]
    },
    {
     "name": "stdout",
     "output_type": "stream",
     "text": [
      "8f706575c7f4613f77b8191572216a3963b86ab5d693860e1cdfabd4fbb493ab.packed\n"
     ]
    },
    {
     "name": "stderr",
     "output_type": "stream",
     "text": [
      "  2%|▏         "
     ]
    },
    {
     "name": "stdout",
     "output_type": "stream",
     "text": [
      "libswiftDispatch.dylib\n"
     ]
    },
    {
     "name": "stderr",
     "output_type": "stream",
     "text": [
      "  2%|▏         "
     ]
    },
    {
     "name": "stdout",
     "output_type": "stream",
     "text": [
      "CptHost\n"
     ]
    },
    {
     "name": "stderr",
     "output_type": "stream",
     "text": [
      "  2%|▏         "
     ]
    },
    {
     "name": "stdout",
     "output_type": "stream",
     "text": [
      "libswiftDispatch.dylib\n"
     ]
    },
    {
     "name": "stderr",
     "output_type": "stream",
     "text": [
      "  2%|▏         "
     ]
    },
    {
     "name": "stdout",
     "output_type": "stream",
     "text": [
      "libtwcut.dylib\n"
     ]
    },
    {
     "name": "stderr",
     "output_type": "stream",
     "text": [
      "  2%|▏         "
     ]
    },
    {
     "name": "stdout",
     "output_type": "stream",
     "text": [
      "11d64917515b2d95a09896737c5e38b6548ae9da1cf0bf94c8a8b5b7708e8978.packed\n"
     ]
    },
    {
     "name": "stderr",
     "output_type": "stream",
     "text": [
      "  2%|▏         "
     ]
    },
    {
     "name": "stdout",
     "output_type": "stream",
     "text": [
      "5f96d2970de384ff6a4a6f1712325b6ee72c98ba5ad1e36f9385113dcd301b71.packed\n"
     ]
    },
    {
     "name": "stderr",
     "output_type": "stream",
     "text": [
      "  2%|▏         "
     ]
    },
    {
     "name": "stdout",
     "output_type": "stream",
     "text": [
      "09c65640355b1ec646c9b099113bede5fd2b8140b60f4f77d335e9ecd5481336.packed\n"
     ]
    },
    {
     "name": "stderr",
     "output_type": "stream",
     "text": [
      "  2%|▏         "
     ]
    },
    {
     "name": "stdout",
     "output_type": "stream",
     "text": [
      "13fed571c21d481de346f55499a76489641ce4674186ff249db9842bb228ed46.packed\n"
     ]
    },
    {
     "name": "stderr",
     "output_type": "stream",
     "text": [
      "  2%|▏         "
     ]
    },
    {
     "name": "stdout",
     "output_type": "stream",
     "text": [
      "ReiKey\n"
     ]
    },
    {
     "name": "stderr",
     "output_type": "stream",
     "text": [
      "  2%|▏         "
     ]
    },
    {
     "name": "stdout",
     "output_type": "stream",
     "text": [
      "ReiKey\n"
     ]
    },
    {
     "name": "stderr",
     "output_type": "stream",
     "text": [
      "  2%|▏         "
     ]
    },
    {
     "name": "stdout",
     "output_type": "stream",
     "text": [
      "00dd5e32738047843c3d4cb07e0b61a9aa7555f533b0ba6dc1a801994a7a8676.packed\n"
     ]
    },
    {
     "name": "stderr",
     "output_type": "stream",
     "text": [
      "  2%|▏         "
     ]
    },
    {
     "name": "stdout",
     "output_type": "stream",
     "text": [
      "2c86ff4fcb1a5657f66c9e55246c48a1741f842ed76cc771efc76b0b448d602c.packed\n"
     ]
    },
    {
     "name": "stderr",
     "output_type": "stream",
     "text": [
      "  2%|▏         "
     ]
    },
    {
     "name": "stdout",
     "output_type": "stream",
     "text": [
      "iDownloader\n"
     ]
    },
    {
     "name": "stderr",
     "output_type": "stream",
     "text": [
      "  2%|▏         "
     ]
    },
    {
     "name": "stdout",
     "output_type": "stream",
     "text": [
      "Nova Quick Look Previewing\n"
     ]
    },
    {
     "name": "stderr",
     "output_type": "stream",
     "text": [
      "  2%|▏         "
     ]
    },
    {
     "name": "stdout",
     "output_type": "stream",
     "text": [
      "Nova Quick Look Previewing\n"
     ]
    },
    {
     "name": "stderr",
     "output_type": "stream",
     "text": [
      "  2%|▏         "
     ]
    },
    {
     "name": "stdout",
     "output_type": "stream",
     "text": [
      "Safari\n"
     ]
    },
    {
     "name": "stderr",
     "output_type": "stream",
     "text": [
      "  2%|▏         "
     ]
    },
    {
     "name": "stdout",
     "output_type": "stream",
     "text": [
      "Safari\n"
     ]
    },
    {
     "name": "stderr",
     "output_type": "stream",
     "text": [
      "  2%|▏         "
     ]
    },
    {
     "name": "stdout",
     "output_type": "stream",
     "text": [
      "78428815352683afef499052226b545ad869523cbbae5c417fb0f801f1b5bac5.packed\n"
     ]
    },
    {
     "name": "stderr",
     "output_type": "stream",
     "text": [
      "  2%|▏         "
     ]
    },
    {
     "name": "stdout",
     "output_type": "stream",
     "text": [
      "Autoupdate\n"
     ]
    },
    {
     "name": "stderr",
     "output_type": "stream",
     "text": [
      "  2%|▏         "
     ]
    },
    {
     "name": "stdout",
     "output_type": "stream",
     "text": [
      "libtwreck.dylib\n"
     ]
    },
    {
     "name": "stderr",
     "output_type": "stream",
     "text": [
      "  2%|▏         "
     ]
    },
    {
     "name": "stdout",
     "output_type": "stream",
     "text": [
      "HP Easy Scan\n"
     ]
    },
    {
     "name": "stderr",
     "output_type": "stream",
     "text": [
      "  2%|▏         "
     ]
    },
    {
     "name": "stdout",
     "output_type": "stream",
     "text": [
      "org.mozilla.updater\n"
     ]
    },
    {
     "name": "stderr",
     "output_type": "stream",
     "text": [
      "  2%|▏         "
     ]
    },
    {
     "name": "stdout",
     "output_type": "stream",
     "text": [
      "org.mozilla.updater\n"
     ]
    },
    {
     "name": "stderr",
     "output_type": "stream",
     "text": [
      "  2%|▏         "
     ]
    },
    {
     "name": "stdout",
     "output_type": "stream",
     "text": [
      "PassMaker\n"
     ]
    },
    {
     "name": "stderr",
     "output_type": "stream",
     "text": [
      "  2%|▏         "
     ]
    },
    {
     "name": "stdout",
     "output_type": "stream",
     "text": [
      "QtQuickTemplates2\n"
     ]
    },
    {
     "name": "stderr",
     "output_type": "stream",
     "text": [
      "  2%|▏         "
     ]
    },
    {
     "name": "stdout",
     "output_type": "stream",
     "text": [
      "50116e947055c7bf541690a4fef0d1975f19d2396d0025a0ed240364a0162135.packed\n"
     ]
    },
    {
     "name": "stderr",
     "output_type": "stream",
     "text": [
      "  2%|▏         "
     ]
    },
    {
     "name": "stdout",
     "output_type": "stream",
     "text": [
      "6e44f5850e1ff7e17da60e9e3f2afe13e2eea608c4a045c1f75ebcd936ecc0c0.packed\n"
     ]
    },
    {
     "name": "stderr",
     "output_type": "stream",
     "text": [
      "  2%|▏         "
     ]
    },
    {
     "name": "stdout",
     "output_type": "stream",
     "text": [
      "vcxpc\n"
     ]
    },
    {
     "name": "stderr",
     "output_type": "stream",
     "text": [
      "  2%|▏         "
     ]
    },
    {
     "name": "stdout",
     "output_type": "stream",
     "text": [
      "Nelo2SDK\n"
     ]
    },
    {
     "name": "stderr",
     "output_type": "stream",
     "text": [
      "  2%|▏         "
     ]
    },
    {
     "name": "stdout",
     "output_type": "stream",
     "text": [
      "Nelo2SDK\n"
     ]
    },
    {
     "name": "stderr",
     "output_type": "stream",
     "text": [
      "  2%|▏         "
     ]
    },
    {
     "name": "stdout",
     "output_type": "stream",
     "text": [
      "iStat Menus Status\n"
     ]
    },
    {
     "name": "stderr",
     "output_type": "stream",
     "text": [
      "  2%|▏         "
     ]
    },
    {
     "name": "stdout",
     "output_type": "stream",
     "text": [
      "iStat Menus Status\n"
     ]
    },
    {
     "name": "stderr",
     "output_type": "stream",
     "text": [
      "  2%|▏         "
     ]
    },
    {
     "name": "stdout",
     "output_type": "stream",
     "text": [
      "Microsoft Error Reporting\n"
     ]
    },
    {
     "name": "stderr",
     "output_type": "stream",
     "text": [
      "  2%|▏         "
     ]
    },
    {
     "name": "stdout",
     "output_type": "stream",
     "text": [
      "Microsoft Error Reporting\n"
     ]
    },
    {
     "name": "stderr",
     "output_type": "stream",
     "text": [
      "  2%|▏         "
     ]
    },
    {
     "name": "stdout",
     "output_type": "stream",
     "text": [
      "libswiftDispatch.dylib\n"
     ]
    },
    {
     "name": "stderr",
     "output_type": "stream",
     "text": [
      "  3%|▎         "
     ]
    },
    {
     "name": "stdout",
     "output_type": "stream",
     "text": [
      "segmenter\n"
     ]
    },
    {
     "name": "stderr",
     "output_type": "stream",
     "text": [
      "  3%|▎         "
     ]
    },
    {
     "name": "stdout",
     "output_type": "stream",
     "text": [
      "QtQuickTemplates2\n"
     ]
    },
    {
     "name": "stderr",
     "output_type": "stream",
     "text": [
      "  3%|▎         "
     ]
    },
    {
     "name": "stdout",
     "output_type": "stream",
     "text": [
      "QtQuickTemplates2\n"
     ]
    },
    {
     "name": "stderr",
     "output_type": "stream",
     "text": [
      "  3%|▎         "
     ]
    },
    {
     "name": "stdout",
     "output_type": "stream",
     "text": [
      "8ae5e3de5ae4e0e2d589224261209fe57484ee1b01e41da51447e17819193a4c.packed\n"
     ]
    },
    {
     "name": "stderr",
     "output_type": "stream",
     "text": [
      "  3%|▎         "
     ]
    },
    {
     "name": "stdout",
     "output_type": "stream",
     "text": [
      "LINE.MediaService\n"
     ]
    },
    {
     "name": "stderr",
     "output_type": "stream",
     "text": [
      "  3%|▎         "
     ]
    },
    {
     "name": "stdout",
     "output_type": "stream",
     "text": [
      "LINE.MediaService\n"
     ]
    },
    {
     "name": "stderr",
     "output_type": "stream",
     "text": [
      "  3%|▎         "
     ]
    },
    {
     "name": "stdout",
     "output_type": "stream",
     "text": [
      "d34f1adf2db251114c34c5df5d62a50424f034aa39fae05b6242a8224cb832f9.packed\n"
     ]
    },
    {
     "name": "stderr",
     "output_type": "stream",
     "text": [
      "  3%|▎         "
     ]
    },
    {
     "name": "stdout",
     "output_type": "stream",
     "text": [
      "adguard-tun-helper\n"
     ]
    },
    {
     "name": "stderr",
     "output_type": "stream",
     "text": [
      "  3%|▎         "
     ]
    },
    {
     "name": "stdout",
     "output_type": "stream",
     "text": [
      "adguard-tun-helper\n"
     ]
    },
    {
     "name": "stderr",
     "output_type": "stream",
     "text": [
      "  3%|▎         "
     ]
    },
    {
     "name": "stdout",
     "output_type": "stream",
     "text": [
      "cdef42015ee6442640435663477b048116d5738b5c22ac67e963ec84b09d5b50.packed\n"
     ]
    },
    {
     "name": "stderr",
     "output_type": "stream",
     "text": [
      "  3%|▎         "
     ]
    },
    {
     "name": "stdout",
     "output_type": "stream",
     "text": [
      "79857566b5e6dbeedfac63131fbe07491cf7f7fd3bc2c547e9c7a4e6d6c31cbd.packed\n"
     ]
    },
    {
     "name": "stderr",
     "output_type": "stream",
     "text": [
      "  3%|▎         "
     ]
    },
    {
     "name": "stdout",
     "output_type": "stream",
     "text": [
      "Slack Helper\n"
     ]
    },
    {
     "name": "stderr",
     "output_type": "stream",
     "text": [
      "  3%|▎         "
     ]
    },
    {
     "name": "stdout",
     "output_type": "stream",
     "text": [
      "Slack Helper\n"
     ]
    },
    {
     "name": "stderr",
     "output_type": "stream",
     "text": [
      "  3%|▎         "
     ]
    },
    {
     "name": "stdout",
     "output_type": "stream",
     "text": [
      "abd7eb5452130a470f6561477e86e6ed7532e7d25d565eb9d2346794d29f8f05.packed\n"
     ]
    },
    {
     "name": "stderr",
     "output_type": "stream",
     "text": [
      "  3%|▎         "
     ]
    },
    {
     "name": "stdout",
     "output_type": "stream",
     "text": [
      "72c3138e5db9cf5525fc4c423aa6441581f2f447c0a64c26ea4c50c684104f4b.packed\n"
     ]
    },
    {
     "name": "stderr",
     "output_type": "stream",
     "text": [
      "  3%|▎         "
     ]
    },
    {
     "name": "stdout",
     "output_type": "stream",
     "text": [
      "b9f93c7eb9b33105ca223280c37c5addc414d206ab90dc625e38bdade50675b9.packed\n"
     ]
    },
    {
     "name": "stderr",
     "output_type": "stream",
     "text": [
      "  3%|▎         "
     ]
    },
    {
     "name": "stdout",
     "output_type": "stream",
     "text": [
      "04c8717a2b87ff2bc211002706a339807b7b1e5e28fb5700adc79e83c53fc1d3.packed\n"
     ]
    },
    {
     "name": "stderr",
     "output_type": "stream",
     "text": [
      "  3%|▎         "
     ]
    },
    {
     "name": "stdout",
     "output_type": "stream",
     "text": [
      "fileop\n"
     ]
    },
    {
     "name": "stderr",
     "output_type": "stream",
     "text": [
      "  3%|▎         "
     ]
    },
    {
     "name": "stdout",
     "output_type": "stream",
     "text": [
      "fileop\n"
     ]
    },
    {
     "name": "stderr",
     "output_type": "stream",
     "text": [
      "  3%|▎         "
     ]
    },
    {
     "name": "stdout",
     "output_type": "stream",
     "text": [
      "79457194e79d3dbabac2e8904163f9f3555d3be012c0d184437efa28da226563.packed\n"
     ]
    },
    {
     "name": "stderr",
     "output_type": "stream",
     "text": [
      "  3%|▎         "
     ]
    },
    {
     "name": "stdout",
     "output_type": "stream",
     "text": [
      "4886379a8a85f9020d80a7a40d47ae0824f2bd29f54dbc42f561ba03a6aa018d.packed\n"
     ]
    },
    {
     "name": "stderr",
     "output_type": "stream",
     "text": [
      "  3%|▎         "
     ]
    },
    {
     "name": "stdout",
     "output_type": "stream",
     "text": [
      "Microsoft Teams Helper (GPU)\n"
     ]
    },
    {
     "name": "stderr",
     "output_type": "stream",
     "text": [
      "  3%|▎         "
     ]
    },
    {
     "name": "stdout",
     "output_type": "stream",
     "text": [
      "ShipIt\n"
     ]
    },
    {
     "name": "stderr",
     "output_type": "stream",
     "text": [
      "  3%|▎         "
     ]
    },
    {
     "name": "stdout",
     "output_type": "stream",
     "text": [
      "libffmpeg.dylib\n"
     ]
    },
    {
     "name": "stderr",
     "output_type": "stream",
     "text": [
      "  3%|▎         "
     ]
    },
    {
     "name": "stdout",
     "output_type": "stream",
     "text": [
      "ActionShortcuts\n"
     ]
    },
    {
     "name": "stderr",
     "output_type": "stream",
     "text": [
      "  3%|▎         "
     ]
    },
    {
     "name": "stdout",
     "output_type": "stream",
     "text": [
      "ActionShortcuts\n"
     ]
    },
    {
     "name": "stderr",
     "output_type": "stream",
     "text": [
      "  3%|▎         "
     ]
    },
    {
     "name": "stdout",
     "output_type": "stream",
     "text": [
      "WeChat\n"
     ]
    },
    {
     "name": "stderr",
     "output_type": "stream",
     "text": [
      "  3%|▎         "
     ]
    },
    {
     "name": "stdout",
     "output_type": "stream",
     "text": [
      "WeChat\n"
     ]
    },
    {
     "name": "stderr",
     "output_type": "stream",
     "text": [
      "  3%|▎         "
     ]
    },
    {
     "name": "stdout",
     "output_type": "stream",
     "text": [
      "6fa312df55ec4463bed7ae1376891df34211ec688a15f347b145a583d01f31d9.packed\n"
     ]
    },
    {
     "name": "stderr",
     "output_type": "stream",
     "text": [
      "  3%|▎         "
     ]
    },
    {
     "name": "stdout",
     "output_type": "stream",
     "text": [
      "Extra Keys\n"
     ]
    },
    {
     "name": "stderr",
     "output_type": "stream",
     "text": [
      "  3%|▎         "
     ]
    },
    {
     "name": "stdout",
     "output_type": "stream",
     "text": [
      "libswiftDispatch.dylib\n"
     ]
    },
    {
     "name": "stderr",
     "output_type": "stream",
     "text": [
      "  3%|▎         "
     ]
    },
    {
     "name": "stdout",
     "output_type": "stream",
     "text": [
      "com.amvidia.MP3ConverterXPC05\n"
     ]
    },
    {
     "name": "stderr",
     "output_type": "stream",
     "text": [
      "  3%|▎         "
     ]
    },
    {
     "name": "stdout",
     "output_type": "stream",
     "text": [
      "a20e62311b6105922e084ee7d257586cfb612785403543b2fe64ef189b9355a1.packed\n"
     ]
    },
    {
     "name": "stderr",
     "output_type": "stream",
     "text": [
      "  3%|▎         "
     ]
    },
    {
     "name": "stdout",
     "output_type": "stream",
     "text": [
      "70b3f492667458439e7ff07b9d1a63fd8f8c7c90bc81c352c64622c17f22bd31.packed\n"
     ]
    },
    {
     "name": "stderr",
     "output_type": "stream",
     "text": [
      "  3%|▎         "
     ]
    },
    {
     "name": "stdout",
     "output_type": "stream",
     "text": [
      "f5eaaf3e72f9ec213727ec7e3184341ab30d35b122fe0d02a94da7f11d23d950.packed\n"
     ]
    },
    {
     "name": "stderr",
     "output_type": "stream",
     "text": [
      "  3%|▎         "
     ]
    },
    {
     "name": "stdout",
     "output_type": "stream",
     "text": [
      "NordVPNLauncher\n"
     ]
    },
    {
     "name": "stderr",
     "output_type": "stream",
     "text": [
      "  3%|▎         "
     ]
    },
    {
     "name": "stdout",
     "output_type": "stream",
     "text": [
      "NordVPNLauncher\n"
     ]
    },
    {
     "name": "stderr",
     "output_type": "stream",
     "text": [
      "  4%|▎         "
     ]
    },
    {
     "name": "stdout",
     "output_type": "stream",
     "text": [
      "Microsoft Excel\n"
     ]
    },
    {
     "name": "stderr",
     "output_type": "stream",
     "text": [
      "  4%|▎         "
     ]
    },
    {
     "name": "stdout",
     "output_type": "stream",
     "text": [
      "Microsoft Excel\n"
     ]
    },
    {
     "name": "stderr",
     "output_type": "stream",
     "text": [
      "  4%|▎         "
     ]
    },
    {
     "name": "stdout",
     "output_type": "stream",
     "text": [
      "bfe8fbceca2b57f10d7552443ee36b023f4167fe04d78207ab329bfce36569a0.packed\n"
     ]
    },
    {
     "name": "stderr",
     "output_type": "stream",
     "text": [
      "  4%|▎         "
     ]
    },
    {
     "name": "stdout",
     "output_type": "stream",
     "text": [
      "com.amvidia.MP3ConverterXPC01\n"
     ]
    },
    {
     "name": "stderr",
     "output_type": "stream",
     "text": [
      "  4%|▎         "
     ]
    },
    {
     "name": "stdout",
     "output_type": "stream",
     "text": [
      "GCHandler\n"
     ]
    },
    {
     "name": "stderr",
     "output_type": "stream",
     "text": [
      "  4%|▎         "
     ]
    },
    {
     "name": "stdout",
     "output_type": "stream",
     "text": [
      "GCHandler\n"
     ]
    },
    {
     "name": "stderr",
     "output_type": "stream",
     "text": [
      "  4%|▎         "
     ]
    },
    {
     "name": "stdout",
     "output_type": "stream",
     "text": [
      "libswiftDispatch.dylib\n"
     ]
    },
    {
     "name": "stderr",
     "output_type": "stream",
     "text": [
      "  4%|▎         "
     ]
    },
    {
     "name": "stdout",
     "output_type": "stream",
     "text": [
      "d4b1bee3d3b86f7cbe235db734c52d627fc9e9630229cb19df9db90c70475991.packed\n"
     ]
    },
    {
     "name": "stderr",
     "output_type": "stream",
     "text": [
      "  4%|▎         "
     ]
    },
    {
     "name": "stdout",
     "output_type": "stream",
     "text": [
      "org.sparkle-project.Downloader\n"
     ]
    },
    {
     "name": "stderr",
     "output_type": "stream",
     "text": [
      "  4%|▍         "
     ]
    },
    {
     "name": "stdout",
     "output_type": "stream",
     "text": [
      "org.sparkle-project.Downloader\n"
     ]
    },
    {
     "name": "stderr",
     "output_type": "stream",
     "text": [
      "  4%|▍         "
     ]
    },
    {
     "name": "stdout",
     "output_type": "stream",
     "text": [
      "WidgetExtension\n"
     ]
    },
    {
     "name": "stderr",
     "output_type": "stream",
     "text": [
      "  4%|▍         "
     ]
    },
    {
     "name": "stdout",
     "output_type": "stream",
     "text": [
      "Day One Safari Extension\n"
     ]
    },
    {
     "name": "stderr",
     "output_type": "stream",
     "text": [
      "  4%|▍         "
     ]
    },
    {
     "name": "stdout",
     "output_type": "stream",
     "text": [
      "Day One Safari Extension\n"
     ]
    },
    {
     "name": "stderr",
     "output_type": "stream",
     "text": [
      "  4%|▍         "
     ]
    },
    {
     "name": "stdout",
     "output_type": "stream",
     "text": [
      "5A4RE8SF68.com.tencent.xinWeChat.IPCHelper\n"
     ]
    },
    {
     "name": "stderr",
     "output_type": "stream",
     "text": [
      "  4%|▍         "
     ]
    },
    {
     "name": "stdout",
     "output_type": "stream",
     "text": [
      "5A4RE8SF68.com.tencent.xinWeChat.IPCHelper\n"
     ]
    },
    {
     "name": "stderr",
     "output_type": "stream",
     "text": [
      "  4%|▍         "
     ]
    },
    {
     "name": "stdout",
     "output_type": "stream",
     "text": [
      "SafariExtension\n"
     ]
    },
    {
     "name": "stderr",
     "output_type": "stream",
     "text": [
      "  4%|▍         "
     ]
    },
    {
     "name": "stdout",
     "output_type": "stream",
     "text": [
      "SafariExtension\n"
     ]
    },
    {
     "name": "stderr",
     "output_type": "stream",
     "text": [
      "  4%|▍         "
     ]
    },
    {
     "name": "stdout",
     "output_type": "stream",
     "text": [
      "b4a5f83b6f34f2526d42fcdc7fa9715112d623f22e62813d40851dfdc7fc93a3.packed\n"
     ]
    },
    {
     "name": "stderr",
     "output_type": "stream",
     "text": [
      "  4%|▍         "
     ]
    },
    {
     "name": "stdout",
     "output_type": "stream",
     "text": [
      "LaTeXiT\n"
     ]
    },
    {
     "name": "stderr",
     "output_type": "stream",
     "text": [
      "  4%|▍         "
     ]
    },
    {
     "name": "stdout",
     "output_type": "stream",
     "text": [
      "LaTeXiT\n"
     ]
    },
    {
     "name": "stderr",
     "output_type": "stream",
     "text": [
      "  4%|▍         "
     ]
    },
    {
     "name": "stdout",
     "output_type": "stream",
     "text": [
      "Free VPN\n"
     ]
    },
    {
     "name": "stderr",
     "output_type": "stream",
     "text": [
      "  4%|▍         "
     ]
    },
    {
     "name": "stdout",
     "output_type": "stream",
     "text": [
      "Free VPN\n"
     ]
    },
    {
     "name": "stderr",
     "output_type": "stream",
     "text": [
      "  4%|▍         "
     ]
    },
    {
     "name": "stdout",
     "output_type": "stream",
     "text": [
      "TunesMechanic\n"
     ]
    },
    {
     "name": "stderr",
     "output_type": "stream",
     "text": [
      "  4%|▍         "
     ]
    },
    {
     "name": "stdout",
     "output_type": "stream",
     "text": [
      "TunesMechanic\n"
     ]
    },
    {
     "name": "stderr",
     "output_type": "stream",
     "text": [
      "  4%|▍         "
     ]
    },
    {
     "name": "stdout",
     "output_type": "stream",
     "text": [
      "libtwcutlin.dylib\n"
     ]
    },
    {
     "name": "stderr",
     "output_type": "stream",
     "text": [
      "  4%|▍         "
     ]
    },
    {
     "name": "stdout",
     "output_type": "stream",
     "text": [
      "TeX Live Utility\n"
     ]
    },
    {
     "name": "stderr",
     "output_type": "stream",
     "text": [
      "  4%|▍         "
     ]
    },
    {
     "name": "stdout",
     "output_type": "stream",
     "text": [
      "TeX Live Utility\n"
     ]
    },
    {
     "name": "stderr",
     "output_type": "stream",
     "text": [
      "  4%|▍         "
     ]
    },
    {
     "name": "stdout",
     "output_type": "stream",
     "text": [
      "643bbb766ca7ebecc581f7dcf0f2f34658d46a68c3be2f95532116c6f9fe6e9c.packed\n"
     ]
    },
    {
     "name": "stderr",
     "output_type": "stream",
     "text": [
      "  4%|▍         "
     ]
    },
    {
     "name": "stdout",
     "output_type": "stream",
     "text": [
      "7917f6216a067e865c7b5026f4993395ed7c3982fa9c1750d64ba45a2c467943.packed\n"
     ]
    },
    {
     "name": "stderr",
     "output_type": "stream",
     "text": [
      "  4%|▍         "
     ]
    },
    {
     "name": "stdout",
     "output_type": "stream",
     "text": [
      "c3a8eba26d9af49f1522e87ced08c73c552bff14ce1a2254ab3bab2453403bfd.packed\n"
     ]
    },
    {
     "name": "stderr",
     "output_type": "stream",
     "text": [
      "  4%|▍         "
     ]
    },
    {
     "name": "stdout",
     "output_type": "stream",
     "text": [
      "3d3cc7eb7c1c35e48fa3af2408a49db9cf9491ba6e7bf63a24668b7cc2b39848.packed\n"
     ]
    },
    {
     "name": "stderr",
     "output_type": "stream",
     "text": [
      "  4%|▍         "
     ]
    },
    {
     "name": "stdout",
     "output_type": "stream",
     "text": [
      "libringrtc-x64.node\n"
     ]
    },
    {
     "name": "stderr",
     "output_type": "stream",
     "text": [
      "  4%|▍         "
     ]
    },
    {
     "name": "stdout",
     "output_type": "stream",
     "text": [
      "mcWeb Servers\n"
     ]
    },
    {
     "name": "stderr",
     "output_type": "stream",
     "text": [
      "  4%|▍         "
     ]
    },
    {
     "name": "stdout",
     "output_type": "stream",
     "text": [
      "mcWeb Servers\n"
     ]
    },
    {
     "name": "stderr",
     "output_type": "stream",
     "text": [
      "  4%|▍         "
     ]
    },
    {
     "name": "stdout",
     "output_type": "stream",
     "text": [
      "01060533784a2066ebb92e6a925ac2f492b57172349ba965c856febc6077b932.packed\n"
     ]
    },
    {
     "name": "stderr",
     "output_type": "stream",
     "text": [
      "  4%|▍         "
     ]
    },
    {
     "name": "stdout",
     "output_type": "stream",
     "text": [
      "Network Inspector\n"
     ]
    },
    {
     "name": "stderr",
     "output_type": "stream",
     "text": [
      "  5%|▍         "
     ]
    },
    {
     "name": "stdout",
     "output_type": "stream",
     "text": [
      "08baf7b9ea2b0e5a0bc536bea37e031f1a8467e7357567beb758a39cc38abf30.packed\n"
     ]
    },
    {
     "name": "stderr",
     "output_type": "stream",
     "text": [
      "  5%|▍         "
     ]
    },
    {
     "name": "stdout",
     "output_type": "stream",
     "text": [
      "TweetDeck\n"
     ]
    },
    {
     "name": "stderr",
     "output_type": "stream",
     "text": [
      "  5%|▍         "
     ]
    },
    {
     "name": "stdout",
     "output_type": "stream",
     "text": [
      "TweetDeck\n"
     ]
    },
    {
     "name": "stderr",
     "output_type": "stream",
     "text": [
      "  5%|▍         "
     ]
    },
    {
     "name": "stdout",
     "output_type": "stream",
     "text": [
      "libtwiden.dylib\n"
     ]
    },
    {
     "name": "stderr",
     "output_type": "stream",
     "text": [
      "  5%|▍         "
     ]
    },
    {
     "name": "stdout",
     "output_type": "stream",
     "text": [
      "c217f6a8936def4ddb0c197eb7ebda0cdcb4b7b8cb92f8cd611823153436f586.packed\n"
     ]
    },
    {
     "name": "stderr",
     "output_type": "stream",
     "text": [
      "  5%|▍         "
     ]
    },
    {
     "name": "stdout",
     "output_type": "stream",
     "text": [
      "95011789d3bc439cf79768c627e2ca054690f3d0863e2e517e8c55f849032152.packed\n"
     ]
    },
    {
     "name": "stderr",
     "output_type": "stream",
     "text": [
      "  5%|▍         "
     ]
    },
    {
     "name": "stdout",
     "output_type": "stream",
     "text": [
      "ad96148d73debea9ac9e8827dcb5a7ccc20aa3db5b57ec108b94a2f1ca90eb21.packed\n"
     ]
    },
    {
     "name": "stderr",
     "output_type": "stream",
     "text": [
      "  5%|▍         "
     ]
    },
    {
     "name": "stdout",
     "output_type": "stream",
     "text": [
      "libffmpeg.dylib\n"
     ]
    },
    {
     "name": "stderr",
     "output_type": "stream",
     "text": [
      "  5%|▍         "
     ]
    },
    {
     "name": "stdout",
     "output_type": "stream",
     "text": [
      "b3bea6dce85202e169613c97e0458b654d6715bfa6ce64c41954f5a6983f0c0a.packed\n"
     ]
    },
    {
     "name": "stderr",
     "output_type": "stream",
     "text": [
      "  5%|▍         "
     ]
    },
    {
     "name": "stdout",
     "output_type": "stream",
     "text": [
      "d2f52c6febf4392cc34fbf179178af5a011ea1c2ea4a51176af1cd51acd33fda.packed\n"
     ]
    },
    {
     "name": "stderr",
     "output_type": "stream",
     "text": [
      "  5%|▍         "
     ]
    },
    {
     "name": "stdout",
     "output_type": "stream",
     "text": [
      "ed0e957837a78aec84a3c123ee149dcf9e4fee3c24c8daf8f3708bc430e9a7ea.packed\n"
     ]
    },
    {
     "name": "stderr",
     "output_type": "stream",
     "text": [
      "  5%|▍         "
     ]
    },
    {
     "name": "stdout",
     "output_type": "stream",
     "text": [
      "Autoupdate\n"
     ]
    },
    {
     "name": "stderr",
     "output_type": "stream",
     "text": [
      "  5%|▍         "
     ]
    },
    {
     "name": "stdout",
     "output_type": "stream",
     "text": [
      "Autoupdate\n"
     ]
    },
    {
     "name": "stderr",
     "output_type": "stream",
     "text": [
      "  5%|▍         "
     ]
    },
    {
     "name": "stdout",
     "output_type": "stream",
     "text": [
      "NordVPN OpenVPN Extension\n"
     ]
    },
    {
     "name": "stderr",
     "output_type": "stream",
     "text": [
      "  5%|▍         "
     ]
    },
    {
     "name": "stdout",
     "output_type": "stream",
     "text": [
      "NordVPN OpenVPN Extension\n"
     ]
    },
    {
     "name": "stderr",
     "output_type": "stream",
     "text": [
      "  5%|▍         "
     ]
    },
    {
     "name": "stdout",
     "output_type": "stream",
     "text": [
      "Input Sources\n"
     ]
    },
    {
     "name": "stderr",
     "output_type": "stream",
     "text": [
      "  5%|▍         "
     ]
    },
    {
     "name": "stdout",
     "output_type": "stream",
     "text": [
      "Input Sources\n"
     ]
    },
    {
     "name": "stderr",
     "output_type": "stream",
     "text": [
      "  5%|▍         "
     ]
    },
    {
     "name": "stdout",
     "output_type": "stream",
     "text": [
      "Open XML for Excel\n"
     ]
    },
    {
     "name": "stderr",
     "output_type": "stream",
     "text": [
      "  5%|▍         "
     ]
    },
    {
     "name": "stdout",
     "output_type": "stream",
     "text": [
      "Open XML for Excel\n"
     ]
    },
    {
     "name": "stderr",
     "output_type": "stream",
     "text": [
      "  5%|▌         "
     ]
    },
    {
     "name": "stdout",
     "output_type": "stream",
     "text": [
      "Elmedia Video Player\n"
     ]
    },
    {
     "name": "stderr",
     "output_type": "stream",
     "text": [
      "  5%|▌         "
     ]
    },
    {
     "name": "stdout",
     "output_type": "stream",
     "text": [
      "Elmedia Video Player\n"
     ]
    },
    {
     "name": "stderr",
     "output_type": "stream",
     "text": [
      "  5%|▌         "
     ]
    },
    {
     "name": "stdout",
     "output_type": "stream",
     "text": [
      "libgiomm-2.4.1.dylib\n"
     ]
    },
    {
     "name": "stderr",
     "output_type": "stream",
     "text": [
      "  5%|▌         "
     ]
    },
    {
     "name": "stdout",
     "output_type": "stream",
     "text": [
      "1e7116c086d9b52966e9b075d4fb98d657219626d6cb1970e9714da567ff3e3b.packed\n"
     ]
    },
    {
     "name": "stderr",
     "output_type": "stream",
     "text": [
      "  5%|▌         "
     ]
    },
    {
     "name": "stdout",
     "output_type": "stream",
     "text": [
      "Wallet\n"
     ]
    },
    {
     "name": "stderr",
     "output_type": "stream",
     "text": [
      "  5%|▌         "
     ]
    },
    {
     "name": "stdout",
     "output_type": "stream",
     "text": [
      "G App Launcher Extension\n"
     ]
    },
    {
     "name": "stderr",
     "output_type": "stream",
     "text": [
      "  5%|▌         "
     ]
    },
    {
     "name": "stdout",
     "output_type": "stream",
     "text": [
      "G App Launcher Extension\n"
     ]
    },
    {
     "name": "stderr",
     "output_type": "stream",
     "text": [
      "  5%|▌         "
     ]
    },
    {
     "name": "stdout",
     "output_type": "stream",
     "text": [
      "7d5af4dfad3fed23a9e8e37f21d68b16af07654034dd2d8210546a5d07ba4445.packed\n"
     ]
    },
    {
     "name": "stderr",
     "output_type": "stream",
     "text": [
      "  5%|▌         "
     ]
    },
    {
     "name": "stdout",
     "output_type": "stream",
     "text": [
      "2e13aeac83668eadcfd0d5c5ac8d2e4d60725f2694ccee649257177b4a21394b.packed\n"
     ]
    },
    {
     "name": "stderr",
     "output_type": "stream",
     "text": [
      "  5%|▌         "
     ]
    },
    {
     "name": "stdout",
     "output_type": "stream",
     "text": [
      "6d0681ff6f339b23c2bc1372b7cb7f2084fa32f5e62cb6c842812321e5e005c4.packed\n"
     ]
    },
    {
     "name": "stderr",
     "output_type": "stream",
     "text": [
      "  5%|▌         "
     ]
    },
    {
     "name": "stdout",
     "output_type": "stream",
     "text": [
      "ContentBlocker\n"
     ]
    },
    {
     "name": "stderr",
     "output_type": "stream",
     "text": [
      "  5%|▌         "
     ]
    },
    {
     "name": "stdout",
     "output_type": "stream",
     "text": [
      "ContentBlocker\n"
     ]
    },
    {
     "name": "stderr",
     "output_type": "stream",
     "text": [
      "  5%|▌         "
     ]
    },
    {
     "name": "stdout",
     "output_type": "stream",
     "text": [
      "libcrypto.1.0.0.dylib\n"
     ]
    },
    {
     "name": "stderr",
     "output_type": "stream",
     "text": [
      "  5%|▌         "
     ]
    },
    {
     "name": "stdout",
     "output_type": "stream",
     "text": [
      "8cf19cc2c250b59f21673a52e5d70486642c8337aa567d4cd90cfc9d259fedf0.packed\n"
     ]
    },
    {
     "name": "stderr",
     "output_type": "stream",
     "text": [
      "  5%|▌         "
     ]
    },
    {
     "name": "stdout",
     "output_type": "stream",
     "text": [
      "com.apple.iWork.ExternalResourceAccessor\n"
     ]
    },
    {
     "name": "stderr",
     "output_type": "stream",
     "text": [
      "  5%|▌         "
     ]
    },
    {
     "name": "stdout",
     "output_type": "stream",
     "text": [
      "com.apple.iWork.ExternalResourceAccessor\n"
     ]
    },
    {
     "name": "stderr",
     "output_type": "stream",
     "text": [
      "  5%|▌         "
     ]
    },
    {
     "name": "stdout",
     "output_type": "stream",
     "text": [
      "12d93d4159a2ea8f45afc0de183390ec2b6a3c94d41d2bf2b310f9c138715583.packed\n"
     ]
    },
    {
     "name": "stderr",
     "output_type": "stream",
     "text": [
      "  5%|▌         "
     ]
    },
    {
     "name": "stdout",
     "output_type": "stream",
     "text": [
      "435ff700307a4ee5f5c9e88a32f574b7e07a31e6e773085282642574d784f9e8.packed\n"
     ]
    },
    {
     "name": "stderr",
     "output_type": "stream",
     "text": [
      "  6%|▌         "
     ]
    },
    {
     "name": "stdout",
     "output_type": "stream",
     "text": [
      "37fa83b36758b51e628bca24fa9bfd132b7805daecd4a1c8e1d8bbab128cf7dc.packed\n"
     ]
    },
    {
     "name": "stderr",
     "output_type": "stream",
     "text": [
      "  6%|▌         "
     ]
    },
    {
     "name": "stdout",
     "output_type": "stream",
     "text": [
      "OneDrive File Provider\n"
     ]
    },
    {
     "name": "stderr",
     "output_type": "stream",
     "text": [
      "  6%|▌         "
     ]
    },
    {
     "name": "stdout",
     "output_type": "stream",
     "text": [
      "vmware-remotemks\n"
     ]
    },
    {
     "name": "stderr",
     "output_type": "stream",
     "text": [
      "  6%|▌         "
     ]
    },
    {
     "name": "stdout",
     "output_type": "stream",
     "text": [
      "libqtquickcontrolsplugin_debug.dylib\n"
     ]
    },
    {
     "name": "stderr",
     "output_type": "stream",
     "text": [
      "  6%|▌         "
     ]
    },
    {
     "name": "stdout",
     "output_type": "stream",
     "text": [
      "51da882e016662332e72dcb16ecbd7048b26655a95c71a9c10980818ef0fdd2c.packed\n"
     ]
    },
    {
     "name": "stderr",
     "output_type": "stream",
     "text": [
      "  6%|▌         "
     ]
    },
    {
     "name": "stdout",
     "output_type": "stream",
     "text": [
      "quickcast-mac\n"
     ]
    },
    {
     "name": "stderr",
     "output_type": "stream",
     "text": [
      "  6%|▌         "
     ]
    },
    {
     "name": "stdout",
     "output_type": "stream",
     "text": [
      "quickcast-mac\n"
     ]
    },
    {
     "name": "stderr",
     "output_type": "stream",
     "text": [
      "  6%|▌         "
     ]
    },
    {
     "name": "stdout",
     "output_type": "stream",
     "text": [
      "libswiftDispatch.dylib\n"
     ]
    },
    {
     "name": "stderr",
     "output_type": "stream",
     "text": [
      "  6%|▌         "
     ]
    },
    {
     "name": "stdout",
     "output_type": "stream",
     "text": [
      "Uzmeet Helper (Renderer)\n"
     ]
    },
    {
     "name": "stderr",
     "output_type": "stream",
     "text": [
      "  6%|▌         "
     ]
    },
    {
     "name": "stdout",
     "output_type": "stream",
     "text": [
      "libssl.1.0.2.dylib\n"
     ]
    },
    {
     "name": "stderr",
     "output_type": "stream",
     "text": [
      "  6%|▌         "
     ]
    },
    {
     "name": "stdout",
     "output_type": "stream",
     "text": [
      "bb279ce0a9eb471ebc82fccf2fee64948e8729728089da7a98ba28426077b565.packed\n"
     ]
    },
    {
     "name": "stderr",
     "output_type": "stream",
     "text": [
      "  6%|▌         "
     ]
    },
    {
     "name": "stdout",
     "output_type": "stream",
     "text": [
      "36392359def5b8211e8c6f205733ef9473475a585d4adba2b1fd41d56061bdf0.packed\n"
     ]
    },
    {
     "name": "stderr",
     "output_type": "stream",
     "text": [
      "  6%|▌         "
     ]
    },
    {
     "name": "stdout",
     "output_type": "stream",
     "text": [
      "1PasswordSafariAppExtension\n"
     ]
    },
    {
     "name": "stderr",
     "output_type": "stream",
     "text": [
      "  6%|▌         "
     ]
    },
    {
     "name": "stdout",
     "output_type": "stream",
     "text": [
      "1PasswordSafariAppExtension\n"
     ]
    },
    {
     "name": "stderr",
     "output_type": "stream",
     "text": [
      "  6%|▌         "
     ]
    },
    {
     "name": "stdout",
     "output_type": "stream",
     "text": [
      "VPN US\n"
     ]
    },
    {
     "name": "stderr",
     "output_type": "stream",
     "text": [
      "  6%|▌         "
     ]
    },
    {
     "name": "stdout",
     "output_type": "stream",
     "text": [
      "VPN US\n"
     ]
    },
    {
     "name": "stderr",
     "output_type": "stream",
     "text": [
      "  6%|▌         "
     ]
    },
    {
     "name": "stdout",
     "output_type": "stream",
     "text": [
      "Type to Learn\n"
     ]
    },
    {
     "name": "stderr",
     "output_type": "stream",
     "text": [
      "  6%|▌         "
     ]
    },
    {
     "name": "stdout",
     "output_type": "stream",
     "text": [
      "Type to Learn\n"
     ]
    },
    {
     "name": "stderr",
     "output_type": "stream",
     "text": [
      "  6%|▌         "
     ]
    },
    {
     "name": "stdout",
     "output_type": "stream",
     "text": [
      "65e5ed7ac6887789906c6c1412eaad55faa4a126b8e608a7a407c865927f07aa.packed\n"
     ]
    },
    {
     "name": "stderr",
     "output_type": "stream",
     "text": [
      "  6%|▌         "
     ]
    },
    {
     "name": "stdout",
     "output_type": "stream",
     "text": [
      "VimeoLauncher\n"
     ]
    },
    {
     "name": "stderr",
     "output_type": "stream",
     "text": [
      "  6%|▌         "
     ]
    },
    {
     "name": "stdout",
     "output_type": "stream",
     "text": [
      "bc570d02e8e5d2e3504a5fe2cac5d17ab38025a8680a5113c78bfb0ae8fc84ce.packed\n"
     ]
    },
    {
     "name": "stderr",
     "output_type": "stream",
     "text": [
      "  6%|▌         "
     ]
    },
    {
     "name": "stdout",
     "output_type": "stream",
     "text": [
      "d2ce3c5ef8c0e0ea12158efe95fa5a1c19f45254f6a815689cb056112ba0f6c7.packed\n"
     ]
    },
    {
     "name": "stderr",
     "output_type": "stream",
     "text": [
      "  6%|▌         "
     ]
    },
    {
     "name": "stdout",
     "output_type": "stream",
     "text": [
      "TextNow Helper (Plugin)\n"
     ]
    },
    {
     "name": "stderr",
     "output_type": "stream",
     "text": [
      "  6%|▌         "
     ]
    },
    {
     "name": "stdout",
     "output_type": "stream",
     "text": [
      "WhatsYourSign\n"
     ]
    },
    {
     "name": "stderr",
     "output_type": "stream",
     "text": [
      "  6%|▌         "
     ]
    },
    {
     "name": "stdout",
     "output_type": "stream",
     "text": [
      "WhatsYourSign\n"
     ]
    },
    {
     "name": "stderr",
     "output_type": "stream",
     "text": [
      "  6%|▌         "
     ]
    },
    {
     "name": "stdout",
     "output_type": "stream",
     "text": [
      "Easy Docs\n"
     ]
    },
    {
     "name": "stderr",
     "output_type": "stream",
     "text": [
      "  6%|▌         "
     ]
    },
    {
     "name": "stdout",
     "output_type": "stream",
     "text": [
      "Easy Docs\n"
     ]
    },
    {
     "name": "stderr",
     "output_type": "stream",
     "text": [
      "  6%|▋         "
     ]
    },
    {
     "name": "stdout",
     "output_type": "stream",
     "text": [
      "Telegram Lite\n"
     ]
    },
    {
     "name": "stderr",
     "output_type": "stream",
     "text": [
      "  6%|▋         "
     ]
    },
    {
     "name": "stdout",
     "output_type": "stream",
     "text": [
      "TeXShop\n"
     ]
    },
    {
     "name": "stderr",
     "output_type": "stream",
     "text": [
      "  6%|▋         "
     ]
    },
    {
     "name": "stdout",
     "output_type": "stream",
     "text": [
      "TeXShop\n"
     ]
    },
    {
     "name": "stderr",
     "output_type": "stream",
     "text": [
      "  6%|▋         "
     ]
    },
    {
     "name": "stdout",
     "output_type": "stream",
     "text": [
      "iRightMenu\n"
     ]
    },
    {
     "name": "stderr",
     "output_type": "stream",
     "text": [
      "  6%|▋         "
     ]
    },
    {
     "name": "stdout",
     "output_type": "stream",
     "text": [
      "iRightMenu\n"
     ]
    },
    {
     "name": "stderr",
     "output_type": "stream",
     "text": [
      "  6%|▋         "
     ]
    },
    {
     "name": "stdout",
     "output_type": "stream",
     "text": [
      "fileop\n"
     ]
    },
    {
     "name": "stderr",
     "output_type": "stream",
     "text": [
      "  6%|▋         "
     ]
    },
    {
     "name": "stdout",
     "output_type": "stream",
     "text": [
      "fileop\n"
     ]
    },
    {
     "name": "stderr",
     "output_type": "stream",
     "text": [
      "  6%|▋         "
     ]
    },
    {
     "name": "stdout",
     "output_type": "stream",
     "text": [
      "TextNow Helper (GPU)\n"
     ]
    },
    {
     "name": "stderr",
     "output_type": "stream",
     "text": [
      "  6%|▋         "
     ]
    },
    {
     "name": "stdout",
     "output_type": "stream",
     "text": [
      "336ed24a81d42ecc64ae6c8ffa01c2078683ad830f76b2d3cf1e7382cfc82276.packed\n"
     ]
    },
    {
     "name": "stderr",
     "output_type": "stream",
     "text": [
      "  6%|▋         "
     ]
    },
    {
     "name": "stdout",
     "output_type": "stream",
     "text": [
      "relaunch\n"
     ]
    },
    {
     "name": "stderr",
     "output_type": "stream",
     "text": [
      "  7%|▋         "
     ]
    },
    {
     "name": "stdout",
     "output_type": "stream",
     "text": [
      "relaunch\n"
     ]
    },
    {
     "name": "stderr",
     "output_type": "stream",
     "text": [
      "  7%|▋         "
     ]
    },
    {
     "name": "stdout",
     "output_type": "stream",
     "text": [
      "obfs4proxy\n"
     ]
    },
    {
     "name": "stderr",
     "output_type": "stream",
     "text": [
      "  7%|▋         "
     ]
    },
    {
     "name": "stdout",
     "output_type": "stream",
     "text": [
      "VMware View Client Services\n"
     ]
    },
    {
     "name": "stderr",
     "output_type": "stream",
     "text": [
      "  7%|▋         "
     ]
    },
    {
     "name": "stdout",
     "output_type": "stream",
     "text": [
      "cb4992a4c72bb46011cb61fd862debaca6ac4a1e29e51a5618819f2177e1ca0e.packed\n"
     ]
    },
    {
     "name": "stderr",
     "output_type": "stream",
     "text": [
      "  7%|▋         "
     ]
    },
    {
     "name": "stdout",
     "output_type": "stream",
     "text": [
      "LoginLauncher\n"
     ]
    },
    {
     "name": "stderr",
     "output_type": "stream",
     "text": [
      "  7%|▋         "
     ]
    },
    {
     "name": "stdout",
     "output_type": "stream",
     "text": [
      "LoginLauncher\n"
     ]
    },
    {
     "name": "stderr",
     "output_type": "stream",
     "text": [
      "  7%|▋         "
     ]
    },
    {
     "name": "stdout",
     "output_type": "stream",
     "text": [
      "ffmpeg\n"
     ]
    },
    {
     "name": "stderr",
     "output_type": "stream",
     "text": [
      "  7%|▋         "
     ]
    },
    {
     "name": "stdout",
     "output_type": "stream",
     "text": [
      "ffmpeg\n"
     ]
    },
    {
     "name": "stderr",
     "output_type": "stream",
     "text": [
      "  7%|▋         "
     ]
    },
    {
     "name": "stdout",
     "output_type": "stream",
     "text": [
      "72a9cbcf1c4f619162bde0178ec9ddfd39ed326ad49c10c718d940c85f2a5c4c.packed\n"
     ]
    },
    {
     "name": "stderr",
     "output_type": "stream",
     "text": [
      "  7%|▋         "
     ]
    },
    {
     "name": "stdout",
     "output_type": "stream",
     "text": [
      "libthocrapi.dylib\n"
     ]
    },
    {
     "name": "stderr",
     "output_type": "stream",
     "text": [
      "  7%|▋         "
     ]
    },
    {
     "name": "stdout",
     "output_type": "stream",
     "text": [
      "Keyb\n"
     ]
    },
    {
     "name": "stderr",
     "output_type": "stream",
     "text": [
      "  7%|▋         "
     ]
    },
    {
     "name": "stdout",
     "output_type": "stream",
     "text": [
      "Keyb\n"
     ]
    },
    {
     "name": "stderr",
     "output_type": "stream",
     "text": [
      "  7%|▋         "
     ]
    },
    {
     "name": "stdout",
     "output_type": "stream",
     "text": [
      "96ef2b7e3636ad30569416817466017b94f66b519926ab8aaaaf415cf2232801.packed\n"
     ]
    },
    {
     "name": "stderr",
     "output_type": "stream",
     "text": [
      "  7%|▋         "
     ]
    },
    {
     "name": "stdout",
     "output_type": "stream",
     "text": [
      "libswiftDispatch.dylib\n"
     ]
    },
    {
     "name": "stderr",
     "output_type": "stream",
     "text": [
      "  7%|▋         "
     ]
    },
    {
     "name": "stdout",
     "output_type": "stream",
     "text": [
      "e60cc91368abeb8e2c72a714df5c565a0ff28f2ec3010621c51842bb3fefa3e0.packed\n"
     ]
    },
    {
     "name": "stderr",
     "output_type": "stream",
     "text": [
      "  7%|▋         "
     ]
    },
    {
     "name": "stdout",
     "output_type": "stream",
     "text": [
      "ShipIt\n"
     ]
    },
    {
     "name": "stderr",
     "output_type": "stream",
     "text": [
      "  7%|▋         "
     ]
    },
    {
     "name": "stdout",
     "output_type": "stream",
     "text": [
      "8293cbcd1ac000025cd1faa744c1d899c163e16383d7df2169e77cbb3810f1b7.packed\n"
     ]
    },
    {
     "name": "stderr",
     "output_type": "stream",
     "text": [
      "  7%|▋         "
     ]
    },
    {
     "name": "stdout",
     "output_type": "stream",
     "text": [
      "libswiftDispatch.dylib\n"
     ]
    },
    {
     "name": "stderr",
     "output_type": "stream",
     "text": [
      "  7%|▋         "
     ]
    },
    {
     "name": "stdout",
     "output_type": "stream",
     "text": [
      "Microsoft Outlook\n"
     ]
    },
    {
     "name": "stderr",
     "output_type": "stream",
     "text": [
      "  7%|▋         "
     ]
    },
    {
     "name": "stdout",
     "output_type": "stream",
     "text": [
      "Microsoft Outlook\n"
     ]
    },
    {
     "name": "stderr",
     "output_type": "stream",
     "text": [
      "  7%|▋         "
     ]
    },
    {
     "name": "stdout",
     "output_type": "stream",
     "text": [
      "Mini Program\n"
     ]
    },
    {
     "name": "stderr",
     "output_type": "stream",
     "text": [
      "  7%|▋         "
     ]
    },
    {
     "name": "stdout",
     "output_type": "stream",
     "text": [
      "Mini Program\n"
     ]
    },
    {
     "name": "stderr",
     "output_type": "stream",
     "text": [
      "  7%|▋         "
     ]
    },
    {
     "name": "stdout",
     "output_type": "stream",
     "text": [
      "FlowerPasswordHelper\n"
     ]
    },
    {
     "name": "stderr",
     "output_type": "stream",
     "text": [
      "  7%|▋         "
     ]
    },
    {
     "name": "stdout",
     "output_type": "stream",
     "text": [
      "FlowerPasswordHelper\n"
     ]
    },
    {
     "name": "stderr",
     "output_type": "stream",
     "text": [
      "  7%|▋         "
     ]
    },
    {
     "name": "stdout",
     "output_type": "stream",
     "text": [
      "Chuck\n"
     ]
    },
    {
     "name": "stderr",
     "output_type": "stream",
     "text": [
      "  7%|▋         "
     ]
    },
    {
     "name": "stdout",
     "output_type": "stream",
     "text": [
      "Chuck\n"
     ]
    },
    {
     "name": "stderr",
     "output_type": "stream",
     "text": [
      "  7%|▋         "
     ]
    },
    {
     "name": "stdout",
     "output_type": "stream",
     "text": [
      "OneDriveStandaloneUpdater\n"
     ]
    },
    {
     "name": "stderr",
     "output_type": "stream",
     "text": [
      "  7%|▋         "
     ]
    },
    {
     "name": "stdout",
     "output_type": "stream",
     "text": [
      "Shuttle\n"
     ]
    },
    {
     "name": "stderr",
     "output_type": "stream",
     "text": [
      "  7%|▋         "
     ]
    },
    {
     "name": "stdout",
     "output_type": "stream",
     "text": [
      "libffmpeg.dylib\n"
     ]
    },
    {
     "name": "stderr",
     "output_type": "stream",
     "text": [
      "  7%|▋         "
     ]
    },
    {
     "name": "stdout",
     "output_type": "stream",
     "text": [
      "Secure File Sharing Web Server Free\n"
     ]
    },
    {
     "name": "stderr",
     "output_type": "stream",
     "text": [
      "  7%|▋         "
     ]
    },
    {
     "name": "stdout",
     "output_type": "stream",
     "text": [
      "Encrypt\n"
     ]
    },
    {
     "name": "stderr",
     "output_type": "stream",
     "text": [
      "  7%|▋         "
     ]
    },
    {
     "name": "stdout",
     "output_type": "stream",
     "text": [
      "Music Streaming\n"
     ]
    },
    {
     "name": "stderr",
     "output_type": "stream",
     "text": [
      "  7%|▋         "
     ]
    },
    {
     "name": "stdout",
     "output_type": "stream",
     "text": [
      "Transmission\n"
     ]
    },
    {
     "name": "stderr",
     "output_type": "stream",
     "text": [
      "  7%|▋         "
     ]
    },
    {
     "name": "stdout",
     "output_type": "stream",
     "text": [
      "vmware-id\n"
     ]
    },
    {
     "name": "stderr",
     "output_type": "stream",
     "text": [
      "  7%|▋         "
     ]
    },
    {
     "name": "stdout",
     "output_type": "stream",
     "text": [
      "svgcleaner-cli\n"
     ]
    },
    {
     "name": "stderr",
     "output_type": "stream",
     "text": [
      "  7%|▋         "
     ]
    },
    {
     "name": "stdout",
     "output_type": "stream",
     "text": [
      "Uzmeet Helper (GPU)\n"
     ]
    },
    {
     "name": "stderr",
     "output_type": "stream",
     "text": [
      "  8%|▊         "
     ]
    },
    {
     "name": "stdout",
     "output_type": "stream",
     "text": [
      "Microsoft Error Reporting\n"
     ]
    },
    {
     "name": "stderr",
     "output_type": "stream",
     "text": [
      "  8%|▊         "
     ]
    },
    {
     "name": "stdout",
     "output_type": "stream",
     "text": [
      "Microsoft Error Reporting\n"
     ]
    },
    {
     "name": "stderr",
     "output_type": "stream",
     "text": [
      "  8%|▊         "
     ]
    },
    {
     "name": "stdout",
     "output_type": "stream",
     "text": [
      "04f387d36c05ff1befa5c619a820e30665a9bdba8ad2370ae69e6f9d0af66fc3.packed\n"
     ]
    },
    {
     "name": "stderr",
     "output_type": "stream",
     "text": [
      "  8%|▊         "
     ]
    },
    {
     "name": "stdout",
     "output_type": "stream",
     "text": [
      "Trello Helper (GPU)\n"
     ]
    },
    {
     "name": "stderr",
     "output_type": "stream",
     "text": [
      "  8%|▊         "
     ]
    },
    {
     "name": "stdout",
     "output_type": "stream",
     "text": [
      "Discord Helper (GPU)\n"
     ]
    },
    {
     "name": "stderr",
     "output_type": "stream",
     "text": [
      "  8%|▊         "
     ]
    },
    {
     "name": "stdout",
     "output_type": "stream",
     "text": [
      "d3ac46d6a70ac52a8684cb548d00e40d285b97d1358349cb8622c938356050c6.packed\n"
     ]
    },
    {
     "name": "stderr",
     "output_type": "stream",
     "text": [
      "  8%|▊         "
     ]
    },
    {
     "name": "stdout",
     "output_type": "stream",
     "text": [
      "EncryptoSharingExtension\n"
     ]
    },
    {
     "name": "stderr",
     "output_type": "stream",
     "text": [
      "  8%|▊         "
     ]
    },
    {
     "name": "stdout",
     "output_type": "stream",
     "text": [
      "EncryptoSharingExtension\n"
     ]
    },
    {
     "name": "stderr",
     "output_type": "stream",
     "text": [
      "  8%|▊         "
     ]
    },
    {
     "name": "stdout",
     "output_type": "stream",
     "text": [
      "Quick Look Extension Mac\n"
     ]
    },
    {
     "name": "stderr",
     "output_type": "stream",
     "text": [
      "  8%|▊         "
     ]
    },
    {
     "name": "stdout",
     "output_type": "stream",
     "text": [
      "Quick Look Extension Mac\n"
     ]
    },
    {
     "name": "stderr",
     "output_type": "stream",
     "text": [
      "  8%|▊         "
     ]
    },
    {
     "name": "stdout",
     "output_type": "stream",
     "text": [
      "libswiftCore.dylib\n"
     ]
    },
    {
     "name": "stderr",
     "output_type": "stream",
     "text": [
      "  8%|▊         "
     ]
    },
    {
     "name": "stdout",
     "output_type": "stream",
     "text": [
      "Barcode Server\n"
     ]
    },
    {
     "name": "stderr",
     "output_type": "stream",
     "text": [
      "  8%|▊         "
     ]
    },
    {
     "name": "stdout",
     "output_type": "stream",
     "text": [
      "WhatsApp\n"
     ]
    },
    {
     "name": "stderr",
     "output_type": "stream",
     "text": [
      "  8%|▊         "
     ]
    },
    {
     "name": "stdout",
     "output_type": "stream",
     "text": [
      "f914de664ddf6cb765cd40c15d299e62afc7a522f479710b2a94e1c337bddfdd.packed\n"
     ]
    },
    {
     "name": "stderr",
     "output_type": "stream",
     "text": [
      "  8%|▊         "
     ]
    },
    {
     "name": "stdout",
     "output_type": "stream",
     "text": [
      "BlockerPrivacyExtension\n"
     ]
    },
    {
     "name": "stderr",
     "output_type": "stream",
     "text": [
      "  8%|▊         "
     ]
    },
    {
     "name": "stdout",
     "output_type": "stream",
     "text": [
      "BlockerPrivacyExtension\n"
     ]
    },
    {
     "name": "stderr",
     "output_type": "stream",
     "text": [
      "  8%|▊         "
     ]
    },
    {
     "name": "stdout",
     "output_type": "stream",
     "text": [
      "6d3330f06a0bda7dee9a8e91529a3cb1e4c875081d24aa1c65e4ebceea59e77e.packed\n"
     ]
    },
    {
     "name": "stderr",
     "output_type": "stream",
     "text": [
      "  8%|▊         "
     ]
    },
    {
     "name": "stdout",
     "output_type": "stream",
     "text": [
      "133c471051195c2f041c8dd0ab545817f537e0ea886983a9616c3c427d652edd.packed\n"
     ]
    },
    {
     "name": "stderr",
     "output_type": "stream",
     "text": [
      "  8%|▊         "
     ]
    },
    {
     "name": "stdout",
     "output_type": "stream",
     "text": [
      "AdGuard for Safari Helper (Plugin)\n"
     ]
    },
    {
     "name": "stderr",
     "output_type": "stream",
     "text": [
      "  8%|▊         "
     ]
    },
    {
     "name": "stdout",
     "output_type": "stream",
     "text": [
      "AdGuard for Safari Helper (Plugin)\n"
     ]
    },
    {
     "name": "stderr",
     "output_type": "stream",
     "text": [
      "  8%|▊         "
     ]
    },
    {
     "name": "stdout",
     "output_type": "stream",
     "text": [
      "LauncherDisabler\n"
     ]
    },
    {
     "name": "stderr",
     "output_type": "stream",
     "text": [
      "  8%|▊         "
     ]
    },
    {
     "name": "stdout",
     "output_type": "stream",
     "text": [
      "c8e1e22ef36061e5e8f6e0c06e27af1ad0f98cb55309cddac3ac53bae75ae037.packed\n"
     ]
    },
    {
     "name": "stderr",
     "output_type": "stream",
     "text": [
      "  8%|▊         "
     ]
    },
    {
     "name": "stdout",
     "output_type": "stream",
     "text": [
      "e92e41dee518830fae528de59223cda2cbf10db1e3ad4027b8489c580189ca1a.packed\n"
     ]
    },
    {
     "name": "stderr",
     "output_type": "stream",
     "text": [
      "  8%|▊         "
     ]
    },
    {
     "name": "stdout",
     "output_type": "stream",
     "text": [
      "BlockBlock Helper\n"
     ]
    },
    {
     "name": "stderr",
     "output_type": "stream",
     "text": [
      "  8%|▊         "
     ]
    },
    {
     "name": "stdout",
     "output_type": "stream",
     "text": [
      "BlockBlock Helper\n"
     ]
    },
    {
     "name": "stderr",
     "output_type": "stream",
     "text": [
      "  8%|▊         "
     ]
    },
    {
     "name": "stdout",
     "output_type": "stream",
     "text": [
      "adguard-nm\n"
     ]
    },
    {
     "name": "stderr",
     "output_type": "stream",
     "text": [
      "  8%|▊         "
     ]
    },
    {
     "name": "stdout",
     "output_type": "stream",
     "text": [
      "adguard-nm\n"
     ]
    },
    {
     "name": "stderr",
     "output_type": "stream",
     "text": [
      "  8%|▊         "
     ]
    },
    {
     "name": "stdout",
     "output_type": "stream",
     "text": [
      "QtPrintSupport\n"
     ]
    },
    {
     "name": "stderr",
     "output_type": "stream",
     "text": [
      "  8%|▊         "
     ]
    },
    {
     "name": "stdout",
     "output_type": "stream",
     "text": [
      "QtPrintSupport\n"
     ]
    },
    {
     "name": "stderr",
     "output_type": "stream",
     "text": [
      "  8%|▊         "
     ]
    },
    {
     "name": "stdout",
     "output_type": "stream",
     "text": [
      "7d2003ddfd6b1fb663cf1bf2855d8158f4cb395122d5b1c70a6334eaaa9d9470.packed\n"
     ]
    },
    {
     "name": "stderr",
     "output_type": "stream",
     "text": [
      "  8%|▊         "
     ]
    },
    {
     "name": "stdout",
     "output_type": "stream",
     "text": [
      "70071778d66d3964a9fe44f7e4d98a4774a80d0f8542fbe85989fe97ff6cfa67.packed\n"
     ]
    },
    {
     "name": "stderr",
     "output_type": "stream",
     "text": [
      "  8%|▊         "
     ]
    },
    {
     "name": "stdout",
     "output_type": "stream",
     "text": [
      "Autoupdate\n"
     ]
    },
    {
     "name": "stderr",
     "output_type": "stream",
     "text": [
      "  8%|▊         "
     ]
    },
    {
     "name": "stdout",
     "output_type": "stream",
     "text": [
      "Autoupdate\n"
     ]
    },
    {
     "name": "stderr",
     "output_type": "stream",
     "text": [
      "  8%|▊         "
     ]
    },
    {
     "name": "stdout",
     "output_type": "stream",
     "text": [
      "a9a96427054229a1d7fe1bb3f9b1885daf0e3acd2517179c7ed45362c40278fe.packed\n"
     ]
    },
    {
     "name": "stderr",
     "output_type": "stream",
     "text": [
      "  8%|▊         "
     ]
    },
    {
     "name": "stdout",
     "output_type": "stream",
     "text": [
      "6e8c5bd92ba6d431c0ff4d81734f859ac8c5f03d4871f799d9826b41779b59c3.packed\n"
     ]
    },
    {
     "name": "stderr",
     "output_type": "stream",
     "text": [
      "  8%|▊         "
     ]
    },
    {
     "name": "stdout",
     "output_type": "stream",
     "text": [
      "Day One Share Extension\n"
     ]
    },
    {
     "name": "stderr",
     "output_type": "stream",
     "text": [
      "  8%|▊         "
     ]
    },
    {
     "name": "stdout",
     "output_type": "stream",
     "text": [
      "Day One Share Extension\n"
     ]
    },
    {
     "name": "stderr",
     "output_type": "stream",
     "text": [
      "  9%|▊         "
     ]
    },
    {
     "name": "stdout",
     "output_type": "stream",
     "text": [
      "libplds4.dylib\n"
     ]
    },
    {
     "name": "stderr",
     "output_type": "stream",
     "text": [
      "  9%|▊         "
     ]
    },
    {
     "name": "stdout",
     "output_type": "stream",
     "text": [
      "com.apple.Safari.BrowserDataImportingService\n"
     ]
    },
    {
     "name": "stderr",
     "output_type": "stream",
     "text": [
      "  9%|▊         "
     ]
    },
    {
     "name": "stdout",
     "output_type": "stream",
     "text": [
      "com.apple.Safari.BrowserDataImportingService\n"
     ]
    },
    {
     "name": "stderr",
     "output_type": "stream",
     "text": [
      "  9%|▊         "
     ]
    },
    {
     "name": "stdout",
     "output_type": "stream",
     "text": [
      "Amphetamine\n"
     ]
    },
    {
     "name": "stderr",
     "output_type": "stream",
     "text": [
      "  9%|▊         "
     ]
    },
    {
     "name": "stdout",
     "output_type": "stream",
     "text": [
      "Amphetamine\n"
     ]
    },
    {
     "name": "stderr",
     "output_type": "stream",
     "text": [
      "  9%|▊         "
     ]
    },
    {
     "name": "stdout",
     "output_type": "stream",
     "text": [
      "ContentBlockerCosmetic\n"
     ]
    },
    {
     "name": "stderr",
     "output_type": "stream",
     "text": [
      "  9%|▊         "
     ]
    },
    {
     "name": "stdout",
     "output_type": "stream",
     "text": [
      "ContentBlockerCosmetic\n"
     ]
    },
    {
     "name": "stderr",
     "output_type": "stream",
     "text": [
      "  9%|▊         "
     ]
    },
    {
     "name": "stdout",
     "output_type": "stream",
     "text": [
      "DOWidgetsExtension\n"
     ]
    },
    {
     "name": "stderr",
     "output_type": "stream",
     "text": [
      "  9%|▊         "
     ]
    },
    {
     "name": "stdout",
     "output_type": "stream",
     "text": [
      "DOWidgetsExtension\n"
     ]
    },
    {
     "name": "stderr",
     "output_type": "stream",
     "text": [
      "  9%|▉         "
     ]
    },
    {
     "name": "stdout",
     "output_type": "stream",
     "text": [
      "FastZipExtension\n"
     ]
    },
    {
     "name": "stderr",
     "output_type": "stream",
     "text": [
      "  9%|▉         "
     ]
    },
    {
     "name": "stdout",
     "output_type": "stream",
     "text": [
      "FastZipExtension\n"
     ]
    },
    {
     "name": "stderr",
     "output_type": "stream",
     "text": [
      "  9%|▉         "
     ]
    },
    {
     "name": "stdout",
     "output_type": "stream",
     "text": [
      "libswiftCore.dylib\n"
     ]
    },
    {
     "name": "stderr",
     "output_type": "stream",
     "text": [
      "  9%|▉         "
     ]
    },
    {
     "name": "stdout",
     "output_type": "stream",
     "text": [
      "c3b7185161d0cd08f0dcfb7c7e84a695ce51b1c74dcb49ada32aef940b0831d6.packed\n"
     ]
    },
    {
     "name": "stderr",
     "output_type": "stream",
     "text": [
      "  9%|▉         "
     ]
    },
    {
     "name": "stdout",
     "output_type": "stream",
     "text": [
      "CleanMyMac-MAS Menu\n"
     ]
    },
    {
     "name": "stderr",
     "output_type": "stream",
     "text": [
      "  9%|▉         "
     ]
    },
    {
     "name": "stdout",
     "output_type": "stream",
     "text": [
      "CleanMyMac-MAS Menu\n"
     ]
    },
    {
     "name": "stderr",
     "output_type": "stream",
     "text": [
      "  9%|▉         "
     ]
    },
    {
     "name": "stdout",
     "output_type": "stream",
     "text": [
      "libqquicklayoutsplugin.dylib\n"
     ]
    },
    {
     "name": "stderr",
     "output_type": "stream",
     "text": [
      "  9%|▉         "
     ]
    },
    {
     "name": "stdout",
     "output_type": "stream",
     "text": [
      "libqquicklayoutsplugin.dylib\n"
     ]
    },
    {
     "name": "stderr",
     "output_type": "stream",
     "text": [
      "  9%|▉         "
     ]
    },
    {
     "name": "stdout",
     "output_type": "stream",
     "text": [
      "37523a3d76c3ef3635304d0e4912dc3ba78ef5e86681e6e08370f3ac6a5d1362.packed\n"
     ]
    },
    {
     "name": "stderr",
     "output_type": "stream",
     "text": [
      "  9%|▉         "
     ]
    },
    {
     "name": "stdout",
     "output_type": "stream",
     "text": [
      "iZip\n"
     ]
    },
    {
     "name": "stderr",
     "output_type": "stream",
     "text": [
      "  9%|▉         "
     ]
    },
    {
     "name": "stdout",
     "output_type": "stream",
     "text": [
      "ae86613e17e6213f8150e4b30c871224d7052ede175c702a86614937fc5c8259.packed\n"
     ]
    },
    {
     "name": "stderr",
     "output_type": "stream",
     "text": [
      "  9%|▉         "
     ]
    },
    {
     "name": "stdout",
     "output_type": "stream",
     "text": [
      "LaunchHelper\n"
     ]
    },
    {
     "name": "stderr",
     "output_type": "stream",
     "text": [
      "  9%|▉         "
     ]
    },
    {
     "name": "stdout",
     "output_type": "stream",
     "text": [
      "QuickLauncher\n"
     ]
    },
    {
     "name": "stderr",
     "output_type": "stream",
     "text": [
      "  9%|▉         "
     ]
    },
    {
     "name": "stdout",
     "output_type": "stream",
     "text": [
      "LuLu\n"
     ]
    },
    {
     "name": "stderr",
     "output_type": "stream",
     "text": [
      "  9%|▉         "
     ]
    },
    {
     "name": "stdout",
     "output_type": "stream",
     "text": [
      "LuLu\n"
     ]
    },
    {
     "name": "stderr",
     "output_type": "stream",
     "text": [
      "  9%|▉         "
     ]
    },
    {
     "name": "stdout",
     "output_type": "stream",
     "text": [
      "c68e9578b2d3ca7b4557e399fc48e68cc88ce9c653633c3fb0f958d8ba6fc62a.packed\n"
     ]
    },
    {
     "name": "stderr",
     "output_type": "stream",
     "text": [
      "  9%|▉         "
     ]
    },
    {
     "name": "stdout",
     "output_type": "stream",
     "text": [
      "pop\n"
     ]
    },
    {
     "name": "stderr",
     "output_type": "stream",
     "text": [
      "  9%|▉         "
     ]
    },
    {
     "name": "stdout",
     "output_type": "stream",
     "text": [
      "libwindowplugin.dylib\n"
     ]
    },
    {
     "name": "stderr",
     "output_type": "stream",
     "text": [
      "  9%|▉         "
     ]
    },
    {
     "name": "stdout",
     "output_type": "stream",
     "text": [
      "077e1382cf50736a3390d899677484506f337bdb78d15224d460cf842db2581f.packed\n"
     ]
    },
    {
     "name": "stderr",
     "output_type": "stream",
     "text": [
      "  9%|▉         "
     ]
    },
    {
     "name": "stdout",
     "output_type": "stream",
     "text": [
      "LaTeXiT_AppExtension\n"
     ]
    },
    {
     "name": "stderr",
     "output_type": "stream",
     "text": [
      "  9%|▉         "
     ]
    },
    {
     "name": "stdout",
     "output_type": "stream",
     "text": [
      "LaTeXiT_AppExtension\n"
     ]
    },
    {
     "name": "stderr",
     "output_type": "stream",
     "text": [
      "  9%|▉         "
     ]
    },
    {
     "name": "stdout",
     "output_type": "stream",
     "text": [
      "Jeeves\n"
     ]
    },
    {
     "name": "stderr",
     "output_type": "stream",
     "text": [
      "  9%|▉         "
     ]
    },
    {
     "name": "stdout",
     "output_type": "stream",
     "text": [
      "libswiftDispatch.dylib\n"
     ]
    },
    {
     "name": "stderr",
     "output_type": "stream",
     "text": [
      "  9%|▉         "
     ]
    },
    {
     "name": "stdout",
     "output_type": "stream",
     "text": [
      "RedisServerHelper\n"
     ]
    },
    {
     "name": "stderr",
     "output_type": "stream",
     "text": [
      "  9%|▉         "
     ]
    },
    {
     "name": "stdout",
     "output_type": "stream",
     "text": [
      "RedisServerHelper\n"
     ]
    },
    {
     "name": "stderr",
     "output_type": "stream",
     "text": [
      "  9%|▉         "
     ]
    },
    {
     "name": "stdout",
     "output_type": "stream",
     "text": [
      "libswiftDispatch.dylib\n"
     ]
    },
    {
     "name": "stderr",
     "output_type": "stream",
     "text": [
      "  9%|▉         "
     ]
    },
    {
     "name": "stdout",
     "output_type": "stream",
     "text": [
      "Webull Desktop\n"
     ]
    },
    {
     "name": "stderr",
     "output_type": "stream",
     "text": [
      "  9%|▉         "
     ]
    },
    {
     "name": "stdout",
     "output_type": "stream",
     "text": [
      "2c3c233f2370a821e7c2f7b50276cc2327ab7fc98c1a132ada05715ee280ae8b.packed\n"
     ]
    },
    {
     "name": "stderr",
     "output_type": "stream",
     "text": [
      " 10%|▉         "
     ]
    },
    {
     "name": "stdout",
     "output_type": "stream",
     "text": [
      "Time Out\n"
     ]
    },
    {
     "name": "stderr",
     "output_type": "stream",
     "text": [
      " 10%|▉         "
     ]
    },
    {
     "name": "stdout",
     "output_type": "stream",
     "text": [
      "Time Out\n"
     ]
    },
    {
     "name": "stderr",
     "output_type": "stream",
     "text": [
      " 10%|▉         "
     ]
    },
    {
     "name": "stdout",
     "output_type": "stream",
     "text": [
      "LogiMgr Uninstaller\n"
     ]
    },
    {
     "name": "stderr",
     "output_type": "stream",
     "text": [
      " 10%|▉         "
     ]
    },
    {
     "name": "stdout",
     "output_type": "stream",
     "text": [
      "1ef700f687ab3d834380961f0f8e0bb3e19f7fc96df347736803d75740d2f57b.packed\n"
     ]
    },
    {
     "name": "stderr",
     "output_type": "stream",
     "text": [
      " 10%|▉         "
     ]
    },
    {
     "name": "stdout",
     "output_type": "stream",
     "text": [
      "Brother iPrint&Scan\n"
     ]
    },
    {
     "name": "stderr",
     "output_type": "stream",
     "text": [
      " 10%|▉         "
     ]
    },
    {
     "name": "stdout",
     "output_type": "stream",
     "text": [
      "2500171a67fa8b1194829ea314830a72de6db07981a7b28906d0005dec663bc6.packed\n"
     ]
    },
    {
     "name": "stderr",
     "output_type": "stream",
     "text": [
      " 10%|▉         "
     ]
    },
    {
     "name": "stdout",
     "output_type": "stream",
     "text": [
      "3f4fe4e9e807915a994a8a1e43a5d6276586e78932c1eb9a16d49545d213825b.packed\n"
     ]
    },
    {
     "name": "stderr",
     "output_type": "stream",
     "text": [
      " 10%|▉         "
     ]
    },
    {
     "name": "stdout",
     "output_type": "stream",
     "text": [
      "af9c4ccc3297d9f9d7e2a6a33834cedc89a512860b14c02a4ad5a80966c16cd0.packed\n"
     ]
    },
    {
     "name": "stderr",
     "output_type": "stream",
     "text": [
      " 10%|▉         "
     ]
    },
    {
     "name": "stdout",
     "output_type": "stream",
     "text": [
      "bff800fb8eccc9e60df81e946a296494ac9c6d5b0293d7f35ec865ec1f8fc596.packed\n"
     ]
    },
    {
     "name": "stderr",
     "output_type": "stream",
     "text": [
      " 10%|▉         "
     ]
    },
    {
     "name": "stdout",
     "output_type": "stream",
     "text": [
      "libEGL.dylib\n"
     ]
    },
    {
     "name": "stderr",
     "output_type": "stream",
     "text": [
      " 10%|▉         "
     ]
    },
    {
     "name": "stdout",
     "output_type": "stream",
     "text": [
      "Microsoft Remote Desktop\n"
     ]
    },
    {
     "name": "stderr",
     "output_type": "stream",
     "text": [
      " 10%|▉         "
     ]
    },
    {
     "name": "stdout",
     "output_type": "stream",
     "text": [
      "Microsoft Remote Desktop\n"
     ]
    },
    {
     "name": "stderr",
     "output_type": "stream",
     "text": [
      " 10%|▉         "
     ]
    },
    {
     "name": "stdout",
     "output_type": "stream",
     "text": [
      "80b3ebba850ffda3882cbc24520c6380f85e5fb8816a4837141ca17d8dac3d23.packed\n"
     ]
    },
    {
     "name": "stderr",
     "output_type": "stream",
     "text": [
      " 10%|▉         "
     ]
    },
    {
     "name": "stdout",
     "output_type": "stream",
     "text": [
      "CrashReporter\n"
     ]
    },
    {
     "name": "stderr",
     "output_type": "stream",
     "text": [
      " 10%|▉         "
     ]
    },
    {
     "name": "stdout",
     "output_type": "stream",
     "text": [
      "CrashReporter\n"
     ]
    },
    {
     "name": "stderr",
     "output_type": "stream",
     "text": [
      " 10%|▉         "
     ]
    },
    {
     "name": "stdout",
     "output_type": "stream",
     "text": [
      "79a2e85ff32e0fb94b5929343637b4e916e97656c062c7943f9d96b3a8996f92.packed\n"
     ]
    },
    {
     "name": "stderr",
     "output_type": "stream",
     "text": [
      " 10%|▉         "
     ]
    },
    {
     "name": "stdout",
     "output_type": "stream",
     "text": [
      "Logi Options\n"
     ]
    },
    {
     "name": "stderr",
     "output_type": "stream",
     "text": [
      " 10%|▉         "
     ]
    },
    {
     "name": "stdout",
     "output_type": "stream",
     "text": [
      "Do Not Disturb Helper\n"
     ]
    },
    {
     "name": "stderr",
     "output_type": "stream",
     "text": [
      " 10%|█         "
     ]
    },
    {
     "name": "stdout",
     "output_type": "stream",
     "text": [
      "Uzmeet Helper (Plugin)\n"
     ]
    },
    {
     "name": "stderr",
     "output_type": "stream",
     "text": [
      " 10%|█         "
     ]
    },
    {
     "name": "stdout",
     "output_type": "stream",
     "text": [
      "Videohog-Core-Mac\n"
     ]
    },
    {
     "name": "stderr",
     "output_type": "stream",
     "text": [
      " 10%|█         "
     ]
    },
    {
     "name": "stdout",
     "output_type": "stream",
     "text": [
      "ffmpeg\n"
     ]
    },
    {
     "name": "stderr",
     "output_type": "stream",
     "text": [
      " 10%|█         "
     ]
    },
    {
     "name": "stdout",
     "output_type": "stream",
     "text": [
      "Do Not Disturb\n"
     ]
    },
    {
     "name": "stderr",
     "output_type": "stream",
     "text": [
      " 10%|█         "
     ]
    },
    {
     "name": "stdout",
     "output_type": "stream",
     "text": [
      "tconnect Uploader\n"
     ]
    },
    {
     "name": "stderr",
     "output_type": "stream",
     "text": [
      " 10%|█         "
     ]
    },
    {
     "name": "stdout",
     "output_type": "stream",
     "text": [
      "Discord Helper (Renderer)\n"
     ]
    },
    {
     "name": "stderr",
     "output_type": "stream",
     "text": [
      " 10%|█         "
     ]
    },
    {
     "name": "stdout",
     "output_type": "stream",
     "text": [
      "c82b27d577ca302ec24e47eb36604226ba690c83d35e6ab05040959da238a9ae.packed\n"
     ]
    },
    {
     "name": "stderr",
     "output_type": "stream",
     "text": [
      " 10%|█         "
     ]
    },
    {
     "name": "stdout",
     "output_type": "stream",
     "text": [
      "e60e69efac319bbaa6acc7ba51b91ba2cd0fb741a8b76d2410997b29ce717e32.packed\n"
     ]
    },
    {
     "name": "stderr",
     "output_type": "stream",
     "text": [
      " 10%|█         "
     ]
    },
    {
     "name": "stdout",
     "output_type": "stream",
     "text": [
      "Personal Menu\n"
     ]
    },
    {
     "name": "stderr",
     "output_type": "stream",
     "text": [
      " 10%|█         "
     ]
    },
    {
     "name": "stdout",
     "output_type": "stream",
     "text": [
      "87db0b35d2c62c15e06c2bd1192c62f6e67658ec5c1c2c9dc75ee44f46fb0288.packed\n"
     ]
    },
    {
     "name": "stderr",
     "output_type": "stream",
     "text": [
      " 10%|█         "
     ]
    },
    {
     "name": "stdout",
     "output_type": "stream",
     "text": [
      "8774ef710050333ca1125426a58cdbf529100322e892e3dffbb2cea26a7b570e.packed\n"
     ]
    },
    {
     "name": "stderr",
     "output_type": "stream",
     "text": [
      " 10%|█         "
     ]
    },
    {
     "name": "stdout",
     "output_type": "stream",
     "text": [
      "650534d7f7be1601f36aee52662c24f3e995872d91881f897795a145fd83debb.packed\n"
     ]
    },
    {
     "name": "stderr",
     "output_type": "stream",
     "text": [
      " 10%|█         "
     ]
    },
    {
     "name": "stdout",
     "output_type": "stream",
     "text": [
      "1Password Launcher\n"
     ]
    },
    {
     "name": "stderr",
     "output_type": "stream",
     "text": [
      " 10%|█         "
     ]
    },
    {
     "name": "stdout",
     "output_type": "stream",
     "text": [
      "1Password Launcher\n"
     ]
    },
    {
     "name": "stderr",
     "output_type": "stream",
     "text": [
      " 10%|█         "
     ]
    },
    {
     "name": "stdout",
     "output_type": "stream",
     "text": [
      "4032765230210a949b0798f8610eb8730fd8bdcfaedbd14b146f8601a147ab07.packed\n"
     ]
    },
    {
     "name": "stderr",
     "output_type": "stream",
     "text": [
      " 10%|█         "
     ]
    },
    {
     "name": "stdout",
     "output_type": "stream",
     "text": [
      "883736c755c39665637f93b20b16373d579a6ca56fe9b4e9afb6ef6f51cdf4e5.packed\n"
     ]
    },
    {
     "name": "stderr",
     "output_type": "stream",
     "text": [
      " 10%|█         "
     ]
    },
    {
     "name": "stdout",
     "output_type": "stream",
     "text": [
      "AdBlock One\n"
     ]
    },
    {
     "name": "stderr",
     "output_type": "stream",
     "text": [
      " 10%|█         "
     ]
    },
    {
     "name": "stdout",
     "output_type": "stream",
     "text": [
      "AdBlock One\n"
     ]
    },
    {
     "name": "stderr",
     "output_type": "stream",
     "text": [
      " 11%|█         "
     ]
    },
    {
     "name": "stdout",
     "output_type": "stream",
     "text": [
      "libswiftDispatch.dylib\n"
     ]
    },
    {
     "name": "stderr",
     "output_type": "stream",
     "text": [
      " 11%|█         "
     ]
    },
    {
     "name": "stdout",
     "output_type": "stream",
     "text": [
      "6433b0ccd1b587f0b016bccde9a0b5270854d0a7e44d48718e082c19fe8623a3.packed\n"
     ]
    },
    {
     "name": "stderr",
     "output_type": "stream",
     "text": [
      " 11%|█         "
     ]
    },
    {
     "name": "stdout",
     "output_type": "stream",
     "text": [
      "2d4a615efcb23584662b928260518db001cad5fab54ab9189e3967f72fccdf11.packed\n"
     ]
    },
    {
     "name": "stderr",
     "output_type": "stream",
     "text": [
      " 11%|█         "
     ]
    },
    {
     "name": "stdout",
     "output_type": "stream",
     "text": [
      "RAR Extractor\n"
     ]
    },
    {
     "name": "stderr",
     "output_type": "stream",
     "text": [
      " 11%|█         "
     ]
    },
    {
     "name": "stdout",
     "output_type": "stream",
     "text": [
      "TeamsUpdaterDaemon\n"
     ]
    },
    {
     "name": "stderr",
     "output_type": "stream",
     "text": [
      " 11%|█         "
     ]
    },
    {
     "name": "stdout",
     "output_type": "stream",
     "text": [
      "com.objective-see.lulu.configHelper\n"
     ]
    },
    {
     "name": "stderr",
     "output_type": "stream",
     "text": [
      " 11%|█         "
     ]
    },
    {
     "name": "stdout",
     "output_type": "stream",
     "text": [
      "NovaExtensionService\n"
     ]
    },
    {
     "name": "stderr",
     "output_type": "stream",
     "text": [
      " 11%|█         "
     ]
    },
    {
     "name": "stdout",
     "output_type": "stream",
     "text": [
      "NovaExtensionService\n"
     ]
    },
    {
     "name": "stderr",
     "output_type": "stream",
     "text": [
      " 11%|█         "
     ]
    },
    {
     "name": "stdout",
     "output_type": "stream",
     "text": [
      "LaunchAtLoginHelper\n"
     ]
    },
    {
     "name": "stderr",
     "output_type": "stream",
     "text": [
      " 11%|█         "
     ]
    },
    {
     "name": "stdout",
     "output_type": "stream",
     "text": [
      "Outlook Profile Manager\n"
     ]
    },
    {
     "name": "stderr",
     "output_type": "stream",
     "text": [
      " 11%|█         "
     ]
    },
    {
     "name": "stdout",
     "output_type": "stream",
     "text": [
      "Outlook Profile Manager\n"
     ]
    },
    {
     "name": "stderr",
     "output_type": "stream",
     "text": [
      " 11%|█         "
     ]
    },
    {
     "name": "stdout",
     "output_type": "stream",
     "text": [
      "Microsoft Relauncher\n"
     ]
    },
    {
     "name": "stderr",
     "output_type": "stream",
     "text": [
      " 11%|█         "
     ]
    },
    {
     "name": "stdout",
     "output_type": "stream",
     "text": [
      "Microsoft Relauncher\n"
     ]
    },
    {
     "name": "stderr",
     "output_type": "stream",
     "text": [
      " 11%|█         "
     ]
    },
    {
     "name": "stdout",
     "output_type": "stream",
     "text": [
      "MacBlockAdultExtension\n"
     ]
    },
    {
     "name": "stderr",
     "output_type": "stream",
     "text": [
      " 11%|█         "
     ]
    },
    {
     "name": "stdout",
     "output_type": "stream",
     "text": [
      "MacBlockAdultExtension\n"
     ]
    },
    {
     "name": "stderr",
     "output_type": "stream",
     "text": [
      " 11%|█         "
     ]
    },
    {
     "name": "stdout",
     "output_type": "stream",
     "text": [
      "TV\n"
     ]
    },
    {
     "name": "stderr",
     "output_type": "stream",
     "text": [
      " 11%|█         "
     ]
    },
    {
     "name": "stdout",
     "output_type": "stream",
     "text": [
      "7425a207e536f05439e0ba4101cfcffddd37519686a1b2a2ac3f782e0c0b2a9c.packed\n"
     ]
    },
    {
     "name": "stderr",
     "output_type": "stream",
     "text": [
      " 11%|█         "
     ]
    },
    {
     "name": "stdout",
     "output_type": "stream",
     "text": [
      "7252c68b4fdf2a888dd5d306b49773d86c73dc64774ca64117dfafb99bc57640.packed\n"
     ]
    },
    {
     "name": "stderr",
     "output_type": "stream",
     "text": [
      " 11%|█         "
     ]
    },
    {
     "name": "stdout",
     "output_type": "stream",
     "text": [
      "3ba731570ee4d500adf5b613bae09079023f173578af6c02a6a907010a2a90a2.packed\n"
     ]
    },
    {
     "name": "stderr",
     "output_type": "stream",
     "text": [
      " 11%|█         "
     ]
    },
    {
     "name": "stdout",
     "output_type": "stream",
     "text": [
      "c1b7c0f79c87312bdbe32e0c9dc0e8c917ebbf6cb4a3da05b4b3d6511f9c3b57.packed\n"
     ]
    },
    {
     "name": "stderr",
     "output_type": "stream",
     "text": [
      " 11%|█         "
     ]
    },
    {
     "name": "stdout",
     "output_type": "stream",
     "text": [
      "c495c2e8deb6e638fee0d4e849bfb5a883a58c221933b9842b42e11d8f9e4eea.packed\n"
     ]
    },
    {
     "name": "stderr",
     "output_type": "stream",
     "text": [
      " 11%|█         "
     ]
    },
    {
     "name": "stdout",
     "output_type": "stream",
     "text": [
      "libswiftDispatch.dylib\n"
     ]
    },
    {
     "name": "stderr",
     "output_type": "stream",
     "text": [
      " 11%|█         "
     ]
    },
    {
     "name": "stdout",
     "output_type": "stream",
     "text": [
      "7d5d7b839682a8fe5c132a514687e16a80e41f70926ed7fc13b8e7167ce7bedf.packed\n"
     ]
    },
    {
     "name": "stderr",
     "output_type": "stream",
     "text": [
      " 11%|█         "
     ]
    },
    {
     "name": "stdout",
     "output_type": "stream",
     "text": [
      "28409f6b78314332652612657e3ac5c4b5c24954db538dae56fe3aee7cc726ba.packed\n"
     ]
    },
    {
     "name": "stderr",
     "output_type": "stream",
     "text": [
      " 11%|█         "
     ]
    },
    {
     "name": "stdout",
     "output_type": "stream",
     "text": [
      "541bcbfbeaf6491f21eb915db50676eebfe1a2ba3e7a943868b0c6ff0fa3707c.packed\n"
     ]
    },
    {
     "name": "stderr",
     "output_type": "stream",
     "text": [
      " 11%|█         "
     ]
    },
    {
     "name": "stdout",
     "output_type": "stream",
     "text": [
      "Teams\n"
     ]
    },
    {
     "name": "stderr",
     "output_type": "stream",
     "text": [
      " 11%|█         "
     ]
    },
    {
     "name": "stdout",
     "output_type": "stream",
     "text": [
      "dc9acce6aaeb73149eaabca287ab14cd2ba962885588bcdbfce74919fb6488e9.packed\n"
     ]
    },
    {
     "name": "stderr",
     "output_type": "stream",
     "text": [
      " 11%|█         "
     ]
    },
    {
     "name": "stdout",
     "output_type": "stream",
     "text": [
      "d2edc993acad7570b60bae5c990ae3ca2057ef8958374a7bf73915f6d1bc0471.packed\n"
     ]
    },
    {
     "name": "stderr",
     "output_type": "stream",
     "text": [
      " 11%|█▏        "
     ]
    },
    {
     "name": "stdout",
     "output_type": "stream",
     "text": [
      "com.apple.WebKit.WebContent.Safari\n"
     ]
    },
    {
     "name": "stderr",
     "output_type": "stream",
     "text": [
      " 11%|█▏        "
     ]
    },
    {
     "name": "stdout",
     "output_type": "stream",
     "text": [
      "com.apple.WebKit.WebContent.Safari\n"
     ]
    },
    {
     "name": "stderr",
     "output_type": "stream",
     "text": [
      " 11%|█▏        "
     ]
    },
    {
     "name": "stdout",
     "output_type": "stream",
     "text": [
      "254a23601823ba74743de92d25d02f8af6503928ed4045088bf7c5299cf683c8.packed\n"
     ]
    },
    {
     "name": "stderr",
     "output_type": "stream",
     "text": [
      " 11%|█▏        "
     ]
    },
    {
     "name": "stdout",
     "output_type": "stream",
     "text": [
      "Extractor\n"
     ]
    },
    {
     "name": "stderr",
     "output_type": "stream",
     "text": [
      " 11%|█▏        "
     ]
    },
    {
     "name": "stdout",
     "output_type": "stream",
     "text": [
      "Sentry\n"
     ]
    },
    {
     "name": "stderr",
     "output_type": "stream",
     "text": [
      " 11%|█▏        "
     ]
    },
    {
     "name": "stdout",
     "output_type": "stream",
     "text": [
      "Sentry\n"
     ]
    },
    {
     "name": "stderr",
     "output_type": "stream",
     "text": [
      " 11%|█▏        "
     ]
    },
    {
     "name": "stdout",
     "output_type": "stream",
     "text": [
      "Emoji Lite\n"
     ]
    },
    {
     "name": "stderr",
     "output_type": "stream",
     "text": [
      " 11%|█▏        "
     ]
    },
    {
     "name": "stdout",
     "output_type": "stream",
     "text": [
      "dciodvfy\n"
     ]
    },
    {
     "name": "stderr",
     "output_type": "stream",
     "text": [
      " 11%|█▏        "
     ]
    },
    {
     "name": "stdout",
     "output_type": "stream",
     "text": [
      "aa5b422eb9caa871642cda1a9c4e8ea97f49c57002358aa17fcb258b68c0fed6.packed\n"
     ]
    },
    {
     "name": "stderr",
     "output_type": "stream",
     "text": [
      " 12%|█▏        "
     ]
    },
    {
     "name": "stdout",
     "output_type": "stream",
     "text": [
      "WireGuardNetworkExtension\n"
     ]
    },
    {
     "name": "stderr",
     "output_type": "stream",
     "text": [
      " 12%|█▏        "
     ]
    },
    {
     "name": "stdout",
     "output_type": "stream",
     "text": [
      "WireGuardNetworkExtension\n"
     ]
    },
    {
     "name": "stderr",
     "output_type": "stream",
     "text": [
      " 12%|█▏        "
     ]
    },
    {
     "name": "stdout",
     "output_type": "stream",
     "text": [
      "libtwcutchr.dylib\n"
     ]
    },
    {
     "name": "stderr",
     "output_type": "stream",
     "text": [
      " 12%|█▏        "
     ]
    },
    {
     "name": "stdout",
     "output_type": "stream",
     "text": [
      "LINE\n"
     ]
    },
    {
     "name": "stderr",
     "output_type": "stream",
     "text": [
      " 12%|█▏        "
     ]
    },
    {
     "name": "stdout",
     "output_type": "stream",
     "text": [
      "LINE\n"
     ]
    },
    {
     "name": "stderr",
     "output_type": "stream",
     "text": [
      " 12%|█▏        "
     ]
    },
    {
     "name": "stdout",
     "output_type": "stream",
     "text": [
      "80f0b118314c5225f46177c34adba0d2efd74635d12881ac2e48e8ac4f6de8fe.packed\n"
     ]
    },
    {
     "name": "stderr",
     "output_type": "stream",
     "text": [
      " 12%|█▏        "
     ]
    },
    {
     "name": "stdout",
     "output_type": "stream",
     "text": [
      "55bfa05d93015c106e0055c21a42edbeec22ce3647e5b82762a6754d816aa8ef.packed\n"
     ]
    },
    {
     "name": "stderr",
     "output_type": "stream",
     "text": [
      " 12%|█▏        "
     ]
    },
    {
     "name": "stdout",
     "output_type": "stream",
     "text": [
      "VideoSource\n"
     ]
    },
    {
     "name": "stderr",
     "output_type": "stream",
     "text": [
      " 12%|█▏        "
     ]
    },
    {
     "name": "stdout",
     "output_type": "stream",
     "text": [
      "VideoSource\n"
     ]
    },
    {
     "name": "stderr",
     "output_type": "stream",
     "text": [
      " 12%|█▏        "
     ]
    },
    {
     "name": "stdout",
     "output_type": "stream",
     "text": [
      "VPN Proxy Master\n"
     ]
    },
    {
     "name": "stderr",
     "output_type": "stream",
     "text": [
      " 12%|█▏        "
     ]
    },
    {
     "name": "stdout",
     "output_type": "stream",
     "text": [
      "QQ Stock Plugin\n"
     ]
    },
    {
     "name": "stderr",
     "output_type": "stream",
     "text": [
      " 12%|█▏        "
     ]
    },
    {
     "name": "stdout",
     "output_type": "stream",
     "text": [
      "QQ Stock Plugin\n"
     ]
    },
    {
     "name": "stderr",
     "output_type": "stream",
     "text": [
      " 12%|█▏        "
     ]
    },
    {
     "name": "stdout",
     "output_type": "stream",
     "text": [
      "30473a11fdecd6ddbc8baba48f4343f1621d19b8fb11d4024f9492a49949ae18.packed\n"
     ]
    },
    {
     "name": "stderr",
     "output_type": "stream",
     "text": [
      " 12%|█▏        "
     ]
    },
    {
     "name": "stdout",
     "output_type": "stream",
     "text": [
      "librecpdf.dylib\n"
     ]
    },
    {
     "name": "stderr",
     "output_type": "stream",
     "text": [
      " 12%|█▏        "
     ]
    },
    {
     "name": "stdout",
     "output_type": "stream",
     "text": [
      "LaTeXiT_XPC_Service\n"
     ]
    },
    {
     "name": "stderr",
     "output_type": "stream",
     "text": [
      " 12%|█▏        "
     ]
    },
    {
     "name": "stdout",
     "output_type": "stream",
     "text": [
      "LaTeXiT_XPC_Service\n"
     ]
    },
    {
     "name": "stderr",
     "output_type": "stream",
     "text": [
      " 12%|█▏        "
     ]
    },
    {
     "name": "stdout",
     "output_type": "stream",
     "text": [
      "Trello Login Helper\n"
     ]
    },
    {
     "name": "stderr",
     "output_type": "stream",
     "text": [
      " 12%|█▏        "
     ]
    },
    {
     "name": "stdout",
     "output_type": "stream",
     "text": [
      "ee7195353acbc9dfff181885ca075337b5dc69889993a40950c448e15a8e3182.packed\n"
     ]
    },
    {
     "name": "stderr",
     "output_type": "stream",
     "text": [
      " 12%|█▏        "
     ]
    },
    {
     "name": "stdout",
     "output_type": "stream",
     "text": [
      "5d7da6027cdd8e64f8e12172f53b27ca5fad8580a17e3c068a104c1be1657eec.packed\n"
     ]
    },
    {
     "name": "stderr",
     "output_type": "stream",
     "text": [
      " 12%|█▏        "
     ]
    },
    {
     "name": "stdout",
     "output_type": "stream",
     "text": [
      "vmware-view\n"
     ]
    },
    {
     "name": "stderr",
     "output_type": "stream",
     "text": [
      " 12%|█▏        "
     ]
    },
    {
     "name": "stdout",
     "output_type": "stream",
     "text": [
      "aa01ef750000b75a18964e77fd4fe327ccb9e9ce4563860a8cdd770072a9b5a0.packed\n"
     ]
    },
    {
     "name": "stderr",
     "output_type": "stream",
     "text": [
      " 12%|█▏        "
     ]
    },
    {
     "name": "stdout",
     "output_type": "stream",
     "text": [
      "libcrypto.1.1.dylib\n"
     ]
    },
    {
     "name": "stderr",
     "output_type": "stream",
     "text": [
      " 12%|█▏        "
     ]
    },
    {
     "name": "stdout",
     "output_type": "stream",
     "text": [
      "Mirror My Screen\n"
     ]
    },
    {
     "name": "stderr",
     "output_type": "stream",
     "text": [
      " 12%|█▏        "
     ]
    },
    {
     "name": "stdout",
     "output_type": "stream",
     "text": [
      "Mirror My Screen\n"
     ]
    },
    {
     "name": "stderr",
     "output_type": "stream",
     "text": [
      " 12%|█▏        "
     ]
    },
    {
     "name": "stdout",
     "output_type": "stream",
     "text": [
      "AHA eBook Reader\n"
     ]
    },
    {
     "name": "stderr",
     "output_type": "stream",
     "text": [
      " 12%|█▏        "
     ]
    },
    {
     "name": "stdout",
     "output_type": "stream",
     "text": [
      "MFUExtension\n"
     ]
    },
    {
     "name": "stderr",
     "output_type": "stream",
     "text": [
      " 12%|█▏        "
     ]
    },
    {
     "name": "stdout",
     "output_type": "stream",
     "text": [
      "MFUExtension\n"
     ]
    },
    {
     "name": "stderr",
     "output_type": "stream",
     "text": [
      " 12%|█▏        "
     ]
    },
    {
     "name": "stdout",
     "output_type": "stream",
     "text": [
      "BlockheadsServer\n"
     ]
    },
    {
     "name": "stderr",
     "output_type": "stream",
     "text": [
      " 12%|█▏        "
     ]
    },
    {
     "name": "stdout",
     "output_type": "stream",
     "text": [
      "5bcb74c69d9c8098e3d9a450ba56d1d8a6b83e79a8e4fe796b31efa98b40350d.packed\n"
     ]
    },
    {
     "name": "stderr",
     "output_type": "stream",
     "text": [
      " 12%|█▏        "
     ]
    },
    {
     "name": "stdout",
     "output_type": "stream",
     "text": [
      "e7d94cc7dfecbffd3fa147cad4b769c022d360896aa6b967c157151813a9db90.packed\n"
     ]
    },
    {
     "name": "stderr",
     "output_type": "stream",
     "text": [
      " 12%|█▏        "
     ]
    },
    {
     "name": "stdout",
     "output_type": "stream",
     "text": [
      "fileop\n"
     ]
    },
    {
     "name": "stderr",
     "output_type": "stream",
     "text": [
      " 12%|█▏        "
     ]
    },
    {
     "name": "stdout",
     "output_type": "stream",
     "text": [
      "fileop\n"
     ]
    },
    {
     "name": "stderr",
     "output_type": "stream",
     "text": [
      " 12%|█▏        "
     ]
    },
    {
     "name": "stdout",
     "output_type": "stream",
     "text": [
      "CursorEffect\n"
     ]
    },
    {
     "name": "stderr",
     "output_type": "stream",
     "text": [
      " 12%|█▏        "
     ]
    },
    {
     "name": "stdout",
     "output_type": "stream",
     "text": [
      "libffmpeg.dylib\n"
     ]
    },
    {
     "name": "stderr",
     "output_type": "stream",
     "text": [
      " 12%|█▏        "
     ]
    },
    {
     "name": "stdout",
     "output_type": "stream",
     "text": [
      "f67c81d9d8ffea952969723f2c6c385702ed7fc0ebb4fa144981715e2ebd9418.packed\n"
     ]
    },
    {
     "name": "stderr",
     "output_type": "stream",
     "text": [
      " 12%|█▏        "
     ]
    },
    {
     "name": "stdout",
     "output_type": "stream",
     "text": [
      "340e7fc84411b4632d704d15264011630d6b41094cfd954a1cd58241b52ba883.packed\n"
     ]
    },
    {
     "name": "stderr",
     "output_type": "stream",
     "text": [
      " 12%|█▎        "
     ]
    },
    {
     "name": "stdout",
     "output_type": "stream",
     "text": [
      "FileCompress-mac\n"
     ]
    },
    {
     "name": "stderr",
     "output_type": "stream",
     "text": [
      " 13%|█▎        "
     ]
    },
    {
     "name": "stdout",
     "output_type": "stream",
     "text": [
      "FileCompress-mac\n"
     ]
    },
    {
     "name": "stderr",
     "output_type": "stream",
     "text": [
      " 13%|█▎        "
     ]
    },
    {
     "name": "stdout",
     "output_type": "stream",
     "text": [
      "libswiftDispatch.dylib\n"
     ]
    },
    {
     "name": "stderr",
     "output_type": "stream",
     "text": [
      " 13%|█▎        "
     ]
    },
    {
     "name": "stdout",
     "output_type": "stream",
     "text": [
      "ProtobufLite\n"
     ]
    },
    {
     "name": "stderr",
     "output_type": "stream",
     "text": [
      " 13%|█▎        "
     ]
    },
    {
     "name": "stdout",
     "output_type": "stream",
     "text": [
      "ProtobufLite\n"
     ]
    },
    {
     "name": "stderr",
     "output_type": "stream",
     "text": [
      " 13%|█▎        "
     ]
    },
    {
     "name": "stdout",
     "output_type": "stream",
     "text": [
      "com.apple.iWork.ExternalResourceValidator\n"
     ]
    },
    {
     "name": "stderr",
     "output_type": "stream",
     "text": [
      " 13%|█▎        "
     ]
    },
    {
     "name": "stdout",
     "output_type": "stream",
     "text": [
      "com.apple.iWork.ExternalResourceValidator\n"
     ]
    },
    {
     "name": "stderr",
     "output_type": "stream",
     "text": [
      " 13%|█▎        "
     ]
    },
    {
     "name": "stdout",
     "output_type": "stream",
     "text": [
      "ab2c90c7899b5d175a121739122819e319579294053469337a2983f05c785b30.packed\n"
     ]
    },
    {
     "name": "stderr",
     "output_type": "stream",
     "text": [
      " 13%|█▎        "
     ]
    },
    {
     "name": "stdout",
     "output_type": "stream",
     "text": [
      "redis-server\n"
     ]
    },
    {
     "name": "stderr",
     "output_type": "stream",
     "text": [
      " 13%|█▎        "
     ]
    },
    {
     "name": "stdout",
     "output_type": "stream",
     "text": [
      "redis-server\n"
     ]
    },
    {
     "name": "stderr",
     "output_type": "stream",
     "text": [
      " 13%|█▎        "
     ]
    },
    {
     "name": "stdout",
     "output_type": "stream",
     "text": [
      "7e071d734d37638f8348b4a690eec832ecfb0d2f674d71fc1922091ff18f337a.packed\n"
     ]
    },
    {
     "name": "stderr",
     "output_type": "stream",
     "text": [
      " 13%|█▎        "
     ]
    },
    {
     "name": "stdout",
     "output_type": "stream",
     "text": [
      "0ae69d55c7e1cccabe58fd3b0273e89d7b1b01da9980fa2894e177af64bd2193.packed\n"
     ]
    },
    {
     "name": "stderr",
     "output_type": "stream",
     "text": [
      " 13%|█▎        "
     ]
    },
    {
     "name": "stdout",
     "output_type": "stream",
     "text": [
      "ShareExt\n"
     ]
    },
    {
     "name": "stderr",
     "output_type": "stream",
     "text": [
      " 13%|█▎        "
     ]
    },
    {
     "name": "stdout",
     "output_type": "stream",
     "text": [
      "ShareExt\n"
     ]
    },
    {
     "name": "stderr",
     "output_type": "stream",
     "text": [
      " 13%|█▎        "
     ]
    },
    {
     "name": "stdout",
     "output_type": "stream",
     "text": [
      "WireGuardLoginItemHelper\n"
     ]
    },
    {
     "name": "stderr",
     "output_type": "stream",
     "text": [
      " 13%|█▎        "
     ]
    },
    {
     "name": "stdout",
     "output_type": "stream",
     "text": [
      "WireGuardLoginItemHelper\n"
     ]
    },
    {
     "name": "stderr",
     "output_type": "stream",
     "text": [
      " 13%|█▎        "
     ]
    },
    {
     "name": "stdout",
     "output_type": "stream",
     "text": [
      "cursoreffecthelper\n"
     ]
    },
    {
     "name": "stderr",
     "output_type": "stream",
     "text": [
      " 13%|█▎        "
     ]
    },
    {
     "name": "stdout",
     "output_type": "stream",
     "text": [
      "AdGuard Login Helper\n"
     ]
    },
    {
     "name": "stderr",
     "output_type": "stream",
     "text": [
      " 13%|█▎        "
     ]
    },
    {
     "name": "stdout",
     "output_type": "stream",
     "text": [
      "AdGuard Login Helper\n"
     ]
    },
    {
     "name": "stderr",
     "output_type": "stream",
     "text": [
      " 13%|█▎        "
     ]
    },
    {
     "name": "stdout",
     "output_type": "stream",
     "text": [
      "Unsplash Wallpapers\n"
     ]
    },
    {
     "name": "stderr",
     "output_type": "stream",
     "text": [
      " 13%|█▎        "
     ]
    },
    {
     "name": "stdout",
     "output_type": "stream",
     "text": [
      "Unsplash Wallpapers\n"
     ]
    },
    {
     "name": "stderr",
     "output_type": "stream",
     "text": [
      " 13%|█▎        "
     ]
    },
    {
     "name": "stdout",
     "output_type": "stream",
     "text": [
      "Overcast\n"
     ]
    },
    {
     "name": "stderr",
     "output_type": "stream",
     "text": [
      " 13%|█▎        "
     ]
    },
    {
     "name": "stdout",
     "output_type": "stream",
     "text": [
      "Netiquette\n"
     ]
    },
    {
     "name": "stderr",
     "output_type": "stream",
     "text": [
      " 13%|█▎        "
     ]
    },
    {
     "name": "stdout",
     "output_type": "stream",
     "text": [
      "Netiquette\n"
     ]
    },
    {
     "name": "stderr",
     "output_type": "stream",
     "text": [
      " 13%|█▎        "
     ]
    },
    {
     "name": "stdout",
     "output_type": "stream",
     "text": [
      "Photos Protector\n"
     ]
    },
    {
     "name": "stderr",
     "output_type": "stream",
     "text": [
      " 13%|█▎        "
     ]
    },
    {
     "name": "stdout",
     "output_type": "stream",
     "text": [
      "QtQmlWorkerScript\n"
     ]
    },
    {
     "name": "stderr",
     "output_type": "stream",
     "text": [
      " 13%|█▎        "
     ]
    },
    {
     "name": "stdout",
     "output_type": "stream",
     "text": [
      "d781649d8d203e45e0ce3de2e1a98c53177b66260eaf7f23d7cb9a302ba9cf59.packed\n"
     ]
    },
    {
     "name": "stderr",
     "output_type": "stream",
     "text": [
      " 13%|█▎        "
     ]
    },
    {
     "name": "stdout",
     "output_type": "stream",
     "text": [
      "The Unarchiver\n"
     ]
    },
    {
     "name": "stderr",
     "output_type": "stream",
     "text": [
      " 13%|█▎        "
     ]
    },
    {
     "name": "stdout",
     "output_type": "stream",
     "text": [
      "The Unarchiver\n"
     ]
    },
    {
     "name": "stderr",
     "output_type": "stream",
     "text": [
      " 13%|█▎        "
     ]
    },
    {
     "name": "stdout",
     "output_type": "stream",
     "text": [
      "libswiftDispatch.dylib\n"
     ]
    },
    {
     "name": "stderr",
     "output_type": "stream",
     "text": [
      " 13%|█▎        "
     ]
    },
    {
     "name": "stdout",
     "output_type": "stream",
     "text": [
      "360_zip\n"
     ]
    },
    {
     "name": "stderr",
     "output_type": "stream",
     "text": [
      " 13%|█▎        "
     ]
    },
    {
     "name": "stdout",
     "output_type": "stream",
     "text": [
      "eeaf529e46b8330ae0cd9b54a0df0aef9cf6d0ea6f4a1c69600d6b7c8e631976.packed\n"
     ]
    },
    {
     "name": "stderr",
     "output_type": "stream",
     "text": [
      " 13%|█▎        "
     ]
    },
    {
     "name": "stdout",
     "output_type": "stream",
     "text": [
      "Messenger Helper (Plugin)\n"
     ]
    },
    {
     "name": "stderr",
     "output_type": "stream",
     "text": [
      " 13%|█▎        "
     ]
    },
    {
     "name": "stdout",
     "output_type": "stream",
     "text": [
      "6aa99571f92b52716c0e51f07bacb7853051bc54400b4f0e162a250edb73026e.packed\n"
     ]
    },
    {
     "name": "stderr",
     "output_type": "stream",
     "text": [
      " 13%|█▎        "
     ]
    },
    {
     "name": "stdout",
     "output_type": "stream",
     "text": [
      "libswiftDispatch.dylib\n"
     ]
    },
    {
     "name": "stderr",
     "output_type": "stream",
     "text": [
      " 13%|█▎        "
     ]
    },
    {
     "name": "stdout",
     "output_type": "stream",
     "text": [
      "Slack Helper (GPU)\n"
     ]
    },
    {
     "name": "stderr",
     "output_type": "stream",
     "text": [
      " 13%|█▎        "
     ]
    },
    {
     "name": "stdout",
     "output_type": "stream",
     "text": [
      "Slack Helper (GPU)\n"
     ]
    },
    {
     "name": "stderr",
     "output_type": "stream",
     "text": [
      " 14%|█▎        "
     ]
    },
    {
     "name": "stdout",
     "output_type": "stream",
     "text": [
      "QtQuickTemplates2\n"
     ]
    },
    {
     "name": "stderr",
     "output_type": "stream",
     "text": [
      " 14%|█▎        "
     ]
    },
    {
     "name": "stdout",
     "output_type": "stream",
     "text": [
      "3e8aeb93cc19b288ccb9b5a30e547707815d19e8ad3afe5abfd02e98a95d2784.packed\n"
     ]
    },
    {
     "name": "stderr",
     "output_type": "stream",
     "text": [
      " 14%|█▎        "
     ]
    },
    {
     "name": "stdout",
     "output_type": "stream",
     "text": [
      "HydraExtension\n"
     ]
    },
    {
     "name": "stderr",
     "output_type": "stream",
     "text": [
      " 14%|█▎        "
     ]
    },
    {
     "name": "stdout",
     "output_type": "stream",
     "text": [
      "a1fe852fdfbf2fe3b58f96957060ad0d17c604757c4c333dcb069216fa131111.packed\n"
     ]
    },
    {
     "name": "stderr",
     "output_type": "stream",
     "text": [
      " 14%|█▎        "
     ]
    },
    {
     "name": "stdout",
     "output_type": "stream",
     "text": [
      "Snap\n"
     ]
    },
    {
     "name": "stderr",
     "output_type": "stream",
     "text": [
      " 14%|█▎        "
     ]
    },
    {
     "name": "stdout",
     "output_type": "stream",
     "text": [
      "Snap\n"
     ]
    },
    {
     "name": "stderr",
     "output_type": "stream",
     "text": [
      " 14%|█▎        "
     ]
    },
    {
     "name": "stdout",
     "output_type": "stream",
     "text": [
      "d0b924b1417537aadea57181a9f171348ae34e8d0ed66631bbace03c14b1b7d3.packed\n"
     ]
    },
    {
     "name": "stderr",
     "output_type": "stream",
     "text": [
      " 14%|█▎        "
     ]
    },
    {
     "name": "stdout",
     "output_type": "stream",
     "text": [
      "zoom.us\n"
     ]
    },
    {
     "name": "stderr",
     "output_type": "stream",
     "text": [
      " 14%|█▎        "
     ]
    },
    {
     "name": "stdout",
     "output_type": "stream",
     "text": [
      "Uzmeet\n"
     ]
    },
    {
     "name": "stderr",
     "output_type": "stream",
     "text": [
      " 14%|█▍        "
     ]
    },
    {
     "name": "stdout",
     "output_type": "stream",
     "text": [
      "771857471d60853150caecebe4ae356e68c9a4013f9f3abe7726660c8d5b492c.packed\n"
     ]
    },
    {
     "name": "stderr",
     "output_type": "stream",
     "text": [
      " 14%|█▍        "
     ]
    },
    {
     "name": "stdout",
     "output_type": "stream",
     "text": [
      "libqtgraphicaleffectsplugin.dylib\n"
     ]
    },
    {
     "name": "stderr",
     "output_type": "stream",
     "text": [
      " 14%|█▍        "
     ]
    },
    {
     "name": "stdout",
     "output_type": "stream",
     "text": [
      "libqtgraphicaleffectsplugin.dylib\n"
     ]
    },
    {
     "name": "stderr",
     "output_type": "stream",
     "text": [
      " 14%|█▍        "
     ]
    },
    {
     "name": "stdout",
     "output_type": "stream",
     "text": [
      "ed862f35366e873a6045dfe10c7ecb0332c8184fc15ae3ecd5c5358821174824.packed\n"
     ]
    },
    {
     "name": "stderr",
     "output_type": "stream",
     "text": [
      " 14%|█▍        "
     ]
    },
    {
     "name": "stdout",
     "output_type": "stream",
     "text": [
      "SamuraiSafe\n"
     ]
    },
    {
     "name": "stderr",
     "output_type": "stream",
     "text": [
      " 14%|█▍        "
     ]
    },
    {
     "name": "stdout",
     "output_type": "stream",
     "text": [
      "SamuraiSafe\n"
     ]
    },
    {
     "name": "stderr",
     "output_type": "stream",
     "text": [
      " 14%|█▍        "
     ]
    },
    {
     "name": "stdout",
     "output_type": "stream",
     "text": [
      "961db008add5f3e42749f0f0b10ce9e7f3f443312cfa352881a8a9fa5c75766b.packed\n"
     ]
    },
    {
     "name": "stderr",
     "output_type": "stream",
     "text": [
      " 14%|█▍        "
     ]
    },
    {
     "name": "stdout",
     "output_type": "stream",
     "text": [
      "TLUNotifier\n"
     ]
    },
    {
     "name": "stderr",
     "output_type": "stream",
     "text": [
      " 14%|█▍        "
     ]
    },
    {
     "name": "stdout",
     "output_type": "stream",
     "text": [
      "TLUNotifier\n"
     ]
    },
    {
     "name": "stderr",
     "output_type": "stream",
     "text": [
      " 14%|█▍        "
     ]
    },
    {
     "name": "stdout",
     "output_type": "stream",
     "text": [
      "liblfrmodifc.dylib\n"
     ]
    },
    {
     "name": "stderr",
     "output_type": "stream",
     "text": [
      " 14%|█▍        "
     ]
    },
    {
     "name": "stdout",
     "output_type": "stream",
     "text": [
      "com.amvidia.MP3ConverterXPC03\n"
     ]
    },
    {
     "name": "stderr",
     "output_type": "stream",
     "text": [
      " 14%|█▍        "
     ]
    },
    {
     "name": "stdout",
     "output_type": "stream",
     "text": [
      "7e04fdf6510a0aaf6e6fac8e4c2ae3b21165a5751df573e08b81f418e6eec477.packed\n"
     ]
    },
    {
     "name": "stderr",
     "output_type": "stream",
     "text": [
      " 14%|█▍        "
     ]
    },
    {
     "name": "stdout",
     "output_type": "stream",
     "text": [
      "AdGuardLoginHelper\n"
     ]
    },
    {
     "name": "stderr",
     "output_type": "stream",
     "text": [
      " 14%|█▍        "
     ]
    },
    {
     "name": "stdout",
     "output_type": "stream",
     "text": [
      "AdGuardLoginHelper\n"
     ]
    },
    {
     "name": "stderr",
     "output_type": "stream",
     "text": [
      " 14%|█▍        "
     ]
    },
    {
     "name": "stdout",
     "output_type": "stream",
     "text": [
      "PhotoFeed for Instagram\n"
     ]
    },
    {
     "name": "stderr",
     "output_type": "stream",
     "text": [
      " 14%|█▍        "
     ]
    },
    {
     "name": "stdout",
     "output_type": "stream",
     "text": [
      "caphost\n"
     ]
    },
    {
     "name": "stderr",
     "output_type": "stream",
     "text": [
      " 14%|█▍        "
     ]
    },
    {
     "name": "stdout",
     "output_type": "stream",
     "text": [
      "MasterPassword\n"
     ]
    },
    {
     "name": "stderr",
     "output_type": "stream",
     "text": [
      " 14%|█▍        "
     ]
    },
    {
     "name": "stdout",
     "output_type": "stream",
     "text": [
      "Loading\n"
     ]
    },
    {
     "name": "stderr",
     "output_type": "stream",
     "text": [
      " 14%|█▍        "
     ]
    },
    {
     "name": "stdout",
     "output_type": "stream",
     "text": [
      "Loading\n"
     ]
    },
    {
     "name": "stderr",
     "output_type": "stream",
     "text": [
      " 14%|█▍        "
     ]
    },
    {
     "name": "stdout",
     "output_type": "stream",
     "text": [
      "DICOMPrint\n"
     ]
    },
    {
     "name": "stderr",
     "output_type": "stream",
     "text": [
      " 14%|█▍        "
     ]
    },
    {
     "name": "stdout",
     "output_type": "stream",
     "text": [
      "6e65e6328891fef4d8246b5e599c69cb91266204da2316c08d4f1612a3ccd48d.packed\n"
     ]
    },
    {
     "name": "stderr",
     "output_type": "stream",
     "text": [
      " 14%|█▍        "
     ]
    },
    {
     "name": "stdout",
     "output_type": "stream",
     "text": [
      "BartenderStartAtLoginHelper\n"
     ]
    },
    {
     "name": "stderr",
     "output_type": "stream",
     "text": [
      " 14%|█▍        "
     ]
    },
    {
     "name": "stdout",
     "output_type": "stream",
     "text": [
      "BartenderStartAtLoginHelper\n"
     ]
    },
    {
     "name": "stderr",
     "output_type": "stream",
     "text": [
      " 14%|█▍        "
     ]
    },
    {
     "name": "stdout",
     "output_type": "stream",
     "text": [
      "e98788eab88e7dbab02a6d3ba20dd1b232a81e2b5db0491e2c7e77568d5e96ee.packed\n"
     ]
    },
    {
     "name": "stderr",
     "output_type": "stream",
     "text": [
      " 14%|█▍        "
     ]
    },
    {
     "name": "stdout",
     "output_type": "stream",
     "text": [
      "50161721efd02f259bf4c1b89bd13f732e86b168cd45fb6f79f4ca3afb09eb55.packed\n"
     ]
    },
    {
     "name": "stderr",
     "output_type": "stream",
     "text": [
      " 14%|█▍        "
     ]
    },
    {
     "name": "stdout",
     "output_type": "stream",
     "text": [
      "c3b26b3a6c4417b743525cc831e268c791cc66a2d6d3987fe784fbdbcf50bd38.packed\n"
     ]
    },
    {
     "name": "stderr",
     "output_type": "stream",
     "text": [
      " 14%|█▍        "
     ]
    },
    {
     "name": "stdout",
     "output_type": "stream",
     "text": [
      "LaTeXiT_App_extension_XPC_Service\n"
     ]
    },
    {
     "name": "stderr",
     "output_type": "stream",
     "text": [
      " 14%|█▍        "
     ]
    },
    {
     "name": "stdout",
     "output_type": "stream",
     "text": [
      "LaTeXiT_App_extension_XPC_Service\n"
     ]
    },
    {
     "name": "stderr",
     "output_type": "stream",
     "text": [
      " 15%|█▍        "
     ]
    },
    {
     "name": "stdout",
     "output_type": "stream",
     "text": [
      "com.vmware.horizon.CDSHelper\n"
     ]
    },
    {
     "name": "stderr",
     "output_type": "stream",
     "text": [
      " 15%|█▍        "
     ]
    },
    {
     "name": "stdout",
     "output_type": "stream",
     "text": [
      "libswiftDispatch.dylib\n"
     ]
    },
    {
     "name": "stderr",
     "output_type": "stream",
     "text": [
      " 15%|█▍        "
     ]
    },
    {
     "name": "stdout",
     "output_type": "stream",
     "text": [
      "LaunchAtLoginHelper\n"
     ]
    },
    {
     "name": "stderr",
     "output_type": "stream",
     "text": [
      " 15%|█▍        "
     ]
    },
    {
     "name": "stdout",
     "output_type": "stream",
     "text": [
      "LaunchAtLoginHelper\n"
     ]
    },
    {
     "name": "stderr",
     "output_type": "stream",
     "text": [
      " 15%|█▍        "
     ]
    },
    {
     "name": "stdout",
     "output_type": "stream",
     "text": [
      "Hush\n"
     ]
    },
    {
     "name": "stderr",
     "output_type": "stream",
     "text": [
      " 15%|█▍        "
     ]
    },
    {
     "name": "stdout",
     "output_type": "stream",
     "text": [
      "Hush\n"
     ]
    },
    {
     "name": "stderr",
     "output_type": "stream",
     "text": [
      " 15%|█▍        "
     ]
    },
    {
     "name": "stdout",
     "output_type": "stream",
     "text": [
      "Signal Helper (Plugin)\n"
     ]
    },
    {
     "name": "stderr",
     "output_type": "stream",
     "text": [
      " 15%|█▍        "
     ]
    },
    {
     "name": "stdout",
     "output_type": "stream",
     "text": [
      "LINE.TimelinePreviewService\n"
     ]
    },
    {
     "name": "stderr",
     "output_type": "stream",
     "text": [
      " 15%|█▍        "
     ]
    },
    {
     "name": "stdout",
     "output_type": "stream",
     "text": [
      "LINE.TimelinePreviewService\n"
     ]
    },
    {
     "name": "stderr",
     "output_type": "stream",
     "text": [
      " 15%|█▍        "
     ]
    },
    {
     "name": "stdout",
     "output_type": "stream",
     "text": [
      "87bbf5a228e7a258d7847180403a4d25b6a5cb9e54cea37e227ccaead3931d9e.packed\n"
     ]
    },
    {
     "name": "stderr",
     "output_type": "stream",
     "text": [
      " 15%|█▍        "
     ]
    },
    {
     "name": "stdout",
     "output_type": "stream",
     "text": [
      "Do Not Disturb Installer\n"
     ]
    },
    {
     "name": "stderr",
     "output_type": "stream",
     "text": [
      " 15%|█▍        "
     ]
    },
    {
     "name": "stdout",
     "output_type": "stream",
     "text": [
      "Personal Menu Launcher\n"
     ]
    },
    {
     "name": "stderr",
     "output_type": "stream",
     "text": [
      " 15%|█▍        "
     ]
    },
    {
     "name": "stdout",
     "output_type": "stream",
     "text": [
      "1Blocker\n"
     ]
    },
    {
     "name": "stderr",
     "output_type": "stream",
     "text": [
      " 15%|█▍        "
     ]
    },
    {
     "name": "stdout",
     "output_type": "stream",
     "text": [
      "1Blocker\n"
     ]
    },
    {
     "name": "stderr",
     "output_type": "stream",
     "text": [
      " 15%|█▍        "
     ]
    },
    {
     "name": "stdout",
     "output_type": "stream",
     "text": [
      "0266f1d90d39bbeb19e9432d431bb4aac7d1d524898e2fa2cd95eda46ae7d27d.packed\n"
     ]
    },
    {
     "name": "stderr",
     "output_type": "stream",
     "text": [
      " 15%|█▍        "
     ]
    },
    {
     "name": "stdout",
     "output_type": "stream",
     "text": [
      "HotKeys\n"
     ]
    },
    {
     "name": "stderr",
     "output_type": "stream",
     "text": [
      " 15%|█▍        "
     ]
    },
    {
     "name": "stdout",
     "output_type": "stream",
     "text": [
      "Microsoft Teams Helper\n"
     ]
    },
    {
     "name": "stderr",
     "output_type": "stream",
     "text": [
      " 15%|█▍        "
     ]
    },
    {
     "name": "stdout",
     "output_type": "stream",
     "text": [
      "42404683f5c2769b63c522af07db0926f0ab4b4c20b625b9f7cb34204f44c5ef.packed\n"
     ]
    },
    {
     "name": "stderr",
     "output_type": "stream",
     "text": [
      " 15%|█▌        "
     ]
    },
    {
     "name": "stdout",
     "output_type": "stream",
     "text": [
      "DHS\n"
     ]
    },
    {
     "name": "stderr",
     "output_type": "stream",
     "text": [
      " 15%|█▌        "
     ]
    },
    {
     "name": "stdout",
     "output_type": "stream",
     "text": [
      "Lockdown\n"
     ]
    },
    {
     "name": "stderr",
     "output_type": "stream",
     "text": [
      " 15%|█▌        "
     ]
    },
    {
     "name": "stdout",
     "output_type": "stream",
     "text": [
      "Sentry\n"
     ]
    },
    {
     "name": "stderr",
     "output_type": "stream",
     "text": [
      " 15%|█▌        "
     ]
    },
    {
     "name": "stdout",
     "output_type": "stream",
     "text": [
      "Sentry\n"
     ]
    },
    {
     "name": "stderr",
     "output_type": "stream",
     "text": [
      " 15%|█▌        "
     ]
    },
    {
     "name": "stdout",
     "output_type": "stream",
     "text": [
      "BIG Red Button\n"
     ]
    },
    {
     "name": "stderr",
     "output_type": "stream",
     "text": [
      " 15%|█▌        "
     ]
    },
    {
     "name": "stdout",
     "output_type": "stream",
     "text": [
      "ASAPLauncher\n"
     ]
    },
    {
     "name": "stderr",
     "output_type": "stream",
     "text": [
      " 15%|█▌        "
     ]
    },
    {
     "name": "stdout",
     "output_type": "stream",
     "text": [
      "ASAPLauncher\n"
     ]
    },
    {
     "name": "stderr",
     "output_type": "stream",
     "text": [
      " 15%|█▌        "
     ]
    },
    {
     "name": "stdout",
     "output_type": "stream",
     "text": [
      "vmware-usbarbitrator\n"
     ]
    },
    {
     "name": "stderr",
     "output_type": "stream",
     "text": [
      " 15%|█▌        "
     ]
    },
    {
     "name": "stdout",
     "output_type": "stream",
     "text": [
      "Controlly\n"
     ]
    },
    {
     "name": "stderr",
     "output_type": "stream",
     "text": [
      " 15%|█▌        "
     ]
    },
    {
     "name": "stdout",
     "output_type": "stream",
     "text": [
      "Controlly\n"
     ]
    },
    {
     "name": "stderr",
     "output_type": "stream",
     "text": [
      " 15%|█▌        "
     ]
    },
    {
     "name": "stdout",
     "output_type": "stream",
     "text": [
      "Port Map\n"
     ]
    },
    {
     "name": "stderr",
     "output_type": "stream",
     "text": [
      " 15%|█▌        "
     ]
    },
    {
     "name": "stdout",
     "output_type": "stream",
     "text": [
      "Port Map\n"
     ]
    },
    {
     "name": "stderr",
     "output_type": "stream",
     "text": [
      " 15%|█▌        "
     ]
    },
    {
     "name": "stdout",
     "output_type": "stream",
     "text": [
      "dbe66436b77d794d025046c9beb6f1457aae9a6c4e7444c233559b3f8d3debe1.packed\n"
     ]
    },
    {
     "name": "stderr",
     "output_type": "stream",
     "text": [
      " 15%|█▌        "
     ]
    },
    {
     "name": "stdout",
     "output_type": "stream",
     "text": [
      "libtwform.dylib\n"
     ]
    },
    {
     "name": "stderr",
     "output_type": "stream",
     "text": [
      " 15%|█▌        "
     ]
    },
    {
     "name": "stdout",
     "output_type": "stream",
     "text": [
      "b5c228d58b22c982c707efffac3aae2f8f2938e15dde2d61d4ca164f97addcb6.packed\n"
     ]
    },
    {
     "name": "stderr",
     "output_type": "stream",
     "text": [
      " 15%|█▌        "
     ]
    },
    {
     "name": "stdout",
     "output_type": "stream",
     "text": [
      "WidgetExtension\n"
     ]
    },
    {
     "name": "stderr",
     "output_type": "stream",
     "text": [
      " 15%|█▌        "
     ]
    },
    {
     "name": "stdout",
     "output_type": "stream",
     "text": [
      "WidgetConfiguration\n"
     ]
    },
    {
     "name": "stderr",
     "output_type": "stream",
     "text": [
      " 15%|█▌        "
     ]
    },
    {
     "name": "stdout",
     "output_type": "stream",
     "text": [
      "8c5056c1bf98cf9d145548acf3b71244df78f83ec939a9d027a421c21ae08c12.packed\n"
     ]
    },
    {
     "name": "stderr",
     "output_type": "stream",
     "text": [
      " 16%|█▌        "
     ]
    },
    {
     "name": "stdout",
     "output_type": "stream",
     "text": [
      "QtQmlWorkerScript\n"
     ]
    },
    {
     "name": "stderr",
     "output_type": "stream",
     "text": [
      " 16%|█▌        "
     ]
    },
    {
     "name": "stdout",
     "output_type": "stream",
     "text": [
      "QtQmlWorkerScript\n"
     ]
    },
    {
     "name": "stderr",
     "output_type": "stream",
     "text": [
      " 16%|█▌        "
     ]
    },
    {
     "name": "stdout",
     "output_type": "stream",
     "text": [
      "snowflake-client\n"
     ]
    },
    {
     "name": "stderr",
     "output_type": "stream",
     "text": [
      " 16%|█▌        "
     ]
    },
    {
     "name": "stdout",
     "output_type": "stream",
     "text": [
      "libEGL.dylib\n"
     ]
    },
    {
     "name": "stderr",
     "output_type": "stream",
     "text": [
      " 16%|█▌        "
     ]
    },
    {
     "name": "stdout",
     "output_type": "stream",
     "text": [
      "TextNow Helper (Renderer)\n"
     ]
    },
    {
     "name": "stderr",
     "output_type": "stream",
     "text": [
      " 16%|█▌        "
     ]
    },
    {
     "name": "stdout",
     "output_type": "stream",
     "text": [
      "libswiftDispatch.dylib\n"
     ]
    },
    {
     "name": "stderr",
     "output_type": "stream",
     "text": [
      " 16%|█▌        "
     ]
    },
    {
     "name": "stdout",
     "output_type": "stream",
     "text": [
      "Slack Helper (Renderer)\n"
     ]
    },
    {
     "name": "stderr",
     "output_type": "stream",
     "text": [
      " 16%|█▌        "
     ]
    },
    {
     "name": "stdout",
     "output_type": "stream",
     "text": [
      "Slack Helper (Renderer)\n"
     ]
    },
    {
     "name": "stderr",
     "output_type": "stream",
     "text": [
      " 16%|█▌        "
     ]
    },
    {
     "name": "stdout",
     "output_type": "stream",
     "text": [
      "Messenger Login Helper\n"
     ]
    },
    {
     "name": "stderr",
     "output_type": "stream",
     "text": [
      " 16%|█▌        "
     ]
    },
    {
     "name": "stdout",
     "output_type": "stream",
     "text": [
      "AdGuard Assistant\n"
     ]
    },
    {
     "name": "stderr",
     "output_type": "stream",
     "text": [
      " 16%|█▌        "
     ]
    },
    {
     "name": "stdout",
     "output_type": "stream",
     "text": [
      "AdGuard Assistant\n"
     ]
    },
    {
     "name": "stderr",
     "output_type": "stream",
     "text": [
      " 16%|█▌        "
     ]
    },
    {
     "name": "stdout",
     "output_type": "stream",
     "text": [
      "25f41b1826035fe5a8ff173173aec44745c3be30d60d903906b9b09288e4f9ee.packed\n"
     ]
    },
    {
     "name": "stderr",
     "output_type": "stream",
     "text": [
      " 16%|█▌        "
     ]
    },
    {
     "name": "stdout",
     "output_type": "stream",
     "text": [
      "libswiftDispatch.dylib\n"
     ]
    },
    {
     "name": "stderr",
     "output_type": "stream",
     "text": [
      " 16%|█▌        "
     ]
    },
    {
     "name": "stdout",
     "output_type": "stream",
     "text": [
      "c0dc86c3656249fd28419cbad8e0a6f5dc19ac8f96e620d0c34ece317875002c.packed\n"
     ]
    },
    {
     "name": "stderr",
     "output_type": "stream",
     "text": [
      " 16%|█▌        "
     ]
    },
    {
     "name": "stdout",
     "output_type": "stream",
     "text": [
      "BetternetAutorun\n"
     ]
    },
    {
     "name": "stderr",
     "output_type": "stream",
     "text": [
      " 16%|█▌        "
     ]
    },
    {
     "name": "stdout",
     "output_type": "stream",
     "text": [
      "Updater\n"
     ]
    },
    {
     "name": "stderr",
     "output_type": "stream",
     "text": [
      " 16%|█▌        "
     ]
    },
    {
     "name": "stdout",
     "output_type": "stream",
     "text": [
      "Updater\n"
     ]
    },
    {
     "name": "stderr",
     "output_type": "stream",
     "text": [
      " 16%|█▌        "
     ]
    },
    {
     "name": "stdout",
     "output_type": "stream",
     "text": [
      "com.objective-see.oversight.uninstallHelper\n"
     ]
    },
    {
     "name": "stderr",
     "output_type": "stream",
     "text": [
      " 16%|█▌        "
     ]
    },
    {
     "name": "stdout",
     "output_type": "stream",
     "text": [
      "com.objective-see.oversight.uninstallHelper\n"
     ]
    },
    {
     "name": "stderr",
     "output_type": "stream",
     "text": [
      " 16%|█▌        "
     ]
    },
    {
     "name": "stdout",
     "output_type": "stream",
     "text": [
      "Microsoft Teams Helper (Plugin)\n"
     ]
    },
    {
     "name": "stderr",
     "output_type": "stream",
     "text": [
      " 16%|█▌        "
     ]
    },
    {
     "name": "stdout",
     "output_type": "stream",
     "text": [
      "libomr.dylib\n"
     ]
    },
    {
     "name": "stderr",
     "output_type": "stream",
     "text": [
      " 16%|█▌        "
     ]
    },
    {
     "name": "stdout",
     "output_type": "stream",
     "text": [
      "InstallerRepairTool\n"
     ]
    },
    {
     "name": "stderr",
     "output_type": "stream",
     "text": [
      " 16%|█▌        "
     ]
    },
    {
     "name": "stdout",
     "output_type": "stream",
     "text": [
      "InstallerRepairTool\n"
     ]
    },
    {
     "name": "stderr",
     "output_type": "stream",
     "text": [
      " 16%|█▌        "
     ]
    },
    {
     "name": "stdout",
     "output_type": "stream",
     "text": [
      "3D Anatomy Learning\n"
     ]
    },
    {
     "name": "stderr",
     "output_type": "stream",
     "text": [
      " 16%|█▌        "
     ]
    },
    {
     "name": "stdout",
     "output_type": "stream",
     "text": [
      "3D Anatomy Learning\n"
     ]
    },
    {
     "name": "stderr",
     "output_type": "stream",
     "text": [
      " 16%|█▌        "
     ]
    },
    {
     "name": "stdout",
     "output_type": "stream",
     "text": [
      "ZoomUninstaller\n"
     ]
    },
    {
     "name": "stderr",
     "output_type": "stream",
     "text": [
      " 16%|█▌        "
     ]
    },
    {
     "name": "stdout",
     "output_type": "stream",
     "text": [
      "QR Creator Mini\n"
     ]
    },
    {
     "name": "stderr",
     "output_type": "stream",
     "text": [
      " 16%|█▌        "
     ]
    },
    {
     "name": "stdout",
     "output_type": "stream",
     "text": [
      "QR Creator Mini\n"
     ]
    },
    {
     "name": "stderr",
     "output_type": "stream",
     "text": [
      " 16%|█▋        "
     ]
    },
    {
     "name": "stdout",
     "output_type": "stream",
     "text": [
      "ab5f7f23f9db01dcfd57241e5c27f2cc9a2f6aae089cfea8d2fd0a010d762b3e.packed\n"
     ]
    },
    {
     "name": "stderr",
     "output_type": "stream",
     "text": [
      " 16%|█▋        "
     ]
    },
    {
     "name": "stdout",
     "output_type": "stream",
     "text": [
      "StockSpy Realtime Stocks Quote\n"
     ]
    },
    {
     "name": "stderr",
     "output_type": "stream",
     "text": [
      " 16%|█▋        "
     ]
    },
    {
     "name": "stdout",
     "output_type": "stream",
     "text": [
      "2f53a28e6cb3efd94e590ad2c8bc72c4e4514e065986055e8941c4428af84020.packed\n"
     ]
    },
    {
     "name": "stderr",
     "output_type": "stream",
     "text": [
      " 16%|█▋        "
     ]
    },
    {
     "name": "stdout",
     "output_type": "stream",
     "text": [
      "b07a7bd1852128159979df7e3df47736c23580cc2b3fec5414256d9d413f2dc3.packed\n"
     ]
    },
    {
     "name": "stderr",
     "output_type": "stream",
     "text": [
      " 16%|█▋        "
     ]
    },
    {
     "name": "stdout",
     "output_type": "stream",
     "text": [
      "e2bc9177db461f35eb34ef92c4442c265e0fc0a18a7b62a656094db8e7cfa22e.packed\n"
     ]
    },
    {
     "name": "stderr",
     "output_type": "stream",
     "text": [
      " 16%|█▋        "
     ]
    },
    {
     "name": "stdout",
     "output_type": "stream",
     "text": [
      "LINE.YukiService\n"
     ]
    },
    {
     "name": "stderr",
     "output_type": "stream",
     "text": [
      " 16%|█▋        "
     ]
    },
    {
     "name": "stdout",
     "output_type": "stream",
     "text": [
      "LINE.YukiService\n"
     ]
    },
    {
     "name": "stderr",
     "output_type": "stream",
     "text": [
      " 16%|█▋        "
     ]
    },
    {
     "name": "stdout",
     "output_type": "stream",
     "text": [
      "c93dd5c89892eed4a4a223beddad13eee6fd5e4af3549a5429bf716ada133b34.packed\n"
     ]
    },
    {
     "name": "stderr",
     "output_type": "stream",
     "text": [
      " 16%|█▋        "
     ]
    },
    {
     "name": "stdout",
     "output_type": "stream",
     "text": [
      "WallpapersLauncher\n"
     ]
    },
    {
     "name": "stderr",
     "output_type": "stream",
     "text": [
      " 17%|█▋        "
     ]
    },
    {
     "name": "stdout",
     "output_type": "stream",
     "text": [
      "WallpapersLauncher\n"
     ]
    },
    {
     "name": "stderr",
     "output_type": "stream",
     "text": [
      " 17%|█▋        "
     ]
    },
    {
     "name": "stdout",
     "output_type": "stream",
     "text": [
      "libiIAP.dylib\n"
     ]
    },
    {
     "name": "stderr",
     "output_type": "stream",
     "text": [
      " 17%|█▋        "
     ]
    },
    {
     "name": "stdout",
     "output_type": "stream",
     "text": [
      "3e6dd71d7802a4e23edd540b0492490f756ecaac9ba6616edc7570c0c5376799.packed\n"
     ]
    },
    {
     "name": "stderr",
     "output_type": "stream",
     "text": [
      " 17%|█▋        "
     ]
    },
    {
     "name": "stdout",
     "output_type": "stream",
     "text": [
      "libqquicklayoutsplugin.dylib\n"
     ]
    },
    {
     "name": "stderr",
     "output_type": "stream",
     "text": [
      " 17%|█▋        "
     ]
    },
    {
     "name": "stdout",
     "output_type": "stream",
     "text": [
      "e4a09a589faab0c5f8d7f0b9b557df1848c659b525cba812c0e2a95f6e69807e.packed\n"
     ]
    },
    {
     "name": "stderr",
     "output_type": "stream",
     "text": [
      " 17%|█▋        "
     ]
    },
    {
     "name": "stdout",
     "output_type": "stream",
     "text": [
      "3a1374ff03ae3aede4709a5bb42a18d752953dc744be900e4b5e1a57e026cbab.packed\n"
     ]
    },
    {
     "name": "stderr",
     "output_type": "stream",
     "text": [
      " 17%|█▋        "
     ]
    },
    {
     "name": "stdout",
     "output_type": "stream",
     "text": [
      "96eb19b1bbd70c46dcf1832995c3741ea20bdcfc3ee800ffe962eb4f0d44bcdd.packed\n"
     ]
    },
    {
     "name": "stderr",
     "output_type": "stream",
     "text": [
      " 17%|█▋        "
     ]
    },
    {
     "name": "stdout",
     "output_type": "stream",
     "text": [
      "3b228fc9a903a542870a98a1eac1d1dc74a0c5cad9433b2cfd20a6812bbaac31.packed\n"
     ]
    },
    {
     "name": "stderr",
     "output_type": "stream",
     "text": [
      " 17%|█▋        "
     ]
    },
    {
     "name": "stdout",
     "output_type": "stream",
     "text": [
      "AdGuardForSafariExtension\n"
     ]
    },
    {
     "name": "stderr",
     "output_type": "stream",
     "text": [
      " 17%|█▋        "
     ]
    },
    {
     "name": "stdout",
     "output_type": "stream",
     "text": [
      "AdGuardForSafariExtension\n"
     ]
    },
    {
     "name": "stderr",
     "output_type": "stream",
     "text": [
      " 17%|█▋        "
     ]
    },
    {
     "name": "stdout",
     "output_type": "stream",
     "text": [
      "QR Capture\n"
     ]
    },
    {
     "name": "stderr",
     "output_type": "stream",
     "text": [
      " 17%|█▋        "
     ]
    },
    {
     "name": "stdout",
     "output_type": "stream",
     "text": [
      "QR Capture\n"
     ]
    },
    {
     "name": "stderr",
     "output_type": "stream",
     "text": [
      " 17%|█▋        "
     ]
    },
    {
     "name": "stdout",
     "output_type": "stream",
     "text": [
      "b47827eb6f8be35f58d786037410e93040b2c25fb9d5c29a5227960744d08a79.packed\n"
     ]
    },
    {
     "name": "stderr",
     "output_type": "stream",
     "text": [
      " 17%|█▋        "
     ]
    },
    {
     "name": "stdout",
     "output_type": "stream",
     "text": [
      "com.bjango.istatmenus.installerhelper\n"
     ]
    },
    {
     "name": "stderr",
     "output_type": "stream",
     "text": [
      " 17%|█▋        "
     ]
    },
    {
     "name": "stdout",
     "output_type": "stream",
     "text": [
      "com.bjango.istatmenus.installerhelper\n"
     ]
    },
    {
     "name": "stderr",
     "output_type": "stream",
     "text": [
      " 17%|█▋        "
     ]
    },
    {
     "name": "stdout",
     "output_type": "stream",
     "text": [
      "Microsoft Word\n"
     ]
    },
    {
     "name": "stderr",
     "output_type": "stream",
     "text": [
      " 17%|█▋        "
     ]
    },
    {
     "name": "stdout",
     "output_type": "stream",
     "text": [
      "Microsoft Word\n"
     ]
    },
    {
     "name": "stderr",
     "output_type": "stream",
     "text": [
      " 17%|█▋        "
     ]
    },
    {
     "name": "stdout",
     "output_type": "stream",
     "text": [
      "RunCat\n"
     ]
    },
    {
     "name": "stderr",
     "output_type": "stream",
     "text": [
      " 17%|█▋        "
     ]
    },
    {
     "name": "stdout",
     "output_type": "stream",
     "text": [
      "RunCat\n"
     ]
    },
    {
     "name": "stderr",
     "output_type": "stream",
     "text": [
      " 17%|█▋        "
     ]
    },
    {
     "name": "stdout",
     "output_type": "stream",
     "text": [
      "ASAP\n"
     ]
    },
    {
     "name": "stderr",
     "output_type": "stream",
     "text": [
      " 17%|█▋        "
     ]
    },
    {
     "name": "stdout",
     "output_type": "stream",
     "text": [
      "ASAP\n"
     ]
    },
    {
     "name": "stderr",
     "output_type": "stream",
     "text": [
      " 17%|█▋        "
     ]
    },
    {
     "name": "stdout",
     "output_type": "stream",
     "text": [
      "4d85d7a543b87145e69ed56028fe0a93e5801e910620d01a5245f1e2719dd5c5.packed\n"
     ]
    },
    {
     "name": "stderr",
     "output_type": "stream",
     "text": [
      " 17%|█▋        "
     ]
    },
    {
     "name": "stdout",
     "output_type": "stream",
     "text": [
      "Nova\n"
     ]
    },
    {
     "name": "stderr",
     "output_type": "stream",
     "text": [
      " 17%|█▋        "
     ]
    },
    {
     "name": "stdout",
     "output_type": "stream",
     "text": [
      "Nova\n"
     ]
    },
    {
     "name": "stderr",
     "output_type": "stream",
     "text": [
      " 17%|█▋        "
     ]
    },
    {
     "name": "stdout",
     "output_type": "stream",
     "text": [
      "libqtquickextrasflatplugin.dylib\n"
     ]
    },
    {
     "name": "stderr",
     "output_type": "stream",
     "text": [
      " 17%|█▋        "
     ]
    },
    {
     "name": "stdout",
     "output_type": "stream",
     "text": [
      "15faa8c406811a4a0d372c0e379f81530f9e953652b91d48436bc9b58f7b4cb6.packed\n"
     ]
    },
    {
     "name": "stderr",
     "output_type": "stream",
     "text": [
      " 17%|█▋        "
     ]
    },
    {
     "name": "stdout",
     "output_type": "stream",
     "text": [
      "SmartPlay Extension\n"
     ]
    },
    {
     "name": "stderr",
     "output_type": "stream",
     "text": [
      " 17%|█▋        "
     ]
    },
    {
     "name": "stdout",
     "output_type": "stream",
     "text": [
      "SmartPlay Extension\n"
     ]
    },
    {
     "name": "stderr",
     "output_type": "stream",
     "text": [
      " 17%|█▋        "
     ]
    },
    {
     "name": "stdout",
     "output_type": "stream",
     "text": [
      "chrome_crashpad_handler\n"
     ]
    },
    {
     "name": "stderr",
     "output_type": "stream",
     "text": [
      " 17%|█▋        "
     ]
    },
    {
     "name": "stdout",
     "output_type": "stream",
     "text": [
      "WhatsYourSign\n"
     ]
    },
    {
     "name": "stderr",
     "output_type": "stream",
     "text": [
      " 17%|█▋        "
     ]
    },
    {
     "name": "stdout",
     "output_type": "stream",
     "text": [
      "WhatsYourSign\n"
     ]
    },
    {
     "name": "stderr",
     "output_type": "stream",
     "text": [
      " 17%|█▋        "
     ]
    },
    {
     "name": "stdout",
     "output_type": "stream",
     "text": [
      "Server Plus\n"
     ]
    },
    {
     "name": "stderr",
     "output_type": "stream",
     "text": [
      " 17%|█▋        "
     ]
    },
    {
     "name": "stdout",
     "output_type": "stream",
     "text": [
      "Server Plus\n"
     ]
    },
    {
     "name": "stderr",
     "output_type": "stream",
     "text": [
      " 17%|█▋        "
     ]
    },
    {
     "name": "stdout",
     "output_type": "stream",
     "text": [
      "822a9c7f93dce9269efbe3819a7b61d3bca4703f0993efc5030769999c0cb0fe.packed\n"
     ]
    },
    {
     "name": "stderr",
     "output_type": "stream",
     "text": [
      " 17%|█▋        "
     ]
    },
    {
     "name": "stdout",
     "output_type": "stream",
     "text": [
      "libswiftDispatch.dylib\n"
     ]
    },
    {
     "name": "stderr",
     "output_type": "stream",
     "text": [
      " 17%|█▋        "
     ]
    },
    {
     "name": "stdout",
     "output_type": "stream",
     "text": [
      "Connector\n"
     ]
    },
    {
     "name": "stderr",
     "output_type": "stream",
     "text": [
      " 17%|█▋        "
     ]
    },
    {
     "name": "stdout",
     "output_type": "stream",
     "text": [
      "Connector\n"
     ]
    },
    {
     "name": "stderr",
     "output_type": "stream",
     "text": [
      " 18%|█▊        "
     ]
    },
    {
     "name": "stdout",
     "output_type": "stream",
     "text": [
      "libqmacstyle.dylib\n"
     ]
    },
    {
     "name": "stderr",
     "output_type": "stream",
     "text": [
      " 18%|█▊        "
     ]
    },
    {
     "name": "stdout",
     "output_type": "stream",
     "text": [
      "780e56e543bbf6bbfc1efd42039da2c654d80e2322ca577ced540db121c24175.packed\n"
     ]
    },
    {
     "name": "stderr",
     "output_type": "stream",
     "text": [
      " 18%|█▊        "
     ]
    },
    {
     "name": "stdout",
     "output_type": "stream",
     "text": [
      "Better MenuBar\n"
     ]
    },
    {
     "name": "stderr",
     "output_type": "stream",
     "text": [
      " 18%|█▊        "
     ]
    },
    {
     "name": "stdout",
     "output_type": "stream",
     "text": [
      "LuLu Uninstaller\n"
     ]
    },
    {
     "name": "stderr",
     "output_type": "stream",
     "text": [
      " 18%|█▊        "
     ]
    },
    {
     "name": "stdout",
     "output_type": "stream",
     "text": [
      "Encrypto\n"
     ]
    },
    {
     "name": "stderr",
     "output_type": "stream",
     "text": [
      " 18%|█▊        "
     ]
    },
    {
     "name": "stdout",
     "output_type": "stream",
     "text": [
      "libswiftDispatch.dylib\n"
     ]
    },
    {
     "name": "stderr",
     "output_type": "stream",
     "text": [
      " 18%|█▊        "
     ]
    },
    {
     "name": "stdout",
     "output_type": "stream",
     "text": [
      "vmware-docker\n"
     ]
    },
    {
     "name": "stderr",
     "output_type": "stream",
     "text": [
      " 18%|█▊        "
     ]
    },
    {
     "name": "stdout",
     "output_type": "stream",
     "text": [
      "97b02ae84ad4de7d8c4fed0aa36e9d8b21f88c5e778bc8056320fde74f9305f9.packed\n"
     ]
    },
    {
     "name": "stderr",
     "output_type": "stream",
     "text": [
      " 18%|█▊        "
     ]
    },
    {
     "name": "stdout",
     "output_type": "stream",
     "text": [
      "Sentry\n"
     ]
    },
    {
     "name": "stderr",
     "output_type": "stream",
     "text": [
      " 18%|█▊        "
     ]
    },
    {
     "name": "stdout",
     "output_type": "stream",
     "text": [
      "Sentry\n"
     ]
    },
    {
     "name": "stderr",
     "output_type": "stream",
     "text": [
      " 18%|█▊        "
     ]
    },
    {
     "name": "stdout",
     "output_type": "stream",
     "text": [
      "ZoteroWordIntegrationService\n"
     ]
    },
    {
     "name": "stderr",
     "output_type": "stream",
     "text": [
      " 18%|█▊        "
     ]
    },
    {
     "name": "stdout",
     "output_type": "stream",
     "text": [
      "ZoteroWordIntegrationService\n"
     ]
    },
    {
     "name": "stderr",
     "output_type": "stream",
     "text": [
      " 18%|█▊        "
     ]
    },
    {
     "name": "stdout",
     "output_type": "stream",
     "text": [
      "b097eec98efc2d80e03d39c9b6ba63ce5e4464e985069ced1ca0c3b77140f941.packed\n"
     ]
    },
    {
     "name": "stderr",
     "output_type": "stream",
     "text": [
      " 18%|█▊        "
     ]
    },
    {
     "name": "stdout",
     "output_type": "stream",
     "text": [
      "b097eec98efc2d80e03d39c9b6ba63ce5e4464e985069ced1ca0c3b77140f941.packed\n"
     ]
    },
    {
     "name": "stderr",
     "output_type": "stream",
     "text": [
      " 18%|█▊        "
     ]
    },
    {
     "name": "stdout",
     "output_type": "stream",
     "text": [
      "QtDBus\n"
     ]
    },
    {
     "name": "stderr",
     "output_type": "stream",
     "text": [
      " 18%|█▊        "
     ]
    },
    {
     "name": "stdout",
     "output_type": "stream",
     "text": [
      "QtDBus\n"
     ]
    },
    {
     "name": "stderr",
     "output_type": "stream",
     "text": [
      " 18%|█▊        "
     ]
    },
    {
     "name": "stdout",
     "output_type": "stream",
     "text": [
      "HotKeyHelper\n"
     ]
    },
    {
     "name": "stderr",
     "output_type": "stream",
     "text": [
      " 18%|█▊        "
     ]
    },
    {
     "name": "stdout",
     "output_type": "stream",
     "text": [
      "HotKeyHelper\n"
     ]
    },
    {
     "name": "stderr",
     "output_type": "stream",
     "text": [
      " 18%|█▊        "
     ]
    },
    {
     "name": "stdout",
     "output_type": "stream",
     "text": [
      "Shepherd\n"
     ]
    },
    {
     "name": "stderr",
     "output_type": "stream",
     "text": [
      " 18%|█▊        "
     ]
    },
    {
     "name": "stdout",
     "output_type": "stream",
     "text": [
      "WeChatMacShare\n"
     ]
    },
    {
     "name": "stderr",
     "output_type": "stream",
     "text": [
      " 18%|█▊        "
     ]
    },
    {
     "name": "stdout",
     "output_type": "stream",
     "text": [
      "WeChatMacShare\n"
     ]
    },
    {
     "name": "stderr",
     "output_type": "stream",
     "text": [
      " 18%|█▊        "
     ]
    },
    {
     "name": "stdout",
     "output_type": "stream",
     "text": [
      "FinderSync\n"
     ]
    },
    {
     "name": "stderr",
     "output_type": "stream",
     "text": [
      " 18%|█▊        "
     ]
    },
    {
     "name": "stdout",
     "output_type": "stream",
     "text": [
      "Zip-Share\n"
     ]
    },
    {
     "name": "stderr",
     "output_type": "stream",
     "text": [
      " 18%|█▊        "
     ]
    },
    {
     "name": "stdout",
     "output_type": "stream",
     "text": [
      "Zip-Share\n"
     ]
    },
    {
     "name": "stderr",
     "output_type": "stream",
     "text": [
      " 18%|█▊        "
     ]
    },
    {
     "name": "stdout",
     "output_type": "stream",
     "text": [
      "2d38e7ef27c9a3408c7b85ca1c80ef0385401c5a4a57e3bf46021fbda6326641.packed\n"
     ]
    },
    {
     "name": "stderr",
     "output_type": "stream",
     "text": [
      " 18%|█▊        "
     ]
    },
    {
     "name": "stdout",
     "output_type": "stream",
     "text": [
      "Microsoft Error Reporting\n"
     ]
    },
    {
     "name": "stderr",
     "output_type": "stream",
     "text": [
      " 18%|█▊        "
     ]
    },
    {
     "name": "stdout",
     "output_type": "stream",
     "text": [
      "Microsoft Error Reporting\n"
     ]
    },
    {
     "name": "stderr",
     "output_type": "stream",
     "text": [
      " 18%|█▊        "
     ]
    },
    {
     "name": "stdout",
     "output_type": "stream",
     "text": [
      "Shazam\n"
     ]
    },
    {
     "name": "stderr",
     "output_type": "stream",
     "text": [
      " 18%|█▊        "
     ]
    },
    {
     "name": "stdout",
     "output_type": "stream",
     "text": [
      "bc5a8085789f0f99e3233bd1fbe2a36ad6e4e0dc925fa7aba1c450f202e9334c.packed\n"
     ]
    },
    {
     "name": "stderr",
     "output_type": "stream",
     "text": [
      " 18%|█▊        "
     ]
    },
    {
     "name": "stdout",
     "output_type": "stream",
     "text": [
      "6f07187b795f9df2753ce196e43766d88a9e0d782d6e1c113b18d306cbb25560.packed\n"
     ]
    },
    {
     "name": "stderr",
     "output_type": "stream",
     "text": [
      " 18%|█▊        "
     ]
    },
    {
     "name": "stdout",
     "output_type": "stream",
     "text": [
      "appdiagnose\n"
     ]
    },
    {
     "name": "stderr",
     "output_type": "stream",
     "text": [
      " 18%|█▊        "
     ]
    },
    {
     "name": "stdout",
     "output_type": "stream",
     "text": [
      "appdiagnose\n"
     ]
    },
    {
     "name": "stderr",
     "output_type": "stream",
     "text": [
      " 18%|█▊        "
     ]
    },
    {
     "name": "stdout",
     "output_type": "stream",
     "text": [
      "77912f211c9a8682c665a32018db1b49923b8d367bd9d7b32335fcdbf8b03fe6.packed\n"
     ]
    },
    {
     "name": "stderr",
     "output_type": "stream",
     "text": [
      " 18%|█▊        "
     ]
    },
    {
     "name": "stdout",
     "output_type": "stream",
     "text": [
      "adguard-connresolver\n"
     ]
    },
    {
     "name": "stderr",
     "output_type": "stream",
     "text": [
      " 18%|█▊        "
     ]
    },
    {
     "name": "stdout",
     "output_type": "stream",
     "text": [
      "adguard-connresolver\n"
     ]
    },
    {
     "name": "stderr",
     "output_type": "stream",
     "text": [
      " 18%|█▊        "
     ]
    },
    {
     "name": "stdout",
     "output_type": "stream",
     "text": [
      "iSaveWebExt\n"
     ]
    },
    {
     "name": "stderr",
     "output_type": "stream",
     "text": [
      " 19%|█▊        "
     ]
    },
    {
     "name": "stdout",
     "output_type": "stream",
     "text": [
      "6c87a141682dfde0f1fa6fe5130174ea5d9cc7181b496501886d44a54fbad453.packed\n"
     ]
    },
    {
     "name": "stderr",
     "output_type": "stream",
     "text": [
      " 19%|█▊        "
     ]
    },
    {
     "name": "stdout",
     "output_type": "stream",
     "text": [
      "Privacy\n"
     ]
    },
    {
     "name": "stderr",
     "output_type": "stream",
     "text": [
      " 19%|█▊        "
     ]
    },
    {
     "name": "stdout",
     "output_type": "stream",
     "text": [
      "Privacy\n"
     ]
    },
    {
     "name": "stderr",
     "output_type": "stream",
     "text": [
      " 19%|█▊        "
     ]
    },
    {
     "name": "stdout",
     "output_type": "stream",
     "text": [
      "BlocksKit\n"
     ]
    },
    {
     "name": "stderr",
     "output_type": "stream",
     "text": [
      " 19%|█▊        "
     ]
    },
    {
     "name": "stdout",
     "output_type": "stream",
     "text": [
      "BlocksKit\n"
     ]
    },
    {
     "name": "stderr",
     "output_type": "stream",
     "text": [
      " 19%|█▊        "
     ]
    },
    {
     "name": "stdout",
     "output_type": "stream",
     "text": [
      "Logi Bolt Uninstaller\n"
     ]
    },
    {
     "name": "stderr",
     "output_type": "stream",
     "text": [
      " 19%|█▊        "
     ]
    },
    {
     "name": "stdout",
     "output_type": "stream",
     "text": [
      "ToothFairy Helper\n"
     ]
    },
    {
     "name": "stderr",
     "output_type": "stream",
     "text": [
      " 19%|█▊        "
     ]
    },
    {
     "name": "stdout",
     "output_type": "stream",
     "text": [
      "ToothFairy Helper\n"
     ]
    },
    {
     "name": "stderr",
     "output_type": "stream",
     "text": [
      " 19%|█▊        "
     ]
    },
    {
     "name": "stdout",
     "output_type": "stream",
     "text": [
      "StopTheMadness\n"
     ]
    },
    {
     "name": "stderr",
     "output_type": "stream",
     "text": [
      " 19%|█▉        "
     ]
    },
    {
     "name": "stdout",
     "output_type": "stream",
     "text": [
      "StopTheMadness\n"
     ]
    },
    {
     "name": "stderr",
     "output_type": "stream",
     "text": [
      " 19%|█▉        "
     ]
    },
    {
     "name": "stdout",
     "output_type": "stream",
     "text": [
      "libtwcutlkr.dylib\n"
     ]
    },
    {
     "name": "stderr",
     "output_type": "stream",
     "text": [
      " 19%|█▉        "
     ]
    },
    {
     "name": "stdout",
     "output_type": "stream",
     "text": [
      "ZMScreenshot\n"
     ]
    },
    {
     "name": "stderr",
     "output_type": "stream",
     "text": [
      " 19%|█▉        "
     ]
    },
    {
     "name": "stdout",
     "output_type": "stream",
     "text": [
      "55d72109613b634d5fbb4a57603016f7a6179b450281e9f2b1dc67a3ee0b7fff.packed\n"
     ]
    },
    {
     "name": "stderr",
     "output_type": "stream",
     "text": [
      " 19%|█▉        "
     ]
    },
    {
     "name": "stdout",
     "output_type": "stream",
     "text": [
      "5a8297c5bd48007d9fa4ba03014f352d9ee69dff60b9fea9abb298985a9cc64c.packed\n"
     ]
    },
    {
     "name": "stderr",
     "output_type": "stream",
     "text": [
      " 19%|█▉        "
     ]
    },
    {
     "name": "stdout",
     "output_type": "stream",
     "text": [
      "Password Pad Lite\n"
     ]
    },
    {
     "name": "stderr",
     "output_type": "stream",
     "text": [
      " 19%|█▉        "
     ]
    },
    {
     "name": "stdout",
     "output_type": "stream",
     "text": [
      "Password Pad Lite\n"
     ]
    },
    {
     "name": "stderr",
     "output_type": "stream",
     "text": [
      " 19%|█▉        "
     ]
    },
    {
     "name": "stdout",
     "output_type": "stream",
     "text": [
      "CalendarWidgetExtension\n"
     ]
    },
    {
     "name": "stderr",
     "output_type": "stream",
     "text": [
      " 19%|█▉        "
     ]
    },
    {
     "name": "stdout",
     "output_type": "stream",
     "text": [
      "CalendarWidgetExtension\n"
     ]
    },
    {
     "name": "stderr",
     "output_type": "stream",
     "text": [
      " 19%|█▉        "
     ]
    },
    {
     "name": "stdout",
     "output_type": "stream",
     "text": [
      "b28d7c05c56260a33a03b32f32a43c6de63b3cd0bbdd1e3930ad11d3c425907f.packed\n"
     ]
    },
    {
     "name": "stderr",
     "output_type": "stream",
     "text": [
      " 19%|█▉        "
     ]
    },
    {
     "name": "stdout",
     "output_type": "stream",
     "text": [
      "1Password 7\n"
     ]
    },
    {
     "name": "stderr",
     "output_type": "stream",
     "text": [
      " 19%|█▉        "
     ]
    },
    {
     "name": "stdout",
     "output_type": "stream",
     "text": [
      "1Password 7\n"
     ]
    },
    {
     "name": "stderr",
     "output_type": "stream",
     "text": [
      " 19%|█▉        "
     ]
    },
    {
     "name": "stdout",
     "output_type": "stream",
     "text": [
      "libswiftDispatch.dylib\n"
     ]
    },
    {
     "name": "stderr",
     "output_type": "stream",
     "text": [
      " 19%|█▉        \n"
     ]
    },
    {
     "ename": "MemoryError",
     "evalue": "Unable to allocate 890. MiB for an array with shape (166722, 700) and data type object",
     "output_type": "error",
     "traceback": [
      "\u001b[0;31m---------------------------------------------------------------------------\u001b[0m",
      "\u001b[0;31mMemoryError\u001b[0m                               Traceback (most recent call last)",
      "\u001b[0;32m<ipython-input-20-4214e802d0de>\u001b[0m in \u001b[0;36m<module>\u001b[0;34m\u001b[0m\n\u001b[1;32m      3\u001b[0m \u001b[0;32mfor\u001b[0m \u001b[0mmach\u001b[0m \u001b[0;32min\u001b[0m \u001b[0mtqdm\u001b[0m\u001b[0;34m(\u001b[0m\u001b[0mmachos\u001b[0m\u001b[0;34m,\u001b[0m \u001b[0mbar_format\u001b[0m\u001b[0;34m=\u001b[0m\u001b[0;34m\"{l_bar}{bar}\"\u001b[0m\u001b[0;34m)\u001b[0m\u001b[0;34m:\u001b[0m\u001b[0;34m\u001b[0m\u001b[0;34m\u001b[0m\u001b[0m\n\u001b[1;32m      4\u001b[0m     \u001b[0mprint\u001b[0m\u001b[0;34m(\u001b[0m\u001b[0mmach\u001b[0m\u001b[0;34m[\u001b[0m\u001b[0;34m'name'\u001b[0m\u001b[0;34m]\u001b[0m\u001b[0;34m)\u001b[0m\u001b[0;34m\u001b[0m\u001b[0;34m\u001b[0m\u001b[0m\n\u001b[0;32m----> 5\u001b[0;31m     \u001b[0mdf\u001b[0m\u001b[0;34m.\u001b[0m\u001b[0mloc\u001b[0m\u001b[0;34m[\u001b[0m\u001b[0mcount\u001b[0m\u001b[0;34m]\u001b[0m \u001b[0;34m=\u001b[0m \u001b[0;36m0\u001b[0m  \u001b[0;31m# Initializes all values for the ID to zero.\u001b[0m\u001b[0;34m\u001b[0m\u001b[0;34m\u001b[0m\u001b[0m\n\u001b[0m\u001b[1;32m      6\u001b[0m     \u001b[0mdf\u001b[0m\u001b[0;34m.\u001b[0m\u001b[0mloc\u001b[0m\u001b[0;34m[\u001b[0m\u001b[0mcount\u001b[0m\u001b[0;34m,\u001b[0m \u001b[0mmach\u001b[0m\u001b[0;34m]\u001b[0m \u001b[0;34m=\u001b[0m \u001b[0;36m1\u001b[0m  \u001b[0;31m# Sets relevant features to a value of one.\u001b[0m\u001b[0;34m\u001b[0m\u001b[0;34m\u001b[0m\u001b[0m\n\u001b[1;32m      7\u001b[0m     \u001b[0mdf\u001b[0m\u001b[0;34m.\u001b[0m\u001b[0mloc\u001b[0m\u001b[0;34m[\u001b[0m\u001b[0mcount\u001b[0m\u001b[0;34m]\u001b[0m\u001b[0;34m[\u001b[0m\u001b[0;34m'name'\u001b[0m\u001b[0;34m]\u001b[0m \u001b[0;34m=\u001b[0m \u001b[0mmach\u001b[0m\u001b[0;34m[\u001b[0m\u001b[0;34m'name'\u001b[0m\u001b[0;34m]\u001b[0m\u001b[0;34m\u001b[0m\u001b[0;34m\u001b[0m\u001b[0m\n",
      "\u001b[0;32m~/anaconda3/envs/tensorflow_p36/lib/python3.6/site-packages/pandas/core/indexing.py\u001b[0m in \u001b[0;36m__setitem__\u001b[0;34m(self, key, value)\u001b[0m\n\u001b[1;32m    668\u001b[0m \u001b[0;34m\u001b[0m\u001b[0m\n\u001b[1;32m    669\u001b[0m         \u001b[0miloc\u001b[0m \u001b[0;34m=\u001b[0m \u001b[0mself\u001b[0m \u001b[0;32mif\u001b[0m \u001b[0mself\u001b[0m\u001b[0;34m.\u001b[0m\u001b[0mname\u001b[0m \u001b[0;34m==\u001b[0m \u001b[0;34m\"iloc\"\u001b[0m \u001b[0;32melse\u001b[0m \u001b[0mself\u001b[0m\u001b[0;34m.\u001b[0m\u001b[0mobj\u001b[0m\u001b[0;34m.\u001b[0m\u001b[0miloc\u001b[0m\u001b[0;34m\u001b[0m\u001b[0;34m\u001b[0m\u001b[0m\n\u001b[0;32m--> 670\u001b[0;31m         \u001b[0miloc\u001b[0m\u001b[0;34m.\u001b[0m\u001b[0m_setitem_with_indexer\u001b[0m\u001b[0;34m(\u001b[0m\u001b[0mindexer\u001b[0m\u001b[0;34m,\u001b[0m \u001b[0mvalue\u001b[0m\u001b[0;34m)\u001b[0m\u001b[0;34m\u001b[0m\u001b[0;34m\u001b[0m\u001b[0m\n\u001b[0m\u001b[1;32m    671\u001b[0m \u001b[0;34m\u001b[0m\u001b[0m\n\u001b[1;32m    672\u001b[0m     \u001b[0;32mdef\u001b[0m \u001b[0m_validate_key\u001b[0m\u001b[0;34m(\u001b[0m\u001b[0mself\u001b[0m\u001b[0;34m,\u001b[0m \u001b[0mkey\u001b[0m\u001b[0;34m,\u001b[0m \u001b[0maxis\u001b[0m\u001b[0;34m:\u001b[0m \u001b[0mint\u001b[0m\u001b[0;34m)\u001b[0m\u001b[0;34m:\u001b[0m\u001b[0;34m\u001b[0m\u001b[0;34m\u001b[0m\u001b[0m\n",
      "\u001b[0;32m~/anaconda3/envs/tensorflow_p36/lib/python3.6/site-packages/pandas/core/indexing.py\u001b[0m in \u001b[0;36m_setitem_with_indexer\u001b[0;34m(self, indexer, value)\u001b[0m\n\u001b[1;32m   1624\u001b[0m \u001b[0;34m\u001b[0m\u001b[0m\n\u001b[1;32m   1625\u001b[0m             \u001b[0;32mif\u001b[0m \u001b[0mmissing\u001b[0m\u001b[0;34m:\u001b[0m\u001b[0;34m\u001b[0m\u001b[0;34m\u001b[0m\u001b[0m\n\u001b[0;32m-> 1626\u001b[0;31m                 \u001b[0mself\u001b[0m\u001b[0;34m.\u001b[0m\u001b[0m_setitem_with_indexer_missing\u001b[0m\u001b[0;34m(\u001b[0m\u001b[0mindexer\u001b[0m\u001b[0;34m,\u001b[0m \u001b[0mvalue\u001b[0m\u001b[0;34m)\u001b[0m\u001b[0;34m\u001b[0m\u001b[0;34m\u001b[0m\u001b[0m\n\u001b[0m\u001b[1;32m   1627\u001b[0m                 \u001b[0;32mreturn\u001b[0m\u001b[0;34m\u001b[0m\u001b[0;34m\u001b[0m\u001b[0m\n\u001b[1;32m   1628\u001b[0m \u001b[0;34m\u001b[0m\u001b[0m\n",
      "\u001b[0;32m~/anaconda3/envs/tensorflow_p36/lib/python3.6/site-packages/pandas/core/indexing.py\u001b[0m in \u001b[0;36m_setitem_with_indexer_missing\u001b[0;34m(self, indexer, value)\u001b[0m\n\u001b[1;32m   1858\u001b[0m                 \u001b[0mvalue\u001b[0m \u001b[0;34m=\u001b[0m \u001b[0mSeries\u001b[0m\u001b[0;34m(\u001b[0m\u001b[0mvalue\u001b[0m\u001b[0;34m,\u001b[0m \u001b[0mindex\u001b[0m\u001b[0;34m=\u001b[0m\u001b[0mself\u001b[0m\u001b[0;34m.\u001b[0m\u001b[0mobj\u001b[0m\u001b[0;34m.\u001b[0m\u001b[0mcolumns\u001b[0m\u001b[0;34m,\u001b[0m \u001b[0mname\u001b[0m\u001b[0;34m=\u001b[0m\u001b[0mindexer\u001b[0m\u001b[0;34m)\u001b[0m\u001b[0;34m\u001b[0m\u001b[0;34m\u001b[0m\u001b[0m\n\u001b[1;32m   1859\u001b[0m \u001b[0;34m\u001b[0m\u001b[0m\n\u001b[0;32m-> 1860\u001b[0;31m             \u001b[0mself\u001b[0m\u001b[0;34m.\u001b[0m\u001b[0mobj\u001b[0m\u001b[0;34m.\u001b[0m\u001b[0m_mgr\u001b[0m \u001b[0;34m=\u001b[0m \u001b[0mself\u001b[0m\u001b[0;34m.\u001b[0m\u001b[0mobj\u001b[0m\u001b[0;34m.\u001b[0m\u001b[0mappend\u001b[0m\u001b[0;34m(\u001b[0m\u001b[0mvalue\u001b[0m\u001b[0;34m)\u001b[0m\u001b[0;34m.\u001b[0m\u001b[0m_mgr\u001b[0m\u001b[0;34m\u001b[0m\u001b[0;34m\u001b[0m\u001b[0m\n\u001b[0m\u001b[1;32m   1861\u001b[0m             \u001b[0mself\u001b[0m\u001b[0;34m.\u001b[0m\u001b[0mobj\u001b[0m\u001b[0;34m.\u001b[0m\u001b[0m_maybe_update_cacher\u001b[0m\u001b[0;34m(\u001b[0m\u001b[0mclear\u001b[0m\u001b[0;34m=\u001b[0m\u001b[0;32mTrue\u001b[0m\u001b[0;34m)\u001b[0m\u001b[0;34m\u001b[0m\u001b[0;34m\u001b[0m\u001b[0m\n\u001b[1;32m   1862\u001b[0m \u001b[0;34m\u001b[0m\u001b[0m\n",
      "\u001b[0;32m~/anaconda3/envs/tensorflow_p36/lib/python3.6/site-packages/pandas/core/frame.py\u001b[0m in \u001b[0;36mappend\u001b[0;34m(self, other, ignore_index, verify_integrity, sort)\u001b[0m\n\u001b[1;32m   7749\u001b[0m             \u001b[0mignore_index\u001b[0m\u001b[0;34m=\u001b[0m\u001b[0mignore_index\u001b[0m\u001b[0;34m,\u001b[0m\u001b[0;34m\u001b[0m\u001b[0;34m\u001b[0m\u001b[0m\n\u001b[1;32m   7750\u001b[0m             \u001b[0mverify_integrity\u001b[0m\u001b[0;34m=\u001b[0m\u001b[0mverify_integrity\u001b[0m\u001b[0;34m,\u001b[0m\u001b[0;34m\u001b[0m\u001b[0;34m\u001b[0m\u001b[0m\n\u001b[0;32m-> 7751\u001b[0;31m             \u001b[0msort\u001b[0m\u001b[0;34m=\u001b[0m\u001b[0msort\u001b[0m\u001b[0;34m,\u001b[0m\u001b[0;34m\u001b[0m\u001b[0;34m\u001b[0m\u001b[0m\n\u001b[0m\u001b[1;32m   7752\u001b[0m         )\n\u001b[1;32m   7753\u001b[0m \u001b[0;34m\u001b[0m\u001b[0m\n",
      "\u001b[0;32m~/anaconda3/envs/tensorflow_p36/lib/python3.6/site-packages/pandas/core/reshape/concat.py\u001b[0m in \u001b[0;36mconcat\u001b[0;34m(objs, axis, join, ignore_index, keys, levels, names, verify_integrity, sort, copy)\u001b[0m\n\u001b[1;32m    285\u001b[0m     )\n\u001b[1;32m    286\u001b[0m \u001b[0;34m\u001b[0m\u001b[0m\n\u001b[0;32m--> 287\u001b[0;31m     \u001b[0;32mreturn\u001b[0m \u001b[0mop\u001b[0m\u001b[0;34m.\u001b[0m\u001b[0mget_result\u001b[0m\u001b[0;34m(\u001b[0m\u001b[0;34m)\u001b[0m\u001b[0;34m\u001b[0m\u001b[0;34m\u001b[0m\u001b[0m\n\u001b[0m\u001b[1;32m    288\u001b[0m \u001b[0;34m\u001b[0m\u001b[0m\n\u001b[1;32m    289\u001b[0m \u001b[0;34m\u001b[0m\u001b[0m\n",
      "\u001b[0;32m~/anaconda3/envs/tensorflow_p36/lib/python3.6/site-packages/pandas/core/reshape/concat.py\u001b[0m in \u001b[0;36mget_result\u001b[0;34m(self)\u001b[0m\n\u001b[1;32m    501\u001b[0m \u001b[0;34m\u001b[0m\u001b[0m\n\u001b[1;32m    502\u001b[0m             new_data = concatenate_block_managers(\n\u001b[0;32m--> 503\u001b[0;31m                 \u001b[0mmgrs_indexers\u001b[0m\u001b[0;34m,\u001b[0m \u001b[0mself\u001b[0m\u001b[0;34m.\u001b[0m\u001b[0mnew_axes\u001b[0m\u001b[0;34m,\u001b[0m \u001b[0mconcat_axis\u001b[0m\u001b[0;34m=\u001b[0m\u001b[0mself\u001b[0m\u001b[0;34m.\u001b[0m\u001b[0mbm_axis\u001b[0m\u001b[0;34m,\u001b[0m \u001b[0mcopy\u001b[0m\u001b[0;34m=\u001b[0m\u001b[0mself\u001b[0m\u001b[0;34m.\u001b[0m\u001b[0mcopy\u001b[0m\u001b[0;34m,\u001b[0m\u001b[0;34m\u001b[0m\u001b[0;34m\u001b[0m\u001b[0m\n\u001b[0m\u001b[1;32m    504\u001b[0m             )\n\u001b[1;32m    505\u001b[0m             \u001b[0;32mif\u001b[0m \u001b[0;32mnot\u001b[0m \u001b[0mself\u001b[0m\u001b[0;34m.\u001b[0m\u001b[0mcopy\u001b[0m\u001b[0;34m:\u001b[0m\u001b[0;34m\u001b[0m\u001b[0;34m\u001b[0m\u001b[0m\n",
      "\u001b[0;32m~/anaconda3/envs/tensorflow_p36/lib/python3.6/site-packages/pandas/core/internals/concat.py\u001b[0m in \u001b[0;36mconcatenate_block_managers\u001b[0;34m(mgrs_indexers, axes, concat_axis, copy)\u001b[0m\n\u001b[1;32m     77\u001b[0m         \u001b[0;32melse\u001b[0m\u001b[0;34m:\u001b[0m\u001b[0;34m\u001b[0m\u001b[0;34m\u001b[0m\u001b[0m\n\u001b[1;32m     78\u001b[0m             b = make_block(\n\u001b[0;32m---> 79\u001b[0;31m                 \u001b[0m_concatenate_join_units\u001b[0m\u001b[0;34m(\u001b[0m\u001b[0mjoin_units\u001b[0m\u001b[0;34m,\u001b[0m \u001b[0mconcat_axis\u001b[0m\u001b[0;34m,\u001b[0m \u001b[0mcopy\u001b[0m\u001b[0;34m=\u001b[0m\u001b[0mcopy\u001b[0m\u001b[0;34m,\u001b[0m\u001b[0;34m)\u001b[0m\u001b[0;34m,\u001b[0m\u001b[0;34m\u001b[0m\u001b[0;34m\u001b[0m\u001b[0m\n\u001b[0m\u001b[1;32m     80\u001b[0m                 \u001b[0mplacement\u001b[0m\u001b[0;34m=\u001b[0m\u001b[0mplacement\u001b[0m\u001b[0;34m,\u001b[0m\u001b[0;34m\u001b[0m\u001b[0;34m\u001b[0m\u001b[0m\n\u001b[1;32m     81\u001b[0m             )\n",
      "\u001b[0;32m~/anaconda3/envs/tensorflow_p36/lib/python3.6/site-packages/pandas/core/internals/concat.py\u001b[0m in \u001b[0;36m_concatenate_join_units\u001b[0;34m(join_units, concat_axis, copy)\u001b[0m\n\u001b[1;32m    344\u001b[0m             \u001b[0mconcat_values\u001b[0m \u001b[0;34m=\u001b[0m \u001b[0mnp\u001b[0m\u001b[0;34m.\u001b[0m\u001b[0matleast_2d\u001b[0m\u001b[0;34m(\u001b[0m\u001b[0mconcat_values\u001b[0m\u001b[0;34m)\u001b[0m\u001b[0;34m\u001b[0m\u001b[0;34m\u001b[0m\u001b[0m\n\u001b[1;32m    345\u001b[0m     \u001b[0;32melse\u001b[0m\u001b[0;34m:\u001b[0m\u001b[0;34m\u001b[0m\u001b[0;34m\u001b[0m\u001b[0m\n\u001b[0;32m--> 346\u001b[0;31m         \u001b[0mconcat_values\u001b[0m \u001b[0;34m=\u001b[0m \u001b[0mconcat_compat\u001b[0m\u001b[0;34m(\u001b[0m\u001b[0mto_concat\u001b[0m\u001b[0;34m,\u001b[0m \u001b[0maxis\u001b[0m\u001b[0;34m=\u001b[0m\u001b[0mconcat_axis\u001b[0m\u001b[0;34m,\u001b[0m\u001b[0;34m)\u001b[0m\u001b[0;34m\u001b[0m\u001b[0;34m\u001b[0m\u001b[0m\n\u001b[0m\u001b[1;32m    347\u001b[0m \u001b[0;34m\u001b[0m\u001b[0m\n\u001b[1;32m    348\u001b[0m     \u001b[0;32mreturn\u001b[0m \u001b[0mconcat_values\u001b[0m\u001b[0;34m\u001b[0m\u001b[0;34m\u001b[0m\u001b[0m\n",
      "\u001b[0;32m~/anaconda3/envs/tensorflow_p36/lib/python3.6/site-packages/pandas/core/dtypes/concat.py\u001b[0m in \u001b[0;36mconcat_compat\u001b[0;34m(to_concat, axis)\u001b[0m\n\u001b[1;32m    178\u001b[0m                 \u001b[0mto_concat\u001b[0m \u001b[0;34m=\u001b[0m \u001b[0;34m[\u001b[0m\u001b[0mx\u001b[0m\u001b[0;34m.\u001b[0m\u001b[0mastype\u001b[0m\u001b[0;34m(\u001b[0m\u001b[0;34m\"object\"\u001b[0m\u001b[0;34m)\u001b[0m \u001b[0;32mfor\u001b[0m \u001b[0mx\u001b[0m \u001b[0;32min\u001b[0m \u001b[0mto_concat\u001b[0m\u001b[0;34m]\u001b[0m\u001b[0;34m\u001b[0m\u001b[0;34m\u001b[0m\u001b[0m\n\u001b[1;32m    179\u001b[0m \u001b[0;34m\u001b[0m\u001b[0m\n\u001b[0;32m--> 180\u001b[0;31m     \u001b[0;32mreturn\u001b[0m \u001b[0mnp\u001b[0m\u001b[0;34m.\u001b[0m\u001b[0mconcatenate\u001b[0m\u001b[0;34m(\u001b[0m\u001b[0mto_concat\u001b[0m\u001b[0;34m,\u001b[0m \u001b[0maxis\u001b[0m\u001b[0;34m=\u001b[0m\u001b[0maxis\u001b[0m\u001b[0;34m)\u001b[0m\u001b[0;34m\u001b[0m\u001b[0;34m\u001b[0m\u001b[0m\n\u001b[0m\u001b[1;32m    181\u001b[0m \u001b[0;34m\u001b[0m\u001b[0m\n\u001b[1;32m    182\u001b[0m \u001b[0;34m\u001b[0m\u001b[0m\n",
      "\u001b[0;32m<__array_function__ internals>\u001b[0m in \u001b[0;36mconcatenate\u001b[0;34m(*args, **kwargs)\u001b[0m\n",
      "\u001b[0;31mMemoryError\u001b[0m: Unable to allocate 890. MiB for an array with shape (166722, 700) and data type object"
     ]
    }
   ],
   "source": [
    "df = pd.DataFrame(columns=set(keys))\n",
    "count = 0\n",
    "for mach in tqdm(machos, bar_format=\"{l_bar}{bar}\"):\n",
    "    print(mach['name'])\n",
    "    df.loc[count] = 0  # Initializes all values for the ID to zero.\n",
    "    df.loc[count, mach] = 1  # Sets relevant features to a value of one.\n",
    "    df.loc[count]['name'] = mach['name']\n",
    "    df.loc[count]['size'] = mach['size'] # update non-binary columns\n",
    "    df.loc[count]['entropy'] = mach['entropy']\n",
    "    df.loc[count]['nlcs'] = mach['nlcs']\n",
    "    df.loc[count]['slcs'] = mach['slcs']\n",
    "    count += 1"
   ]
  },
  {
   "cell_type": "code",
   "execution_count": null,
   "id": "ed57ee2a",
   "metadata": {},
   "outputs": [],
   "source": [
    "# Every column is an object. Iterate the column and set to appropriate types\n",
    "for column in df.columns:\n",
    "    a = df[column].describe()\n",
    "    df[column] = df[column].astype(a.dtype)"
   ]
  },
  {
   "cell_type": "code",
   "execution_count": null,
   "id": "0fc0dec3",
   "metadata": {},
   "outputs": [],
   "source": [
    "df.name.value_counts()"
   ]
  },
  {
   "cell_type": "markdown",
   "id": "31f0f0ab",
   "metadata": {},
   "source": [
    "# Feature Selection\n",
    "SelectKBest"
   ]
  },
  {
   "cell_type": "code",
   "execution_count": null,
   "id": "7d2d9e8b",
   "metadata": {},
   "outputs": [],
   "source": [
    "from sklearn.feature_selection import SelectKBest, mutual_info_regression\n",
    "#Select top 2 features based on mutual info regression\n",
    "X = df.drop(['packed','name','malware'], axis=1)\n",
    "y = df['packed']\n",
    "selector = SelectKBest(mutual_info_regression, k=200)\n",
    "selector.fit(X, y)\n",
    "X.columns[selector.get_support()]"
   ]
  },
  {
   "cell_type": "code",
   "execution_count": null,
   "id": "1014d8c9",
   "metadata": {},
   "outputs": [],
   "source": [
    "for col in X.columns[selector.get_support()]:\n",
    "    print(col)"
   ]
  },
  {
   "cell_type": "code",
   "execution_count": null,
   "id": "ce3da7d0",
   "metadata": {},
   "outputs": [],
   "source": [
    "for column in df.columns:\n",
    "    if \"upx\" in column:\n",
    "        print(column)"
   ]
  },
  {
   "cell_type": "code",
   "execution_count": null,
   "id": "8434f984",
   "metadata": {},
   "outputs": [],
   "source": [
    "df[df[\"segment_upxTEXT\"]==1][\"segment_upxTEXT\"]"
   ]
  },
  {
   "cell_type": "code",
   "execution_count": null,
   "id": "2f4237a2",
   "metadata": {},
   "outputs": [],
   "source": [
    "test = {'name': '__TEXT', 'segment___TEXT_vmsize': 167936, 'segment___TEXT_size': 632, 'segment___TEXT_initprot': 'r-x', 'segment___TEXT_maxprot': 'r-x', 'segment___TEXT_nsects': 7, 'segment___TEXT_entropy': 0.7824717353762201}"
   ]
  },
  {
   "cell_type": "code",
   "execution_count": null,
   "id": "6b86fa8a",
   "metadata": {},
   "outputs": [],
   "source": [
    "for k,v in test.items():\n",
    "    print(v)"
   ]
  },
  {
   "cell_type": "code",
   "execution_count": null,
   "id": "3de08595",
   "metadata": {},
   "outputs": [],
   "source": [
    "df"
   ]
  },
  {
   "cell_type": "code",
   "execution_count": 3,
   "id": "7db26354",
   "metadata": {},
   "outputs": [
    {
     "data": {
      "text/plain": [
       "1873"
      ]
     },
     "execution_count": 3,
     "metadata": {},
     "output_type": "execute_result"
    }
   ],
   "source": [
    "len(files)"
   ]
  },
  {
   "cell_type": "code",
   "execution_count": 4,
   "id": "3fe7ceff",
   "metadata": {},
   "outputs": [
    {
     "data": {
      "text/plain": [
       "3664"
      ]
     },
     "execution_count": 4,
     "metadata": {},
     "output_type": "execute_result"
    }
   ],
   "source": [
    "len(machos)"
   ]
  },
  {
   "cell_type": "code",
   "execution_count": null,
   "id": "5575eeef",
   "metadata": {},
   "outputs": [],
   "source": []
  }
 ],
 "metadata": {
  "kernelspec": {
   "display_name": "conda_tensorflow_p36",
   "language": "python",
   "name": "conda_tensorflow_p36"
  },
  "language_info": {
   "codemirror_mode": {
    "name": "ipython",
    "version": 3
   },
   "file_extension": ".py",
   "mimetype": "text/x-python",
   "name": "python",
   "nbconvert_exporter": "python",
   "pygments_lexer": "ipython3",
   "version": "3.6.13"
  }
 },
 "nbformat": 4,
 "nbformat_minor": 5
}
